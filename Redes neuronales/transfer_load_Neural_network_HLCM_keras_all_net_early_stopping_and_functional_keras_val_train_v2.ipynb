{
  "cells": [
    {
      "cell_type": "markdown",
      "metadata": {
        "id": "view-in-github",
        "colab_type": "text"
      },
      "source": [
        "<a href=\"https://colab.research.google.com/github/lazarogibert/Tesis/blob/main/transfer_load_Neural_network_HLCM_keras_all_net_early_stopping_and_functional_keras_val_train_v2.ipynb\" target=\"_parent\"><img src=\"https://colab.research.google.com/assets/colab-badge.svg\" alt=\"Open In Colab\"/></a>"
      ]
    },
    {
      "cell_type": "markdown",
      "metadata": {
        "id": "Gl4hqbmkjYm1"
      },
      "source": [
        "#Installing and importring libraries"
      ]
    },
    {
      "cell_type": "code",
      "source": [
        "from google.colab import drive\n",
        "drive.mount('/content/drive')"
      ],
      "metadata": {
        "id": "kIGl9dF0M_z8",
        "colab": {
          "base_uri": "https://localhost:8080/"
        },
        "outputId": "9485aaeb-e563-4c6b-c090-2e7ea4ffbb97"
      },
      "execution_count": 1,
      "outputs": [
        {
          "output_type": "stream",
          "name": "stdout",
          "text": [
            "Mounted at /content/drive\n"
          ]
        }
      ]
    },
    {
      "cell_type": "code",
      "execution_count": 2,
      "metadata": {
        "id": "ZcqSe6HkXieQ",
        "colab": {
          "base_uri": "https://localhost:8080/"
        },
        "outputId": "3966e290-8bff-4251-826c-859a2e113a97"
      },
      "outputs": [
        {
          "output_type": "stream",
          "name": "stdout",
          "text": [
            "Collecting feature_engine\n",
            "  Downloading feature_engine-1.6.1-py2.py3-none-any.whl (326 kB)\n",
            "\u001b[?25l     \u001b[90m━━━━━━━━━━━━━━━━━━━━━━━━━━━━━━━━━━━━━━━━\u001b[0m \u001b[32m0.0/326.6 kB\u001b[0m \u001b[31m?\u001b[0m eta \u001b[36m-:--:--\u001b[0m\r\u001b[2K     \u001b[91m━━━━━━━━━━━━━━━━━━━━━━━━━━━━━━━━━\u001b[0m\u001b[90m╺\u001b[0m\u001b[90m━━━━━\u001b[0m \u001b[32m276.5/326.6 kB\u001b[0m \u001b[31m8.0 MB/s\u001b[0m eta \u001b[36m0:00:01\u001b[0m\r\u001b[2K     \u001b[90m━━━━━━━━━━━━━━━━━━━━━━━━━━━━━━━━━━━━━━━\u001b[0m \u001b[32m326.6/326.6 kB\u001b[0m \u001b[31m6.1 MB/s\u001b[0m eta \u001b[36m0:00:00\u001b[0m\n",
            "\u001b[?25hRequirement already satisfied: numpy>=1.18.2 in /usr/local/lib/python3.10/dist-packages (from feature_engine) (1.22.4)\n",
            "Requirement already satisfied: pandas>=1.0.3 in /usr/local/lib/python3.10/dist-packages (from feature_engine) (1.5.3)\n",
            "Requirement already satisfied: scikit-learn>=1.0.0 in /usr/local/lib/python3.10/dist-packages (from feature_engine) (1.2.2)\n",
            "Requirement already satisfied: scipy>=1.4.1 in /usr/local/lib/python3.10/dist-packages (from feature_engine) (1.10.1)\n",
            "Requirement already satisfied: statsmodels>=0.11.1 in /usr/local/lib/python3.10/dist-packages (from feature_engine) (0.13.5)\n",
            "Requirement already satisfied: python-dateutil>=2.8.1 in /usr/local/lib/python3.10/dist-packages (from pandas>=1.0.3->feature_engine) (2.8.2)\n",
            "Requirement already satisfied: pytz>=2020.1 in /usr/local/lib/python3.10/dist-packages (from pandas>=1.0.3->feature_engine) (2022.7.1)\n",
            "Requirement already satisfied: joblib>=1.1.1 in /usr/local/lib/python3.10/dist-packages (from scikit-learn>=1.0.0->feature_engine) (1.3.1)\n",
            "Requirement already satisfied: threadpoolctl>=2.0.0 in /usr/local/lib/python3.10/dist-packages (from scikit-learn>=1.0.0->feature_engine) (3.1.0)\n",
            "Requirement already satisfied: patsy>=0.5.2 in /usr/local/lib/python3.10/dist-packages (from statsmodels>=0.11.1->feature_engine) (0.5.3)\n",
            "Requirement already satisfied: packaging>=21.3 in /usr/local/lib/python3.10/dist-packages (from statsmodels>=0.11.1->feature_engine) (23.1)\n",
            "Requirement already satisfied: six in /usr/local/lib/python3.10/dist-packages (from patsy>=0.5.2->statsmodels>=0.11.1->feature_engine) (1.16.0)\n",
            "Installing collected packages: feature_engine\n",
            "Successfully installed feature_engine-1.6.1\n"
          ]
        }
      ],
      "source": [
        "#feature engine\n",
        "!pip install feature_engine"
      ]
    },
    {
      "cell_type": "code",
      "execution_count": 3,
      "metadata": {
        "id": "vQCChO8hqLn2",
        "colab": {
          "base_uri": "https://localhost:8080/"
        },
        "outputId": "11154d68-9732-4cde-b971-08516407a7d9"
      },
      "outputs": [
        {
          "output_type": "stream",
          "name": "stdout",
          "text": [
            "Requirement already satisfied: plotly in /usr/local/lib/python3.10/dist-packages (5.13.1)\n",
            "Requirement already satisfied: tenacity>=6.2.0 in /usr/local/lib/python3.10/dist-packages (from plotly) (8.2.2)\n"
          ]
        }
      ],
      "source": [
        "!pip install plotly"
      ]
    },
    {
      "cell_type": "code",
      "execution_count": 4,
      "metadata": {
        "id": "n74S1PK6LpGT",
        "colab": {
          "base_uri": "https://localhost:8080/"
        },
        "outputId": "039e811d-1e98-4d33-ee95-6d5e9d31eaff"
      },
      "outputs": [
        {
          "output_type": "stream",
          "name": "stdout",
          "text": [
            "Collecting skorch\n",
            "  Downloading skorch-0.14.0-py3-none-any.whl (221 kB)\n",
            "\u001b[?25l     \u001b[90m━━━━━━━━━━━━━━━━━━━━━━━━━━━━━━━━━━━━━━━━\u001b[0m \u001b[32m0.0/221.3 kB\u001b[0m \u001b[31m?\u001b[0m eta \u001b[36m-:--:--\u001b[0m\r\u001b[2K     \u001b[91m━━━━━━━━━━━━━━━━━━━━━━━━━━━━━━━━━━━━━\u001b[0m\u001b[91m╸\u001b[0m\u001b[90m━\u001b[0m \u001b[32m215.0/221.3 kB\u001b[0m \u001b[31m7.0 MB/s\u001b[0m eta \u001b[36m0:00:01\u001b[0m\r\u001b[2K     \u001b[90m━━━━━━━━━━━━━━━━━━━━━━━━━━━━━━━━━━━━━━━\u001b[0m \u001b[32m221.3/221.3 kB\u001b[0m \u001b[31m4.1 MB/s\u001b[0m eta \u001b[36m0:00:00\u001b[0m\n",
            "\u001b[?25hRequirement already satisfied: numpy>=1.13.3 in /usr/local/lib/python3.10/dist-packages (from skorch) (1.22.4)\n",
            "Requirement already satisfied: scikit-learn>=0.22.0 in /usr/local/lib/python3.10/dist-packages (from skorch) (1.2.2)\n",
            "Requirement already satisfied: scipy>=1.1.0 in /usr/local/lib/python3.10/dist-packages (from skorch) (1.10.1)\n",
            "Requirement already satisfied: tabulate>=0.7.7 in /usr/local/lib/python3.10/dist-packages (from skorch) (0.8.10)\n",
            "Requirement already satisfied: tqdm>=4.14.0 in /usr/local/lib/python3.10/dist-packages (from skorch) (4.65.0)\n",
            "Requirement already satisfied: joblib>=1.1.1 in /usr/local/lib/python3.10/dist-packages (from scikit-learn>=0.22.0->skorch) (1.3.1)\n",
            "Requirement already satisfied: threadpoolctl>=2.0.0 in /usr/local/lib/python3.10/dist-packages (from scikit-learn>=0.22.0->skorch) (3.1.0)\n",
            "Installing collected packages: skorch\n",
            "Successfully installed skorch-0.14.0\n"
          ]
        }
      ],
      "source": [
        "!pip install skorch"
      ]
    },
    {
      "cell_type": "code",
      "execution_count": 5,
      "metadata": {
        "id": "bOzhc3VTXqN_"
      },
      "outputs": [],
      "source": [
        "import torch\n",
        "import pandas as pd\n",
        "import numpy as np\n",
        "import torch.nn as nn\n",
        "import torch.optim as optim\n",
        "from torch.utils.data import Dataset, DataLoader\n",
        "from scipy.io import arff\n",
        "from sklearn.pipeline import Pipeline\n",
        "from sklearn.compose import ColumnTransformer\n",
        "from sklearn.model_selection import train_test_split\n",
        "import matplotlib.pyplot as plt\n",
        "from pandas import DataFrame\n",
        "#import miceforest as mf\n",
        "from sklearn.compose import make_column_transformer\n",
        "from sklearn.experimental import enable_iterative_imputer\n",
        "from sklearn.impute import IterativeImputer\n",
        "# Pre-procesamiento\n",
        "from sklearn.preprocessing import MinMaxScaler\n",
        "from sklearn.preprocessing import StandardScaler\n",
        "from sklearn.preprocessing import FunctionTransformer\n",
        "from sklearn.preprocessing import PowerTransformer\n",
        "from sklearn.preprocessing import OneHotEncoder\n",
        "from sklearn.impute import SimpleImputer\n",
        "from feature_engine.imputation import RandomSampleImputer\n",
        "import seaborn as sns\n",
        "# Clasificacion\n",
        "from sklearn.model_selection import StratifiedKFold\n",
        "from imblearn.under_sampling import RandomUnderSampler\n",
        "from sklearn.tree import DecisionTreeClassifier\n",
        "import xgboost as xgb\n",
        "from sklearn.svm import SVC\n",
        "from sklearn.neighbors import KNeighborsClassifier\n",
        "from sklearn.linear_model import LinearRegression\n",
        "from sklearn.ensemble import RandomForestClassifier\n",
        "from sklearn.ensemble import RandomForestRegressor\n",
        "from sklearn.tree import DecisionTreeClassifier\n",
        "from sklearn.linear_model import LogisticRegression\n",
        "from sklearn.linear_model import LinearRegression\n",
        "from sklearn.ensemble import GradientBoostingClassifier\n",
        "from sklearn.ensemble import AdaBoostClassifier\n",
        "from xgboost import XGBClassifier\n",
        "from sklearn.metrics import confusion_matrix\n",
        "from sklearn import metrics\n",
        "from sklearn.pipeline import make_pipeline\n",
        "from sklearn.naive_bayes import GaussianNB\n",
        "from sklearn.model_selection import cross_val_score\n",
        "# Metricas de evaluación\n",
        "from sklearn.metrics import classification_report\n",
        "from sklearn.metrics import accuracy_score\n",
        "from sklearn.metrics import f1_score\n",
        "from sklearn.metrics import cohen_kappa_score\n",
        "from sklearn.model_selection import RandomizedSearchCV, RepeatedKFold\n",
        "import multiprocessing\n",
        "from sklearn.metrics import fbeta_score, make_scorer\n",
        "from sklearn.dummy import DummyClassifier\n",
        "from sklearn.neural_network import MLPClassifier\n",
        "from sklearn.metrics import average_precision_score\n",
        "from sklearn.metrics import ndcg_score\n",
        "from sklearn.metrics import confusion_matrix\n",
        "from sklearn.pipeline import make_pipeline\n",
        "from sklearn.pipeline import Pipeline\n",
        "from sklearn.metrics import fbeta_score, make_scorer\n",
        "from skorch import NeuralNetBinaryClassifier\n",
        "from sklearn.metrics import roc_curve, roc_auc_score\n",
        "import tensorflow\n",
        "from tensorflow.keras.callbacks import EarlyStopping\n",
        "from tensorflow.keras.layers import Input\n",
        "from tensorflow.keras import layers"
      ]
    },
    {
      "cell_type": "markdown",
      "metadata": {
        "id": "0Wrn9ZE5OjMo"
      },
      "source": [
        "#Getting the datset"
      ]
    },
    {
      "cell_type": "code",
      "execution_count": 6,
      "metadata": {
        "id": "w0l9mSbFOi0P",
        "colab": {
          "base_uri": "https://localhost:8080/",
          "height": 734
        },
        "outputId": "103c9a45-442b-454c-e229-58326d8d1087"
      },
      "outputs": [
        {
          "output_type": "execute_result",
          "data": {
            "text/plain": [
              "   REDCap ID Fecha de Nacimiento  \\\n",
              "0          1          10/15/1992   \n",
              "1          2           6/23/1989   \n",
              "2          3           5/11/1997   \n",
              "3          4            4/8/1983   \n",
              "4          5           9/12/1997   \n",
              "\n",
              "   Edad actual Última edad registrada en caso de exitus     Género  \\\n",
              "0                                               7.83      Femenino   \n",
              "1                                              33.55     Masculino   \n",
              "2                                              25.67     Masculino   \n",
              "3                                              39.76     Masculino   \n",
              "4                                              25.33     Masculino   \n",
              "\n",
              "                         Hospital de Origen Hospital Origen 1 Otro  \\\n",
              "0       Hospital Luis Calvo Mackenna (HLCM)                    NaN   \n",
              "1  Hospital Exequiel González Cortés (HEGC)                    NaN   \n",
              "2       Hospital Luis Calvo Mackenna (HLCM)                    NaN   \n",
              "3         Hospital San Juan de Dios (HSJDD)                    NaN   \n",
              "4  Hospital Exequiel González Cortés (HEGC)                    NaN   \n",
              "\n",
              "  Hospital de Origen.1 Hospital de Origen.2 Previsión Otra previsión  ...  \\\n",
              "0                  NaN                  NaN  Fonasa A            NaN  ...   \n",
              "1                  NaN                  NaN  Fonasa A            NaN  ...   \n",
              "2                  NaN                  NaN  Fonasa A            NaN  ...   \n",
              "3                  NaN                  NaN  Fonasa D            NaN  ...   \n",
              "4                  NaN                  NaN  Fonasa B            NaN  ...   \n",
              "\n",
              "  Tratamiento EICH crónico (choice=Budesonida Inhalatoria).3  \\\n",
              "0                                                  0           \n",
              "1                                                  0           \n",
              "2                                                  0           \n",
              "3                                                  0           \n",
              "4                                                  0           \n",
              "\n",
              "   Tratamiento EICH crónico (choice=Ciclosporina (CsA)).3  \\\n",
              "0                                                  0        \n",
              "1                                                  0        \n",
              "2                                                  0        \n",
              "3                                                  1        \n",
              "4                                                  0        \n",
              "\n",
              "   Tratamiento EICH crónico (choice=Tacrolimus).3  \\\n",
              "0                                               0   \n",
              "1                                               0   \n",
              "2                                               0   \n",
              "3                                               0   \n",
              "4                                               0   \n",
              "\n",
              "  Tratamiento EICH crónico (choice=Micofelonato (MMF)).3  \\\n",
              "0                                                  0       \n",
              "1                                                  0       \n",
              "2                                                  0       \n",
              "3                                                  0       \n",
              "4                                                  0       \n",
              "\n",
              "  Tratamiento EICH crónico (choice=MTP).3  \\\n",
              "0                                       0   \n",
              "1                                       0   \n",
              "2                                       0   \n",
              "3                                       0   \n",
              "4                                       0   \n",
              "\n",
              "  Tratamiento EICH crónico (choice=Metotrexato (MTX)).3  \\\n",
              "0                                                  0      \n",
              "1                                                  0      \n",
              "2                                                  0      \n",
              "3                                                  0      \n",
              "4                                                  0      \n",
              "\n",
              "  Tratamiento EICH crónico (choice=Prednisona).3  \\\n",
              "0                                              0   \n",
              "1                                              1   \n",
              "2                                              0   \n",
              "3                                              1   \n",
              "4                                              0   \n",
              "\n",
              "  Tratamiento EICH crónico (choice=Rapamicina).3  \\\n",
              "0                                              0   \n",
              "1                                              0   \n",
              "2                                              0   \n",
              "3                                              0   \n",
              "4                                              0   \n",
              "\n",
              "  Tratamiento EICH crónico (choice=Otros).3 Otros tratamientos EICH crónico.3  \n",
              "0                                         0                               NaN  \n",
              "1                                         0                               NaN  \n",
              "2                                         0                               NaN  \n",
              "3                                         0                               NaN  \n",
              "4                                         0                               NaN  \n",
              "\n",
              "[5 rows x 227 columns]"
            ],
            "text/html": [
              "\n",
              "\n",
              "  <div id=\"df-d349947c-f481-4792-aad7-f6e17747f5f5\">\n",
              "    <div class=\"colab-df-container\">\n",
              "      <div>\n",
              "<style scoped>\n",
              "    .dataframe tbody tr th:only-of-type {\n",
              "        vertical-align: middle;\n",
              "    }\n",
              "\n",
              "    .dataframe tbody tr th {\n",
              "        vertical-align: top;\n",
              "    }\n",
              "\n",
              "    .dataframe thead th {\n",
              "        text-align: right;\n",
              "    }\n",
              "</style>\n",
              "<table border=\"1\" class=\"dataframe\">\n",
              "  <thead>\n",
              "    <tr style=\"text-align: right;\">\n",
              "      <th></th>\n",
              "      <th>REDCap ID</th>\n",
              "      <th>Fecha de Nacimiento</th>\n",
              "      <th>Edad actual Última edad registrada en caso de exitus</th>\n",
              "      <th>Género</th>\n",
              "      <th>Hospital de Origen</th>\n",
              "      <th>Hospital Origen 1 Otro</th>\n",
              "      <th>Hospital de Origen.1</th>\n",
              "      <th>Hospital de Origen.2</th>\n",
              "      <th>Previsión</th>\n",
              "      <th>Otra previsión</th>\n",
              "      <th>...</th>\n",
              "      <th>Tratamiento EICH crónico (choice=Budesonida Inhalatoria).3</th>\n",
              "      <th>Tratamiento EICH crónico (choice=Ciclosporina (CsA)).3</th>\n",
              "      <th>Tratamiento EICH crónico (choice=Tacrolimus).3</th>\n",
              "      <th>Tratamiento EICH crónico (choice=Micofelonato (MMF)).3</th>\n",
              "      <th>Tratamiento EICH crónico (choice=MTP).3</th>\n",
              "      <th>Tratamiento EICH crónico (choice=Metotrexato (MTX)).3</th>\n",
              "      <th>Tratamiento EICH crónico (choice=Prednisona).3</th>\n",
              "      <th>Tratamiento EICH crónico (choice=Rapamicina).3</th>\n",
              "      <th>Tratamiento EICH crónico (choice=Otros).3</th>\n",
              "      <th>Otros tratamientos EICH crónico.3</th>\n",
              "    </tr>\n",
              "  </thead>\n",
              "  <tbody>\n",
              "    <tr>\n",
              "      <th>0</th>\n",
              "      <td>1</td>\n",
              "      <td>10/15/1992</td>\n",
              "      <td>7.83</td>\n",
              "      <td>Femenino</td>\n",
              "      <td>Hospital Luis Calvo Mackenna (HLCM)</td>\n",
              "      <td>NaN</td>\n",
              "      <td>NaN</td>\n",
              "      <td>NaN</td>\n",
              "      <td>Fonasa A</td>\n",
              "      <td>NaN</td>\n",
              "      <td>...</td>\n",
              "      <td>0</td>\n",
              "      <td>0</td>\n",
              "      <td>0</td>\n",
              "      <td>0</td>\n",
              "      <td>0</td>\n",
              "      <td>0</td>\n",
              "      <td>0</td>\n",
              "      <td>0</td>\n",
              "      <td>0</td>\n",
              "      <td>NaN</td>\n",
              "    </tr>\n",
              "    <tr>\n",
              "      <th>1</th>\n",
              "      <td>2</td>\n",
              "      <td>6/23/1989</td>\n",
              "      <td>33.55</td>\n",
              "      <td>Masculino</td>\n",
              "      <td>Hospital Exequiel González Cortés (HEGC)</td>\n",
              "      <td>NaN</td>\n",
              "      <td>NaN</td>\n",
              "      <td>NaN</td>\n",
              "      <td>Fonasa A</td>\n",
              "      <td>NaN</td>\n",
              "      <td>...</td>\n",
              "      <td>0</td>\n",
              "      <td>0</td>\n",
              "      <td>0</td>\n",
              "      <td>0</td>\n",
              "      <td>0</td>\n",
              "      <td>0</td>\n",
              "      <td>1</td>\n",
              "      <td>0</td>\n",
              "      <td>0</td>\n",
              "      <td>NaN</td>\n",
              "    </tr>\n",
              "    <tr>\n",
              "      <th>2</th>\n",
              "      <td>3</td>\n",
              "      <td>5/11/1997</td>\n",
              "      <td>25.67</td>\n",
              "      <td>Masculino</td>\n",
              "      <td>Hospital Luis Calvo Mackenna (HLCM)</td>\n",
              "      <td>NaN</td>\n",
              "      <td>NaN</td>\n",
              "      <td>NaN</td>\n",
              "      <td>Fonasa A</td>\n",
              "      <td>NaN</td>\n",
              "      <td>...</td>\n",
              "      <td>0</td>\n",
              "      <td>0</td>\n",
              "      <td>0</td>\n",
              "      <td>0</td>\n",
              "      <td>0</td>\n",
              "      <td>0</td>\n",
              "      <td>0</td>\n",
              "      <td>0</td>\n",
              "      <td>0</td>\n",
              "      <td>NaN</td>\n",
              "    </tr>\n",
              "    <tr>\n",
              "      <th>3</th>\n",
              "      <td>4</td>\n",
              "      <td>4/8/1983</td>\n",
              "      <td>39.76</td>\n",
              "      <td>Masculino</td>\n",
              "      <td>Hospital San Juan de Dios (HSJDD)</td>\n",
              "      <td>NaN</td>\n",
              "      <td>NaN</td>\n",
              "      <td>NaN</td>\n",
              "      <td>Fonasa D</td>\n",
              "      <td>NaN</td>\n",
              "      <td>...</td>\n",
              "      <td>0</td>\n",
              "      <td>1</td>\n",
              "      <td>0</td>\n",
              "      <td>0</td>\n",
              "      <td>0</td>\n",
              "      <td>0</td>\n",
              "      <td>1</td>\n",
              "      <td>0</td>\n",
              "      <td>0</td>\n",
              "      <td>NaN</td>\n",
              "    </tr>\n",
              "    <tr>\n",
              "      <th>4</th>\n",
              "      <td>5</td>\n",
              "      <td>9/12/1997</td>\n",
              "      <td>25.33</td>\n",
              "      <td>Masculino</td>\n",
              "      <td>Hospital Exequiel González Cortés (HEGC)</td>\n",
              "      <td>NaN</td>\n",
              "      <td>NaN</td>\n",
              "      <td>NaN</td>\n",
              "      <td>Fonasa B</td>\n",
              "      <td>NaN</td>\n",
              "      <td>...</td>\n",
              "      <td>0</td>\n",
              "      <td>0</td>\n",
              "      <td>0</td>\n",
              "      <td>0</td>\n",
              "      <td>0</td>\n",
              "      <td>0</td>\n",
              "      <td>0</td>\n",
              "      <td>0</td>\n",
              "      <td>0</td>\n",
              "      <td>NaN</td>\n",
              "    </tr>\n",
              "  </tbody>\n",
              "</table>\n",
              "<p>5 rows × 227 columns</p>\n",
              "</div>\n",
              "      <button class=\"colab-df-convert\" onclick=\"convertToInteractive('df-d349947c-f481-4792-aad7-f6e17747f5f5')\"\n",
              "              title=\"Convert this dataframe to an interactive table.\"\n",
              "              style=\"display:none;\">\n",
              "\n",
              "  <svg xmlns=\"http://www.w3.org/2000/svg\" height=\"24px\"viewBox=\"0 0 24 24\"\n",
              "       width=\"24px\">\n",
              "    <path d=\"M0 0h24v24H0V0z\" fill=\"none\"/>\n",
              "    <path d=\"M18.56 5.44l.94 2.06.94-2.06 2.06-.94-2.06-.94-.94-2.06-.94 2.06-2.06.94zm-11 1L8.5 8.5l.94-2.06 2.06-.94-2.06-.94L8.5 2.5l-.94 2.06-2.06.94zm10 10l.94 2.06.94-2.06 2.06-.94-2.06-.94-.94-2.06-.94 2.06-2.06.94z\"/><path d=\"M17.41 7.96l-1.37-1.37c-.4-.4-.92-.59-1.43-.59-.52 0-1.04.2-1.43.59L10.3 9.45l-7.72 7.72c-.78.78-.78 2.05 0 2.83L4 21.41c.39.39.9.59 1.41.59.51 0 1.02-.2 1.41-.59l7.78-7.78 2.81-2.81c.8-.78.8-2.07 0-2.86zM5.41 20L4 18.59l7.72-7.72 1.47 1.35L5.41 20z\"/>\n",
              "  </svg>\n",
              "      </button>\n",
              "\n",
              "\n",
              "\n",
              "    <div id=\"df-897704ab-cc7a-4ec2-b4c5-8dcec737e422\">\n",
              "      <button class=\"colab-df-quickchart\" onclick=\"quickchart('df-897704ab-cc7a-4ec2-b4c5-8dcec737e422')\"\n",
              "              title=\"Suggest charts.\"\n",
              "              style=\"display:none;\">\n",
              "\n",
              "<svg xmlns=\"http://www.w3.org/2000/svg\" height=\"24px\"viewBox=\"0 0 24 24\"\n",
              "     width=\"24px\">\n",
              "    <g>\n",
              "        <path d=\"M19 3H5c-1.1 0-2 .9-2 2v14c0 1.1.9 2 2 2h14c1.1 0 2-.9 2-2V5c0-1.1-.9-2-2-2zM9 17H7v-7h2v7zm4 0h-2V7h2v10zm4 0h-2v-4h2v4z\"/>\n",
              "    </g>\n",
              "</svg>\n",
              "      </button>\n",
              "    </div>\n",
              "\n",
              "<style>\n",
              "  .colab-df-quickchart {\n",
              "    background-color: #E8F0FE;\n",
              "    border: none;\n",
              "    border-radius: 50%;\n",
              "    cursor: pointer;\n",
              "    display: none;\n",
              "    fill: #1967D2;\n",
              "    height: 32px;\n",
              "    padding: 0 0 0 0;\n",
              "    width: 32px;\n",
              "  }\n",
              "\n",
              "  .colab-df-quickchart:hover {\n",
              "    background-color: #E2EBFA;\n",
              "    box-shadow: 0px 1px 2px rgba(60, 64, 67, 0.3), 0px 1px 3px 1px rgba(60, 64, 67, 0.15);\n",
              "    fill: #174EA6;\n",
              "  }\n",
              "\n",
              "  [theme=dark] .colab-df-quickchart {\n",
              "    background-color: #3B4455;\n",
              "    fill: #D2E3FC;\n",
              "  }\n",
              "\n",
              "  [theme=dark] .colab-df-quickchart:hover {\n",
              "    background-color: #434B5C;\n",
              "    box-shadow: 0px 1px 3px 1px rgba(0, 0, 0, 0.15);\n",
              "    filter: drop-shadow(0px 1px 2px rgba(0, 0, 0, 0.3));\n",
              "    fill: #FFFFFF;\n",
              "  }\n",
              "</style>\n",
              "\n",
              "    <script>\n",
              "      async function quickchart(key) {\n",
              "        const containerElement = document.querySelector('#' + key);\n",
              "        const charts = await google.colab.kernel.invokeFunction(\n",
              "            'suggestCharts', [key], {});\n",
              "      }\n",
              "    </script>\n",
              "\n",
              "      <script>\n",
              "\n",
              "function displayQuickchartButton(domScope) {\n",
              "  let quickchartButtonEl =\n",
              "    domScope.querySelector('#df-897704ab-cc7a-4ec2-b4c5-8dcec737e422 button.colab-df-quickchart');\n",
              "  quickchartButtonEl.style.display =\n",
              "    google.colab.kernel.accessAllowed ? 'block' : 'none';\n",
              "}\n",
              "\n",
              "        displayQuickchartButton(document);\n",
              "      </script>\n",
              "      <style>\n",
              "    .colab-df-container {\n",
              "      display:flex;\n",
              "      flex-wrap:wrap;\n",
              "      gap: 12px;\n",
              "    }\n",
              "\n",
              "    .colab-df-convert {\n",
              "      background-color: #E8F0FE;\n",
              "      border: none;\n",
              "      border-radius: 50%;\n",
              "      cursor: pointer;\n",
              "      display: none;\n",
              "      fill: #1967D2;\n",
              "      height: 32px;\n",
              "      padding: 0 0 0 0;\n",
              "      width: 32px;\n",
              "    }\n",
              "\n",
              "    .colab-df-convert:hover {\n",
              "      background-color: #E2EBFA;\n",
              "      box-shadow: 0px 1px 2px rgba(60, 64, 67, 0.3), 0px 1px 3px 1px rgba(60, 64, 67, 0.15);\n",
              "      fill: #174EA6;\n",
              "    }\n",
              "\n",
              "    [theme=dark] .colab-df-convert {\n",
              "      background-color: #3B4455;\n",
              "      fill: #D2E3FC;\n",
              "    }\n",
              "\n",
              "    [theme=dark] .colab-df-convert:hover {\n",
              "      background-color: #434B5C;\n",
              "      box-shadow: 0px 1px 3px 1px rgba(0, 0, 0, 0.15);\n",
              "      filter: drop-shadow(0px 1px 2px rgba(0, 0, 0, 0.3));\n",
              "      fill: #FFFFFF;\n",
              "    }\n",
              "  </style>\n",
              "\n",
              "      <script>\n",
              "        const buttonEl =\n",
              "          document.querySelector('#df-d349947c-f481-4792-aad7-f6e17747f5f5 button.colab-df-convert');\n",
              "        buttonEl.style.display =\n",
              "          google.colab.kernel.accessAllowed ? 'block' : 'none';\n",
              "\n",
              "        async function convertToInteractive(key) {\n",
              "          const element = document.querySelector('#df-d349947c-f481-4792-aad7-f6e17747f5f5');\n",
              "          const dataTable =\n",
              "            await google.colab.kernel.invokeFunction('convertToInteractive',\n",
              "                                                     [key], {});\n",
              "          if (!dataTable) return;\n",
              "\n",
              "          const docLinkHtml = 'Like what you see? Visit the ' +\n",
              "            '<a target=\"_blank\" href=https://colab.research.google.com/notebooks/data_table.ipynb>data table notebook</a>'\n",
              "            + ' to learn more about interactive tables.';\n",
              "          element.innerHTML = '';\n",
              "          dataTable['output_type'] = 'display_data';\n",
              "          await google.colab.output.renderOutput(dataTable, element);\n",
              "          const docLink = document.createElement('div');\n",
              "          docLink.innerHTML = docLinkHtml;\n",
              "          element.appendChild(docLink);\n",
              "        }\n",
              "      </script>\n",
              "    </div>\n",
              "  </div>\n"
            ]
          },
          "metadata": {},
          "execution_count": 6
        }
      ],
      "source": [
        "df = pd.read_csv('/content/sample_data/BaseAnon.csv')\n",
        "df.head()"
      ]
    },
    {
      "cell_type": "markdown",
      "metadata": {
        "id": "a8xSZ7XpO2Xq"
      },
      "source": []
    },
    {
      "cell_type": "markdown",
      "metadata": {
        "id": "EwfonrNyADkg"
      },
      "source": [
        "#Distribution of the classes"
      ]
    },
    {
      "cell_type": "code",
      "execution_count": 7,
      "metadata": {
        "id": "CLE7tzKA_E2N",
        "colab": {
          "base_uri": "https://localhost:8080/",
          "height": 406
        },
        "outputId": "f18599cd-c5ea-40cb-839d-69cd1435a179"
      },
      "outputs": [
        {
          "output_type": "display_data",
          "data": {
            "text/plain": [
              "<Figure size 640x480 with 1 Axes>"
            ],
            "image/png": "[encoded data removed]"
          },
          "metadata": {}
        }
      ],
      "source": [
        "#Decision class distribution\n",
        "groups = df['Eich Agudo.1'].value_counts()\n",
        "sizes = [groups[1], groups[0]]\n",
        "labels = list(map(lambda e: str(e), groups.index))\n",
        "\n",
        "fig1, ax1 = plt.subplots()\n",
        "ax1.pie(sizes, labels=labels, autopct='%1.1f%%', shadow=True, startangle=90)\n",
        "ax1.axis('equal')\n",
        "\n",
        "plt.show()"
      ]
    },
    {
      "cell_type": "code",
      "execution_count": 8,
      "metadata": {
        "id": "RNWWIPt4P5BJ",
        "colab": {
          "base_uri": "https://localhost:8080/"
        },
        "outputId": "18b0abc4-45aa-4bc7-febe-09bc157d7955"
      },
      "outputs": [
        {
          "output_type": "stream",
          "name": "stdout",
          "text": [
            "1.0    295\n",
            "0.0    224\n",
            "Name: Eich Agudo.1, dtype: int64\n"
          ]
        }
      ],
      "source": [
        "print(groups)"
      ]
    },
    {
      "cell_type": "markdown",
      "metadata": {
        "id": "Xq4Yz48sAK9K"
      },
      "source": [
        "#Selecting Features"
      ]
    },
    {
      "cell_type": "code",
      "execution_count": 9,
      "metadata": {
        "id": "5A-Qfg4PPdVu"
      },
      "outputs": [],
      "source": [
        "df= df[df['Tipo de trasplante'] == 'Alogénico']"
      ]
    },
    {
      "cell_type": "code",
      "execution_count": 10,
      "metadata": {
        "id": "PPnvUnrD_aWr"
      },
      "outputs": [],
      "source": [
        "df=df.drop(['Fecha de Nacimiento','Hospital de Origen','Otra previsión','Fecha de Diagnóstico','Diagnóstico 2','Otros diagnósticos.1','Tipo de Leucemia Linfoblástica Aguda','Obs de diagnóstico','Fecha de recaída pretrasplante',\n",
        "            'Otra traslocación','CMN/Kg × 107','CNT/Kg × 107','CD34/Kg × 105','UFC/Kg × 104','UFC/Kg × 104.1','Grupo Sanguíneo Donante 2','Factor Rh.2','Fuente de PH.1','CNT/Kg × 107.5','CD34/Kg × 105.5','Fecha de ingreso',\n",
        "            'Otros tratamientos','Dosis de Ciclofosfamida','Dosis Irradiación Corporal Total','Dosis Irradiación Nodal Total','Otros medicamentos/tratamientos para profilaxis','Fecha del TMO','Edad actual Última edad registrada en caso de exitus'\n",
        "            ,'Fecha del alta','Fecha Falla Implante Secundaria','Fecha de recaída','Fecha de recaída 2','REDCap ID','Fecha de reactivación 1','Fecha de reactivación 2', 'Fecha de reactivación 3','Fecha de reactivación 4' ,'Fecha de reactivación 5'\n",
        "            ,'Tipo de trasplante','t(12;21)','Recaída 2','Previsión','Recaída Pretrasplante','CD3/Kg × 105.5','El paciente es dado de alta','Falla de Implante','Recaída','Recaída 2','Número de Remisión Completa'], axis=1)\n",
        "\n",
        "\n",
        "\n",
        "df=df.drop(df.loc[:,'Hospital Origen 1 Otro':'Hospital de Origen.2'].columns, axis=1)\n",
        "df=df.drop(df.loc[:,'Exitus':'Fecha enfermedad CMV 1'].columns, axis=1)\n",
        "\n",
        "df=df.drop(df.loc[:,'Cutáneo.1':'Otros tratamientos EICH crónico.3'].columns, axis=1)"
      ]
    },
    {
      "cell_type": "code",
      "source": [
        "df.rename(columns={\"Factor Rh.1\":\"Factor Rh1\"},inplace=True)"
      ],
      "metadata": {
        "id": "T-Non1GbW1FR"
      },
      "execution_count": 11,
      "outputs": []
    },
    {
      "cell_type": "code",
      "execution_count": 12,
      "metadata": {
        "id": "blei-EFJQ4oi"
      },
      "outputs": [],
      "source": [
        "df = df.dropna(subset=['Eich Agudo.1'])"
      ]
    },
    {
      "cell_type": "code",
      "execution_count": 13,
      "metadata": {
        "id": "0UAzd3wM_N-j",
        "colab": {
          "base_uri": "https://localhost:8080/"
        },
        "outputId": "aea3daa0-e280-4eb4-a851-4cf6de251d74"
      },
      "outputs": [
        {
          "output_type": "execute_result",
          "data": {
            "text/plain": [
              "(438, 51)"
            ]
          },
          "metadata": {},
          "execution_count": 13
        }
      ],
      "source": [
        "df.shape"
      ]
    },
    {
      "cell_type": "markdown",
      "metadata": {
        "id": "yDpBPp9cZ82B"
      },
      "source": [
        "## Final Distribution of the classes"
      ]
    },
    {
      "cell_type": "code",
      "execution_count": 14,
      "metadata": {
        "id": "1T07wZ89Z2Lv",
        "colab": {
          "base_uri": "https://localhost:8080/",
          "height": 406
        },
        "outputId": "a08b4460-2145-4b2e-c1e7-e78e290f3b77"
      },
      "outputs": [
        {
          "output_type": "display_data",
          "data": {
            "text/plain": [
              "<Figure size 640x480 with 1 Axes>"
            ],
            "image/png": "[encoded data removed]"
          },
          "metadata": {}
        }
      ],
      "source": [
        "#Decision class distribution\n",
        "groups = df['Eich Agudo.1'].value_counts()\n",
        "sizes = [groups[1], groups[0]]\n",
        "labels = list(map(lambda e: str(e), groups.index))\n",
        "\n",
        "fig1, ax1 = plt.subplots()\n",
        "ax1.pie(sizes, labels=labels, autopct='%1.1f%%', shadow=True, startangle=90)\n",
        "ax1.axis('equal')\n",
        "\n",
        "plt.show()"
      ]
    },
    {
      "cell_type": "code",
      "execution_count": 15,
      "metadata": {
        "id": "xUpD5kAPaSb0",
        "colab": {
          "base_uri": "https://localhost:8080/"
        },
        "outputId": "c59effc8-6111-4a79-9695-5b1e45ab2b94"
      },
      "outputs": [
        {
          "output_type": "stream",
          "name": "stdout",
          "text": [
            "1.0    295\n",
            "0.0    143\n",
            "Name: Eich Agudo.1, dtype: int64\n"
          ]
        }
      ],
      "source": [
        "print(groups)"
      ]
    },
    {
      "cell_type": "markdown",
      "metadata": {
        "id": "D-gfQ1_IREhM"
      },
      "source": [
        "#Preproces the datasets"
      ]
    },
    {
      "cell_type": "code",
      "source": [
        "#df = df.loc[df['Fuente de PH']!='SCU']\n",
        "#df = df.loc[df['Diagnóstico 1']!='SMD']\n",
        "#dftest = df.loc[df['Diagnóstico 1']!='Mielodisplasia']"
      ],
      "metadata": {
        "id": "bsjSesRPQjlJ"
      },
      "execution_count": 16,
      "outputs": []
    },
    {
      "cell_type": "code",
      "source": [
        "df.rename(columns={'Edad de TPH':'recipient_age','Grupo Sanguíneo Donante':'donor_ABO','CMV Donante':'donor_CMV','Género':'recipient_gender'\n",
        ",'Grupo Sanguíneo Paciente':'recipient_ABO','Factor Rh':'recipient_rh','CMV':'recipient_CMV','Diagnóstico 1':'disease','Tipo de diagnóstico':'disease_group',\n",
        "'Tipo de Compatibilidad del Donante':'HLA_mismatch','Fuente de PH':'stem_cell_source','CD34/Kg × 106':'CD34_x1e6_per_kg','Eich Agudo.1':'acute_GvHD_II_III_IV'},inplace=True)"
      ],
      "metadata": {
        "id": "nZFhc_68SB7l"
      },
      "execution_count": 17,
      "outputs": []
    },
    {
      "cell_type": "code",
      "source": [
        "compatibility={\n",
        "   'HLA_mismatch':{\"MSD\":\"matched\",\"MD no relacionado\":\"matched\",\"MFD\":\"matched\",\"MMD/MMFD\":\"mismatched\"},\n",
        "   'donor_ABO':{\"O\":\"0\"},\n",
        "   'donor_CMV':{1:\"present\",0:\"absent\"},\n",
        "   'recipient_gender':{\"Masculino\":\"male\",\"Femenino\":\"female\" },\n",
        "   'recipient_ABO':{\"O\":\"0\"},\n",
        "   'recipient_rh':{1:\"plus\",0:\"minus\"},\n",
        "   'recipient_CMV':{1:\"present\",0:\"absent\"},\n",
        "   'disease':{\"LLA\":\"ALL\",\"LMA M4\":\"AML\",\"LMA M\":\"AML\",\"LMA M0\":\"AML\",\"LMA M1\":\"AML\",\"LMA M2\":\"AML\",\"LMA M3\":\"AML\",\"LMA M5\":\"AML\",\n",
        "              \"LMA M6\":\"AML\",\"LMA M7\":\"AML\",\"Adrenoleucodistrofia\":\"nonmalignant\",\"AMS\":\"nonmalignant\",\"Anemia Fanconi\":\"nonmalignant\",\n",
        "              \"Blackfan Diamond\":\"nonmalignant\",\"Chediak Higashi\":\"nonmalignant\",\"Deficiencia del XIAP\":\"nonmalignant\",\n",
        "              \"Epidermolisis Bulosa\":\"nonmalignant\",\"IDP\":\"nonmalignant\",\"Inmunodeficiencia primaria\":\"nonmalignant\",\"LAD\":\"nonmalignant\",\n",
        "              \"Leaky SCID\":\"nonmalignant\",\"Linfohistiocitosis\":\"nonmalignant\",\"Neutopenia congenita\":\"nonmalignant\",\n",
        "              \"Neutropenia Kostman\":\"nonmalignant\",\"Osteopetrosis\":\"nonmalignant\",\"SCID\":\"nonmalignant\",\n",
        "              \"Sindrome Linfoproliferativo autoinmune\":\"nonmalignant\",\"Trombocitopenia amegacariocítica\":\"nonmalignant\",\"WAS\":\"nonmalignant\",\n",
        "              \"LALA\":\"ALL\",\"Leucemia del lactante\":\"ALL\",\"LMC\":\"chronic\",\"LMMJ\":\"AML\",},\n",
        "   'disease_group':{\"No oncológico\":\"nonmalignant\",\"Oncológico\":\"malignant\"},\n",
        "   'stem_cell_source':{\"MO\":\"bone_marrow\",\"SP\":\"peripheral_blood\"}\n",
        "}\n",
        "\n",
        "df = df.replace(compatibility)"
      ],
      "metadata": {
        "id": "d2UspeaySEVN"
      },
      "execution_count": 18,
      "outputs": []
    },
    {
      "cell_type": "code",
      "source": [
        "df=df.fillna({\"Presenta traslocación genética\":0,\"t(9;22)\":0,\"(11q23) anormales\":0,\"t(4;11)\":0,\"Otras traslocaciones\":0})"
      ],
      "metadata": {
        "id": "1IG5r5bgXJu4"
      },
      "execution_count": 19,
      "outputs": []
    },
    {
      "cell_type": "code",
      "execution_count": 20,
      "metadata": {
        "id": "_N9tk-geRDwL"
      },
      "outputs": [],
      "source": [
        "obj_cols=df.select_dtypes(include=['object']).columns.to_list()"
      ]
    },
    {
      "cell_type": "code",
      "execution_count": 21,
      "metadata": {
        "id": "HLUpA63URUtO"
      },
      "outputs": [],
      "source": [
        "df[obj_cols]=df[obj_cols].astype('category')"
      ]
    },
    {
      "cell_type": "code",
      "execution_count": 22,
      "metadata": {
        "id": "D3-hmjQdRc1r"
      },
      "outputs": [],
      "source": [
        "cat_cols=df.select_dtypes(include=['category']).columns.to_list()"
      ]
    },
    {
      "cell_type": "code",
      "execution_count": 23,
      "metadata": {
        "id": "RrD8jI-rRfmm"
      },
      "outputs": [],
      "source": [
        "X=df.drop(['acute_GvHD_II_III_IV'],axis=1)\n",
        "y=df['acute_GvHD_II_III_IV']"
      ]
    },
    {
      "cell_type": "code",
      "execution_count": 24,
      "metadata": {
        "id": "BqMG-37XSLhK"
      },
      "outputs": [],
      "source": [
        "numeric_cols=X.select_dtypes(include=['float64', 'int']).columns.to_list()"
      ]
    },
    {
      "cell_type": "code",
      "execution_count": 25,
      "metadata": {
        "id": "Cy3XiiTWSnTB"
      },
      "outputs": [],
      "source": [
        "transformer = make_column_transformer(\n",
        "    (OneHotEncoder(), cat_cols),\n",
        "    remainder='passthrough',\n",
        "    verbose_feature_names_out=False)\n",
        "\n",
        "transformed = transformer.fit_transform(X)\n",
        "#temp=transformed.to_numpy()\n",
        "#transformed=transformed.toarray()\n",
        "#print(transformed)\n",
        "transformed_df = pd.DataFrame(transformed, columns=transformer.get_feature_names_out())"
      ]
    },
    {
      "cell_type": "code",
      "execution_count": 26,
      "metadata": {
        "id": "3ehLjdp-TFoR",
        "colab": {
          "base_uri": "https://localhost:8080/",
          "height": 352
        },
        "outputId": "342602c7-1b40-4690-aa07-b41a644f5b8c"
      },
      "outputs": [
        {
          "output_type": "execute_result",
          "data": {
            "text/plain": [
              "   recipient_gender_female  recipient_gender_male  recipient_gender_nan  \\\n",
              "0                      0.0                    1.0                   0.0   \n",
              "1                      0.0                    1.0                   0.0   \n",
              "2                      0.0                    1.0                   0.0   \n",
              "3                      0.0                    1.0                   0.0   \n",
              "4                      1.0                    0.0                   0.0   \n",
              "\n",
              "   recipient_ABO_0  recipient_ABO_A  recipient_ABO_AB  recipient_ABO_B  \\\n",
              "0              1.0              0.0               0.0              0.0   \n",
              "1              0.0              1.0               0.0              0.0   \n",
              "2              1.0              0.0               0.0              0.0   \n",
              "3              1.0              0.0               0.0              0.0   \n",
              "4              1.0              0.0               0.0              0.0   \n",
              "\n",
              "   recipient_ABO_nan  recipient_rh_minus  recipient_rh_plus  ...  \\\n",
              "0                0.0                 0.0                1.0  ...   \n",
              "1                0.0                 0.0                1.0  ...   \n",
              "2                0.0                 0.0                1.0  ...   \n",
              "3                0.0                 0.0                1.0  ...   \n",
              "4                0.0                 0.0                1.0  ...   \n",
              "\n",
              "   Profilaxis (choice=Ciclosporina (CsA))  \\\n",
              "0                                     1.0   \n",
              "1                                     1.0   \n",
              "2                                     1.0   \n",
              "3                                     1.0   \n",
              "4                                     1.0   \n",
              "\n",
              "   Profilaxis (choice=Depleción de Linfocitos T (DLT))  \\\n",
              "0                                                0.0     \n",
              "1                                                0.0     \n",
              "2                                                0.0     \n",
              "3                                                0.0     \n",
              "4                                                0.0     \n",
              "\n",
              "   Profilaxis (choice=Metilprednisolona (MP, MTP))  \\\n",
              "0                                              0.0   \n",
              "1                                              0.0   \n",
              "2                                              0.0   \n",
              "3                                              0.0   \n",
              "4                                              0.0   \n",
              "\n",
              "   Profilaxis (choice=Metotrexato (MTX))  \\\n",
              "0                                    0.0   \n",
              "1                                    0.0   \n",
              "2                                    0.0   \n",
              "3                                    0.0   \n",
              "4                                    0.0   \n",
              "\n",
              "   Profilaxis (choice=Micofelonato (MMF, MFN))  \\\n",
              "0                                          0.0   \n",
              "1                                          0.0   \n",
              "2                                          0.0   \n",
              "3                                          0.0   \n",
              "4                                          0.0   \n",
              "\n",
              "   Profilaxis (choice=Prednisona (PDN, Pred))  Profilaxis (choice=Rapamicina)  \\\n",
              "0                                         0.0                             0.0   \n",
              "1                                         0.0                             0.0   \n",
              "2                                         0.0                             0.0   \n",
              "3                                         0.0                             0.0   \n",
              "4                                         0.0                             0.0   \n",
              "\n",
              "   Profilaxis (choice=Tacrolimus (FK, FK506))  Profilaxis (choice=Otros)  \\\n",
              "0                                         0.0                        0.0   \n",
              "1                                         0.0                        0.0   \n",
              "2                                         0.0                        0.0   \n",
              "3                                         0.0                        0.0   \n",
              "4                                         0.0                        0.0   \n",
              "\n",
              "   recipient_age  \n",
              "0          10.29  \n",
              "1           2.79  \n",
              "2          16.88  \n",
              "3           2.55  \n",
              "4           5.53  \n",
              "\n",
              "[5 rows x 79 columns]"
            ],
            "text/html": [
              "\n",
              "\n",
              "  <div id=\"df-2bdec1e0-161c-4b24-b6ef-9f09ac2802f3\">\n",
              "    <div class=\"colab-df-container\">\n",
              "      <div>\n",
              "<style scoped>\n",
              "    .dataframe tbody tr th:only-of-type {\n",
              "        vertical-align: middle;\n",
              "    }\n",
              "\n",
              "    .dataframe tbody tr th {\n",
              "        vertical-align: top;\n",
              "    }\n",
              "\n",
              "    .dataframe thead th {\n",
              "        text-align: right;\n",
              "    }\n",
              "</style>\n",
              "<table border=\"1\" class=\"dataframe\">\n",
              "  <thead>\n",
              "    <tr style=\"text-align: right;\">\n",
              "      <th></th>\n",
              "      <th>recipient_gender_female</th>\n",
              "      <th>recipient_gender_male</th>\n",
              "      <th>recipient_gender_nan</th>\n",
              "      <th>recipient_ABO_0</th>\n",
              "      <th>recipient_ABO_A</th>\n",
              "      <th>recipient_ABO_AB</th>\n",
              "      <th>recipient_ABO_B</th>\n",
              "      <th>recipient_ABO_nan</th>\n",
              "      <th>recipient_rh_minus</th>\n",
              "      <th>recipient_rh_plus</th>\n",
              "      <th>...</th>\n",
              "      <th>Profilaxis (choice=Ciclosporina (CsA))</th>\n",
              "      <th>Profilaxis (choice=Depleción de Linfocitos T (DLT))</th>\n",
              "      <th>Profilaxis (choice=Metilprednisolona (MP, MTP))</th>\n",
              "      <th>Profilaxis (choice=Metotrexato (MTX))</th>\n",
              "      <th>Profilaxis (choice=Micofelonato (MMF, MFN))</th>\n",
              "      <th>Profilaxis (choice=Prednisona (PDN, Pred))</th>\n",
              "      <th>Profilaxis (choice=Rapamicina)</th>\n",
              "      <th>Profilaxis (choice=Tacrolimus (FK, FK506))</th>\n",
              "      <th>Profilaxis (choice=Otros)</th>\n",
              "      <th>recipient_age</th>\n",
              "    </tr>\n",
              "  </thead>\n",
              "  <tbody>\n",
              "    <tr>\n",
              "      <th>0</th>\n",
              "      <td>0.0</td>\n",
              "      <td>1.0</td>\n",
              "      <td>0.0</td>\n",
              "      <td>1.0</td>\n",
              "      <td>0.0</td>\n",
              "      <td>0.0</td>\n",
              "      <td>0.0</td>\n",
              "      <td>0.0</td>\n",
              "      <td>0.0</td>\n",
              "      <td>1.0</td>\n",
              "      <td>...</td>\n",
              "      <td>1.0</td>\n",
              "      <td>0.0</td>\n",
              "      <td>0.0</td>\n",
              "      <td>0.0</td>\n",
              "      <td>0.0</td>\n",
              "      <td>0.0</td>\n",
              "      <td>0.0</td>\n",
              "      <td>0.0</td>\n",
              "      <td>0.0</td>\n",
              "      <td>10.29</td>\n",
              "    </tr>\n",
              "    <tr>\n",
              "      <th>1</th>\n",
              "      <td>0.0</td>\n",
              "      <td>1.0</td>\n",
              "      <td>0.0</td>\n",
              "      <td>0.0</td>\n",
              "      <td>1.0</td>\n",
              "      <td>0.0</td>\n",
              "      <td>0.0</td>\n",
              "      <td>0.0</td>\n",
              "      <td>0.0</td>\n",
              "      <td>1.0</td>\n",
              "      <td>...</td>\n",
              "      <td>1.0</td>\n",
              "      <td>0.0</td>\n",
              "      <td>0.0</td>\n",
              "      <td>0.0</td>\n",
              "      <td>0.0</td>\n",
              "      <td>0.0</td>\n",
              "      <td>0.0</td>\n",
              "      <td>0.0</td>\n",
              "      <td>0.0</td>\n",
              "      <td>2.79</td>\n",
              "    </tr>\n",
              "    <tr>\n",
              "      <th>2</th>\n",
              "      <td>0.0</td>\n",
              "      <td>1.0</td>\n",
              "      <td>0.0</td>\n",
              "      <td>1.0</td>\n",
              "      <td>0.0</td>\n",
              "      <td>0.0</td>\n",
              "      <td>0.0</td>\n",
              "      <td>0.0</td>\n",
              "      <td>0.0</td>\n",
              "      <td>1.0</td>\n",
              "      <td>...</td>\n",
              "      <td>1.0</td>\n",
              "      <td>0.0</td>\n",
              "      <td>0.0</td>\n",
              "      <td>0.0</td>\n",
              "      <td>0.0</td>\n",
              "      <td>0.0</td>\n",
              "      <td>0.0</td>\n",
              "      <td>0.0</td>\n",
              "      <td>0.0</td>\n",
              "      <td>16.88</td>\n",
              "    </tr>\n",
              "    <tr>\n",
              "      <th>3</th>\n",
              "      <td>0.0</td>\n",
              "      <td>1.0</td>\n",
              "      <td>0.0</td>\n",
              "      <td>1.0</td>\n",
              "      <td>0.0</td>\n",
              "      <td>0.0</td>\n",
              "      <td>0.0</td>\n",
              "      <td>0.0</td>\n",
              "      <td>0.0</td>\n",
              "      <td>1.0</td>\n",
              "      <td>...</td>\n",
              "      <td>1.0</td>\n",
              "      <td>0.0</td>\n",
              "      <td>0.0</td>\n",
              "      <td>0.0</td>\n",
              "      <td>0.0</td>\n",
              "      <td>0.0</td>\n",
              "      <td>0.0</td>\n",
              "      <td>0.0</td>\n",
              "      <td>0.0</td>\n",
              "      <td>2.55</td>\n",
              "    </tr>\n",
              "    <tr>\n",
              "      <th>4</th>\n",
              "      <td>1.0</td>\n",
              "      <td>0.0</td>\n",
              "      <td>0.0</td>\n",
              "      <td>1.0</td>\n",
              "      <td>0.0</td>\n",
              "      <td>0.0</td>\n",
              "      <td>0.0</td>\n",
              "      <td>0.0</td>\n",
              "      <td>0.0</td>\n",
              "      <td>1.0</td>\n",
              "      <td>...</td>\n",
              "      <td>1.0</td>\n",
              "      <td>0.0</td>\n",
              "      <td>0.0</td>\n",
              "      <td>0.0</td>\n",
              "      <td>0.0</td>\n",
              "      <td>0.0</td>\n",
              "      <td>0.0</td>\n",
              "      <td>0.0</td>\n",
              "      <td>0.0</td>\n",
              "      <td>5.53</td>\n",
              "    </tr>\n",
              "  </tbody>\n",
              "</table>\n",
              "<p>5 rows × 79 columns</p>\n",
              "</div>\n",
              "      <button class=\"colab-df-convert\" onclick=\"convertToInteractive('df-2bdec1e0-161c-4b24-b6ef-9f09ac2802f3')\"\n",
              "              title=\"Convert this dataframe to an interactive table.\"\n",
              "              style=\"display:none;\">\n",
              "\n",
              "  <svg xmlns=\"http://www.w3.org/2000/svg\" height=\"24px\"viewBox=\"0 0 24 24\"\n",
              "       width=\"24px\">\n",
              "    <path d=\"M0 0h24v24H0V0z\" fill=\"none\"/>\n",
              "    <path d=\"M18.56 5.44l.94 2.06.94-2.06 2.06-.94-2.06-.94-.94-2.06-.94 2.06-2.06.94zm-11 1L8.5 8.5l.94-2.06 2.06-.94-2.06-.94L8.5 2.5l-.94 2.06-2.06.94zm10 10l.94 2.06.94-2.06 2.06-.94-2.06-.94-.94-2.06-.94 2.06-2.06.94z\"/><path d=\"M17.41 7.96l-1.37-1.37c-.4-.4-.92-.59-1.43-.59-.52 0-1.04.2-1.43.59L10.3 9.45l-7.72 7.72c-.78.78-.78 2.05 0 2.83L4 21.41c.39.39.9.59 1.41.59.51 0 1.02-.2 1.41-.59l7.78-7.78 2.81-2.81c.8-.78.8-2.07 0-2.86zM5.41 20L4 18.59l7.72-7.72 1.47 1.35L5.41 20z\"/>\n",
              "  </svg>\n",
              "      </button>\n",
              "\n",
              "\n",
              "\n",
              "    <div id=\"df-43a027b4-3a21-4c07-b3d8-4a785127537f\">\n",
              "      <button class=\"colab-df-quickchart\" onclick=\"quickchart('df-43a027b4-3a21-4c07-b3d8-4a785127537f')\"\n",
              "              title=\"Suggest charts.\"\n",
              "              style=\"display:none;\">\n",
              "\n",
              "<svg xmlns=\"http://www.w3.org/2000/svg\" height=\"24px\"viewBox=\"0 0 24 24\"\n",
              "     width=\"24px\">\n",
              "    <g>\n",
              "        <path d=\"M19 3H5c-1.1 0-2 .9-2 2v14c0 1.1.9 2 2 2h14c1.1 0 2-.9 2-2V5c0-1.1-.9-2-2-2zM9 17H7v-7h2v7zm4 0h-2V7h2v10zm4 0h-2v-4h2v4z\"/>\n",
              "    </g>\n",
              "</svg>\n",
              "      </button>\n",
              "    </div>\n",
              "\n",
              "<style>\n",
              "  .colab-df-quickchart {\n",
              "    background-color: #E8F0FE;\n",
              "    border: none;\n",
              "    border-radius: 50%;\n",
              "    cursor: pointer;\n",
              "    display: none;\n",
              "    fill: #1967D2;\n",
              "    height: 32px;\n",
              "    padding: 0 0 0 0;\n",
              "    width: 32px;\n",
              "  }\n",
              "\n",
              "  .colab-df-quickchart:hover {\n",
              "    background-color: #E2EBFA;\n",
              "    box-shadow: 0px 1px 2px rgba(60, 64, 67, 0.3), 0px 1px 3px 1px rgba(60, 64, 67, 0.15);\n",
              "    fill: #174EA6;\n",
              "  }\n",
              "\n",
              "  [theme=dark] .colab-df-quickchart {\n",
              "    background-color: #3B4455;\n",
              "    fill: #D2E3FC;\n",
              "  }\n",
              "\n",
              "  [theme=dark] .colab-df-quickchart:hover {\n",
              "    background-color: #434B5C;\n",
              "    box-shadow: 0px 1px 3px 1px rgba(0, 0, 0, 0.15);\n",
              "    filter: drop-shadow(0px 1px 2px rgba(0, 0, 0, 0.3));\n",
              "    fill: #FFFFFF;\n",
              "  }\n",
              "</style>\n",
              "\n",
              "    <script>\n",
              "      async function quickchart(key) {\n",
              "        const containerElement = document.querySelector('#' + key);\n",
              "        const charts = await google.colab.kernel.invokeFunction(\n",
              "            'suggestCharts', [key], {});\n",
              "      }\n",
              "    </script>\n",
              "\n",
              "      <script>\n",
              "\n",
              "function displayQuickchartButton(domScope) {\n",
              "  let quickchartButtonEl =\n",
              "    domScope.querySelector('#df-43a027b4-3a21-4c07-b3d8-4a785127537f button.colab-df-quickchart');\n",
              "  quickchartButtonEl.style.display =\n",
              "    google.colab.kernel.accessAllowed ? 'block' : 'none';\n",
              "}\n",
              "\n",
              "        displayQuickchartButton(document);\n",
              "      </script>\n",
              "      <style>\n",
              "    .colab-df-container {\n",
              "      display:flex;\n",
              "      flex-wrap:wrap;\n",
              "      gap: 12px;\n",
              "    }\n",
              "\n",
              "    .colab-df-convert {\n",
              "      background-color: #E8F0FE;\n",
              "      border: none;\n",
              "      border-radius: 50%;\n",
              "      cursor: pointer;\n",
              "      display: none;\n",
              "      fill: #1967D2;\n",
              "      height: 32px;\n",
              "      padding: 0 0 0 0;\n",
              "      width: 32px;\n",
              "    }\n",
              "\n",
              "    .colab-df-convert:hover {\n",
              "      background-color: #E2EBFA;\n",
              "      box-shadow: 0px 1px 2px rgba(60, 64, 67, 0.3), 0px 1px 3px 1px rgba(60, 64, 67, 0.15);\n",
              "      fill: #174EA6;\n",
              "    }\n",
              "\n",
              "    [theme=dark] .colab-df-convert {\n",
              "      background-color: #3B4455;\n",
              "      fill: #D2E3FC;\n",
              "    }\n",
              "\n",
              "    [theme=dark] .colab-df-convert:hover {\n",
              "      background-color: #434B5C;\n",
              "      box-shadow: 0px 1px 3px 1px rgba(0, 0, 0, 0.15);\n",
              "      filter: drop-shadow(0px 1px 2px rgba(0, 0, 0, 0.3));\n",
              "      fill: #FFFFFF;\n",
              "    }\n",
              "  </style>\n",
              "\n",
              "      <script>\n",
              "        const buttonEl =\n",
              "          document.querySelector('#df-2bdec1e0-161c-4b24-b6ef-9f09ac2802f3 button.colab-df-convert');\n",
              "        buttonEl.style.display =\n",
              "          google.colab.kernel.accessAllowed ? 'block' : 'none';\n",
              "\n",
              "        async function convertToInteractive(key) {\n",
              "          const element = document.querySelector('#df-2bdec1e0-161c-4b24-b6ef-9f09ac2802f3');\n",
              "          const dataTable =\n",
              "            await google.colab.kernel.invokeFunction('convertToInteractive',\n",
              "                                                     [key], {});\n",
              "          if (!dataTable) return;\n",
              "\n",
              "          const docLinkHtml = 'Like what you see? Visit the ' +\n",
              "            '<a target=\"_blank\" href=https://colab.research.google.com/notebooks/data_table.ipynb>data table notebook</a>'\n",
              "            + ' to learn more about interactive tables.';\n",
              "          element.innerHTML = '';\n",
              "          dataTable['output_type'] = 'display_data';\n",
              "          await google.colab.output.renderOutput(dataTable, element);\n",
              "          const docLink = document.createElement('div');\n",
              "          docLink.innerHTML = docLinkHtml;\n",
              "          element.appendChild(docLink);\n",
              "        }\n",
              "      </script>\n",
              "    </div>\n",
              "  </div>\n"
            ]
          },
          "metadata": {},
          "execution_count": 26
        }
      ],
      "source": [
        "transformed_df.head()"
      ]
    },
    {
      "cell_type": "code",
      "source": [
        "print(transformed_df.columns.to_list())"
      ],
      "metadata": {
        "id": "JOy5MM1iYljG",
        "colab": {
          "base_uri": "https://localhost:8080/"
        },
        "outputId": "62136feb-cd64-4e6a-f39c-0f2110663ccb"
      },
      "execution_count": 27,
      "outputs": [
        {
          "output_type": "stream",
          "name": "stdout",
          "text": [
            "['recipient_gender_female', 'recipient_gender_male', 'recipient_gender_nan', 'recipient_ABO_0', 'recipient_ABO_A', 'recipient_ABO_AB', 'recipient_ABO_B', 'recipient_ABO_nan', 'recipient_rh_minus', 'recipient_rh_plus', 'recipient_rh_nan', 'recipient_CMV_absent', 'recipient_CMV_present', 'recipient_CMV_nan', 'disease_ALL', 'disease_AML', 'disease_Mielodisplasia', 'disease_SMD', 'disease_chronic', 'disease_nonmalignant', 'disease_group_malignant', 'disease_group_nonmalignant', 'disease_group_nan', 'Sexo Donante_Femenino', 'Sexo Donante_Masculino', 'Sexo Donante_nan', 'HLA_mismatch_matched', 'HLA_mismatch_mismatched', 'donor_ABO_0', 'donor_ABO_A', 'donor_ABO_AB', 'donor_ABO_B', 'donor_ABO_nan', 'donor_CMV_absent', 'donor_CMV_present', 'donor_CMV_nan', 'stem_cell_source_SCU', 'stem_cell_source_bone_marrow', 'stem_cell_source_peripheral_blood', 'stem_cell_source_nan', 'Segundo TPH', 'Presenta traslocación genética', 't(9;22)', '(11q23) anormales', 't(4;11)', 'Otras traslocaciones', 'Factor Rh1', 'CNT/Kg × 108', 'CMN/Kg × 108', 'CD34_x1e6_per_kg', 'Tiene segundo donante? ', 'Acondicionamiento (choice=Sin Acondicionamiento)', 'Acondicionamiento (choice=QMT)', 'Acondicionamiento (choice=RDT)', 'Acondicionamiento (choice=ILT)', 'Quimioterapia (choice=Antitimoglobulina (ATG))', 'Quimioterapia (choice=Citarabina)', 'Quimioterapia (choice=Busulfán (Bu))', 'Quimioterapia (choice=Fludarabina)', 'Quimioterapia (choice=Melfalán (Mel))', 'Quimioterapia (choice=Etoposido (Vp-16))', 'Quimioterapia (choice=Thiotepa)', 'Quimioterapia (choice=Carboplatino)', 'Quimioterapia (choice=Carmustina)', 'Quimioterapia (choice=Rituximab)', 'Quimioterapia (choice=Ciclofosfamida)', 'Quimioterapia (choice=Otros)', 'Profilaxis (choice=Antitimoglobulina (ATG))', 'Profilaxis (choice=Ciclofosfamida (CFM, CPM, Cy))', 'Profilaxis (choice=Ciclosporina (CsA))', 'Profilaxis (choice=Depleción de Linfocitos T (DLT))', 'Profilaxis (choice=Metilprednisolona (MP, MTP))', 'Profilaxis (choice=Metotrexato (MTX))', 'Profilaxis (choice=Micofelonato (MMF, MFN))', 'Profilaxis (choice=Prednisona (PDN, Pred))', 'Profilaxis (choice=Rapamicina)', 'Profilaxis (choice=Tacrolimus (FK, FK506))', 'Profilaxis (choice=Otros)', 'recipient_age']\n"
          ]
        }
      ]
    },
    {
      "cell_type": "code",
      "execution_count": 28,
      "metadata": {
        "id": "ljWrpnhWVWmH"
      },
      "outputs": [],
      "source": [
        "X=transformed_df.drop(['donor_ABO_nan', 'donor_CMV_nan','recipient_gender_nan','recipient_ABO_nan','recipient_rh_nan',\n",
        "                             'recipient_CMV_nan','disease_group_nan',\n",
        "                             'stem_cell_source_nan','Sexo Donante_nan'],axis=1)"
      ]
    },
    {
      "cell_type": "code",
      "source": [
        "X.shape"
      ],
      "metadata": {
        "id": "P7qbtRGQckY1",
        "colab": {
          "base_uri": "https://localhost:8080/"
        },
        "outputId": "298ed118-f749-460f-ebbb-d0d889fd428e"
      },
      "execution_count": 29,
      "outputs": [
        {
          "output_type": "execute_result",
          "data": {
            "text/plain": [
              "(438, 70)"
            ]
          },
          "metadata": {},
          "execution_count": 29
        }
      ]
    },
    {
      "cell_type": "markdown",
      "metadata": {
        "id": "mp1euRJiTd97"
      },
      "source": [
        "##Imputatition"
      ]
    },
    {
      "cell_type": "code",
      "execution_count": 30,
      "metadata": {
        "id": "MvFjYVMTTdHU"
      },
      "outputs": [],
      "source": [
        "rf=RandomForestRegressor()\n",
        "lr=LinearRegression()\n",
        "imputer = IterativeImputer(estimator=rf,random_state=100, max_iter=30)"
      ]
    },
    {
      "cell_type": "code",
      "execution_count": 31,
      "metadata": {
        "id": "hznsltOrToaF"
      },
      "outputs": [],
      "source": [
        "df_train=X.loc[:, ['CD34_x1e6_per_kg',\"recipient_age\",\"CNT/Kg × 108\", \"CMN/Kg × 108\"]]"
      ]
    },
    {
      "cell_type": "code",
      "execution_count": 32,
      "metadata": {
        "id": "BFsu2-GxT6SM",
        "colab": {
          "base_uri": "https://localhost:8080/",
          "height": 154
        },
        "outputId": "76e0d085-d72c-4853-cad3-8d02f6cd698b"
      },
      "outputs": [
        {
          "output_type": "stream",
          "name": "stderr",
          "text": [
            "/usr/local/lib/python3.10/dist-packages/sklearn/impute/_iterative.py:785: ConvergenceWarning: [IterativeImputer] Early stopping criterion not reached.\n",
            "  warnings.warn(\n"
          ]
        },
        {
          "output_type": "execute_result",
          "data": {
            "text/plain": [
              "IterativeImputer(estimator=RandomForestRegressor(), max_iter=30,\n",
              "                 random_state=100)"
            ],
            "text/html": [
              "<style>#sk-container-id-1 {color: black;background-color: white;}#sk-container-id-1 pre{padding: 0;}#sk-container-id-1 div.sk-toggleable {background-color: white;}#sk-container-id-1 label.sk-toggleable__label {cursor: pointer;display: block;width: 100%;margin-bottom: 0;padding: 0.3em;box-sizing: border-box;text-align: center;}#sk-container-id-1 label.sk-toggleable__label-arrow:before {content: \"▸\";float: left;margin-right: 0.25em;color: #696969;}#sk-container-id-1 label.sk-toggleable__label-arrow:hover:before {color: black;}#sk-container-id-1 div.sk-estimator:hover label.sk-toggleable__label-arrow:before {color: black;}#sk-container-id-1 div.sk-toggleable__content {max-height: 0;max-width: 0;overflow: hidden;text-align: left;background-color: #f0f8ff;}#sk-container-id-1 div.sk-toggleable__content pre {margin: 0.2em;color: black;border-radius: 0.25em;background-color: #f0f8ff;}#sk-container-id-1 input.sk-toggleable__control:checked~div.sk-toggleable__content {max-height: 200px;max-width: 100%;overflow: auto;}#sk-container-id-1 input.sk-toggleable__control:checked~label.sk-toggleable__label-arrow:before {content: \"▾\";}#sk-container-id-1 div.sk-estimator input.sk-toggleable__control:checked~label.sk-toggleable__label {background-color: #d4ebff;}#sk-container-id-1 div.sk-label input.sk-toggleable__control:checked~label.sk-toggleable__label {background-color: #d4ebff;}#sk-container-id-1 input.sk-hidden--visually {border: 0;clip: rect(1px 1px 1px 1px);clip: rect(1px, 1px, 1px, 1px);height: 1px;margin: -1px;overflow: hidden;padding: 0;position: absolute;width: 1px;}#sk-container-id-1 div.sk-estimator {font-family: monospace;background-color: #f0f8ff;border: 1px dotted black;border-radius: 0.25em;box-sizing: border-box;margin-bottom: 0.5em;}#sk-container-id-1 div.sk-estimator:hover {background-color: #d4ebff;}#sk-container-id-1 div.sk-parallel-item::after {content: \"\";width: 100%;border-bottom: 1px solid gray;flex-grow: 1;}#sk-container-id-1 div.sk-label:hover label.sk-toggleable__label {background-color: #d4ebff;}#sk-container-id-1 div.sk-serial::before {content: \"\";position: absolute;border-left: 1px solid gray;box-sizing: border-box;top: 0;bottom: 0;left: 50%;z-index: 0;}#sk-container-id-1 div.sk-serial {display: flex;flex-direction: column;align-items: center;background-color: white;padding-right: 0.2em;padding-left: 0.2em;position: relative;}#sk-container-id-1 div.sk-item {position: relative;z-index: 1;}#sk-container-id-1 div.sk-parallel {display: flex;align-items: stretch;justify-content: center;background-color: white;position: relative;}#sk-container-id-1 div.sk-item::before, #sk-container-id-1 div.sk-parallel-item::before {content: \"\";position: absolute;border-left: 1px solid gray;box-sizing: border-box;top: 0;bottom: 0;left: 50%;z-index: -1;}#sk-container-id-1 div.sk-parallel-item {display: flex;flex-direction: column;z-index: 1;position: relative;background-color: white;}#sk-container-id-1 div.sk-parallel-item:first-child::after {align-self: flex-end;width: 50%;}#sk-container-id-1 div.sk-parallel-item:last-child::after {align-self: flex-start;width: 50%;}#sk-container-id-1 div.sk-parallel-item:only-child::after {width: 0;}#sk-container-id-1 div.sk-dashed-wrapped {border: 1px dashed gray;margin: 0 0.4em 0.5em 0.4em;box-sizing: border-box;padding-bottom: 0.4em;background-color: white;}#sk-container-id-1 div.sk-label label {font-family: monospace;font-weight: bold;display: inline-block;line-height: 1.2em;}#sk-container-id-1 div.sk-label-container {text-align: center;}#sk-container-id-1 div.sk-container {/* jupyter's `normalize.less` sets `[hidden] { display: none; }` but bootstrap.min.css set `[hidden] { display: none !important; }` so we also need the `!important` here to be able to override the default hidden behavior on the sphinx rendered scikit-learn.org. See: https://github.com/scikit-learn/scikit-learn/issues/21755 */display: inline-block !important;position: relative;}#sk-container-id-1 div.sk-text-repr-fallback {display: none;}</style><div id=\"sk-container-id-1\" class=\"sk-top-container\"><div class=\"sk-text-repr-fallback\"><pre>IterativeImputer(estimator=RandomForestRegressor(), max_iter=30,\n",
              "                 random_state=100)</pre><b>In a Jupyter environment, please rerun this cell to show the HTML representation or trust the notebook. <br />On GitHub, the HTML representation is unable to render, please try loading this page with nbviewer.org.</b></div><div class=\"sk-container\" hidden><div class=\"sk-item sk-dashed-wrapped\"><div class=\"sk-label-container\"><div class=\"sk-label sk-toggleable\"><input class=\"sk-toggleable__control sk-hidden--visually\" id=\"sk-estimator-id-1\" type=\"checkbox\" ><label for=\"sk-estimator-id-1\" class=\"sk-toggleable__label sk-toggleable__label-arrow\">IterativeImputer</label><div class=\"sk-toggleable__content\"><pre>IterativeImputer(estimator=RandomForestRegressor(), max_iter=30,\n",
              "                 random_state=100)</pre></div></div></div><div class=\"sk-parallel\"><div class=\"sk-parallel-item\"><div class=\"sk-item\"><div class=\"sk-label-container\"><div class=\"sk-label sk-toggleable\"><input class=\"sk-toggleable__control sk-hidden--visually\" id=\"sk-estimator-id-2\" type=\"checkbox\" ><label for=\"sk-estimator-id-2\" class=\"sk-toggleable__label sk-toggleable__label-arrow\">estimator: RandomForestRegressor</label><div class=\"sk-toggleable__content\"><pre>RandomForestRegressor()</pre></div></div></div><div class=\"sk-serial\"><div class=\"sk-item\"><div class=\"sk-estimator sk-toggleable\"><input class=\"sk-toggleable__control sk-hidden--visually\" id=\"sk-estimator-id-3\" type=\"checkbox\" ><label for=\"sk-estimator-id-3\" class=\"sk-toggleable__label sk-toggleable__label-arrow\">RandomForestRegressor</label><div class=\"sk-toggleable__content\"><pre>RandomForestRegressor()</pre></div></div></div></div></div></div></div></div></div></div>"
            ]
          },
          "metadata": {},
          "execution_count": 32
        }
      ],
      "source": [
        "imputer.fit(df_train)"
      ]
    },
    {
      "cell_type": "code",
      "execution_count": 33,
      "metadata": {
        "id": "GEHcs_1ZT9ty"
      },
      "outputs": [],
      "source": [
        "df_imputed = imputer.transform(df_train)"
      ]
    },
    {
      "cell_type": "code",
      "execution_count": 34,
      "metadata": {
        "id": "LVR7AIFzUCgo"
      },
      "outputs": [],
      "source": [
        "X.loc[:, ['CD34_x1e6_per_kg',\"recipient_age\",\"CNT/Kg × 108\", \"CMN/Kg × 108\"]]=df_imputed"
      ]
    },
    {
      "cell_type": "code",
      "execution_count": 35,
      "metadata": {
        "id": "gpSisOG1UJZ8",
        "colab": {
          "base_uri": "https://localhost:8080/",
          "height": 352
        },
        "outputId": "e2398943-b4b8-4e8d-d264-60113746c484"
      },
      "outputs": [
        {
          "output_type": "execute_result",
          "data": {
            "text/plain": [
              "   recipient_gender_female  recipient_gender_male  recipient_ABO_0  \\\n",
              "0                      0.0                    1.0              1.0   \n",
              "1                      0.0                    1.0              0.0   \n",
              "2                      0.0                    1.0              1.0   \n",
              "3                      0.0                    1.0              1.0   \n",
              "4                      1.0                    0.0              1.0   \n",
              "\n",
              "   recipient_ABO_A  recipient_ABO_AB  recipient_ABO_B  recipient_rh_minus  \\\n",
              "0              0.0               0.0              0.0                 0.0   \n",
              "1              1.0               0.0              0.0                 0.0   \n",
              "2              0.0               0.0              0.0                 0.0   \n",
              "3              0.0               0.0              0.0                 0.0   \n",
              "4              0.0               0.0              0.0                 0.0   \n",
              "\n",
              "   recipient_rh_plus  recipient_CMV_absent  recipient_CMV_present  ...  \\\n",
              "0                1.0                   1.0                    0.0  ...   \n",
              "1                1.0                   0.0                    1.0  ...   \n",
              "2                1.0                   0.0                    1.0  ...   \n",
              "3                1.0                   1.0                    0.0  ...   \n",
              "4                1.0                   0.0                    1.0  ...   \n",
              "\n",
              "   Profilaxis (choice=Ciclosporina (CsA))  \\\n",
              "0                                     1.0   \n",
              "1                                     1.0   \n",
              "2                                     1.0   \n",
              "3                                     1.0   \n",
              "4                                     1.0   \n",
              "\n",
              "   Profilaxis (choice=Depleción de Linfocitos T (DLT))  \\\n",
              "0                                                0.0     \n",
              "1                                                0.0     \n",
              "2                                                0.0     \n",
              "3                                                0.0     \n",
              "4                                                0.0     \n",
              "\n",
              "   Profilaxis (choice=Metilprednisolona (MP, MTP))  \\\n",
              "0                                              0.0   \n",
              "1                                              0.0   \n",
              "2                                              0.0   \n",
              "3                                              0.0   \n",
              "4                                              0.0   \n",
              "\n",
              "   Profilaxis (choice=Metotrexato (MTX))  \\\n",
              "0                                    0.0   \n",
              "1                                    0.0   \n",
              "2                                    0.0   \n",
              "3                                    0.0   \n",
              "4                                    0.0   \n",
              "\n",
              "   Profilaxis (choice=Micofelonato (MMF, MFN))  \\\n",
              "0                                          0.0   \n",
              "1                                          0.0   \n",
              "2                                          0.0   \n",
              "3                                          0.0   \n",
              "4                                          0.0   \n",
              "\n",
              "   Profilaxis (choice=Prednisona (PDN, Pred))  Profilaxis (choice=Rapamicina)  \\\n",
              "0                                         0.0                             0.0   \n",
              "1                                         0.0                             0.0   \n",
              "2                                         0.0                             0.0   \n",
              "3                                         0.0                             0.0   \n",
              "4                                         0.0                             0.0   \n",
              "\n",
              "   Profilaxis (choice=Tacrolimus (FK, FK506))  Profilaxis (choice=Otros)  \\\n",
              "0                                         0.0                        0.0   \n",
              "1                                         0.0                        0.0   \n",
              "2                                         0.0                        0.0   \n",
              "3                                         0.0                        0.0   \n",
              "4                                         0.0                        0.0   \n",
              "\n",
              "   recipient_age  \n",
              "0          10.29  \n",
              "1           2.79  \n",
              "2          16.88  \n",
              "3           2.55  \n",
              "4           5.53  \n",
              "\n",
              "[5 rows x 70 columns]"
            ],
            "text/html": [
              "\n",
              "\n",
              "  <div id=\"df-804686e9-1a27-44cf-9db5-930a7d66107c\">\n",
              "    <div class=\"colab-df-container\">\n",
              "      <div>\n",
              "<style scoped>\n",
              "    .dataframe tbody tr th:only-of-type {\n",
              "        vertical-align: middle;\n",
              "    }\n",
              "\n",
              "    .dataframe tbody tr th {\n",
              "        vertical-align: top;\n",
              "    }\n",
              "\n",
              "    .dataframe thead th {\n",
              "        text-align: right;\n",
              "    }\n",
              "</style>\n",
              "<table border=\"1\" class=\"dataframe\">\n",
              "  <thead>\n",
              "    <tr style=\"text-align: right;\">\n",
              "      <th></th>\n",
              "      <th>recipient_gender_female</th>\n",
              "      <th>recipient_gender_male</th>\n",
              "      <th>recipient_ABO_0</th>\n",
              "      <th>recipient_ABO_A</th>\n",
              "      <th>recipient_ABO_AB</th>\n",
              "      <th>recipient_ABO_B</th>\n",
              "      <th>recipient_rh_minus</th>\n",
              "      <th>recipient_rh_plus</th>\n",
              "      <th>recipient_CMV_absent</th>\n",
              "      <th>recipient_CMV_present</th>\n",
              "      <th>...</th>\n",
              "      <th>Profilaxis (choice=Ciclosporina (CsA))</th>\n",
              "      <th>Profilaxis (choice=Depleción de Linfocitos T (DLT))</th>\n",
              "      <th>Profilaxis (choice=Metilprednisolona (MP, MTP))</th>\n",
              "      <th>Profilaxis (choice=Metotrexato (MTX))</th>\n",
              "      <th>Profilaxis (choice=Micofelonato (MMF, MFN))</th>\n",
              "      <th>Profilaxis (choice=Prednisona (PDN, Pred))</th>\n",
              "      <th>Profilaxis (choice=Rapamicina)</th>\n",
              "      <th>Profilaxis (choice=Tacrolimus (FK, FK506))</th>\n",
              "      <th>Profilaxis (choice=Otros)</th>\n",
              "      <th>recipient_age</th>\n",
              "    </tr>\n",
              "  </thead>\n",
              "  <tbody>\n",
              "    <tr>\n",
              "      <th>0</th>\n",
              "      <td>0.0</td>\n",
              "      <td>1.0</td>\n",
              "      <td>1.0</td>\n",
              "      <td>0.0</td>\n",
              "      <td>0.0</td>\n",
              "      <td>0.0</td>\n",
              "      <td>0.0</td>\n",
              "      <td>1.0</td>\n",
              "      <td>1.0</td>\n",
              "      <td>0.0</td>\n",
              "      <td>...</td>\n",
              "      <td>1.0</td>\n",
              "      <td>0.0</td>\n",
              "      <td>0.0</td>\n",
              "      <td>0.0</td>\n",
              "      <td>0.0</td>\n",
              "      <td>0.0</td>\n",
              "      <td>0.0</td>\n",
              "      <td>0.0</td>\n",
              "      <td>0.0</td>\n",
              "      <td>10.29</td>\n",
              "    </tr>\n",
              "    <tr>\n",
              "      <th>1</th>\n",
              "      <td>0.0</td>\n",
              "      <td>1.0</td>\n",
              "      <td>0.0</td>\n",
              "      <td>1.0</td>\n",
              "      <td>0.0</td>\n",
              "      <td>0.0</td>\n",
              "      <td>0.0</td>\n",
              "      <td>1.0</td>\n",
              "      <td>0.0</td>\n",
              "      <td>1.0</td>\n",
              "      <td>...</td>\n",
              "      <td>1.0</td>\n",
              "      <td>0.0</td>\n",
              "      <td>0.0</td>\n",
              "      <td>0.0</td>\n",
              "      <td>0.0</td>\n",
              "      <td>0.0</td>\n",
              "      <td>0.0</td>\n",
              "      <td>0.0</td>\n",
              "      <td>0.0</td>\n",
              "      <td>2.79</td>\n",
              "    </tr>\n",
              "    <tr>\n",
              "      <th>2</th>\n",
              "      <td>0.0</td>\n",
              "      <td>1.0</td>\n",
              "      <td>1.0</td>\n",
              "      <td>0.0</td>\n",
              "      <td>0.0</td>\n",
              "      <td>0.0</td>\n",
              "      <td>0.0</td>\n",
              "      <td>1.0</td>\n",
              "      <td>0.0</td>\n",
              "      <td>1.0</td>\n",
              "      <td>...</td>\n",
              "      <td>1.0</td>\n",
              "      <td>0.0</td>\n",
              "      <td>0.0</td>\n",
              "      <td>0.0</td>\n",
              "      <td>0.0</td>\n",
              "      <td>0.0</td>\n",
              "      <td>0.0</td>\n",
              "      <td>0.0</td>\n",
              "      <td>0.0</td>\n",
              "      <td>16.88</td>\n",
              "    </tr>\n",
              "    <tr>\n",
              "      <th>3</th>\n",
              "      <td>0.0</td>\n",
              "      <td>1.0</td>\n",
              "      <td>1.0</td>\n",
              "      <td>0.0</td>\n",
              "      <td>0.0</td>\n",
              "      <td>0.0</td>\n",
              "      <td>0.0</td>\n",
              "      <td>1.0</td>\n",
              "      <td>1.0</td>\n",
              "      <td>0.0</td>\n",
              "      <td>...</td>\n",
              "      <td>1.0</td>\n",
              "      <td>0.0</td>\n",
              "      <td>0.0</td>\n",
              "      <td>0.0</td>\n",
              "      <td>0.0</td>\n",
              "      <td>0.0</td>\n",
              "      <td>0.0</td>\n",
              "      <td>0.0</td>\n",
              "      <td>0.0</td>\n",
              "      <td>2.55</td>\n",
              "    </tr>\n",
              "    <tr>\n",
              "      <th>4</th>\n",
              "      <td>1.0</td>\n",
              "      <td>0.0</td>\n",
              "      <td>1.0</td>\n",
              "      <td>0.0</td>\n",
              "      <td>0.0</td>\n",
              "      <td>0.0</td>\n",
              "      <td>0.0</td>\n",
              "      <td>1.0</td>\n",
              "      <td>0.0</td>\n",
              "      <td>1.0</td>\n",
              "      <td>...</td>\n",
              "      <td>1.0</td>\n",
              "      <td>0.0</td>\n",
              "      <td>0.0</td>\n",
              "      <td>0.0</td>\n",
              "      <td>0.0</td>\n",
              "      <td>0.0</td>\n",
              "      <td>0.0</td>\n",
              "      <td>0.0</td>\n",
              "      <td>0.0</td>\n",
              "      <td>5.53</td>\n",
              "    </tr>\n",
              "  </tbody>\n",
              "</table>\n",
              "<p>5 rows × 70 columns</p>\n",
              "</div>\n",
              "      <button class=\"colab-df-convert\" onclick=\"convertToInteractive('df-804686e9-1a27-44cf-9db5-930a7d66107c')\"\n",
              "              title=\"Convert this dataframe to an interactive table.\"\n",
              "              style=\"display:none;\">\n",
              "\n",
              "  <svg xmlns=\"http://www.w3.org/2000/svg\" height=\"24px\"viewBox=\"0 0 24 24\"\n",
              "       width=\"24px\">\n",
              "    <path d=\"M0 0h24v24H0V0z\" fill=\"none\"/>\n",
              "    <path d=\"M18.56 5.44l.94 2.06.94-2.06 2.06-.94-2.06-.94-.94-2.06-.94 2.06-2.06.94zm-11 1L8.5 8.5l.94-2.06 2.06-.94-2.06-.94L8.5 2.5l-.94 2.06-2.06.94zm10 10l.94 2.06.94-2.06 2.06-.94-2.06-.94-.94-2.06-.94 2.06-2.06.94z\"/><path d=\"M17.41 7.96l-1.37-1.37c-.4-.4-.92-.59-1.43-.59-.52 0-1.04.2-1.43.59L10.3 9.45l-7.72 7.72c-.78.78-.78 2.05 0 2.83L4 21.41c.39.39.9.59 1.41.59.51 0 1.02-.2 1.41-.59l7.78-7.78 2.81-2.81c.8-.78.8-2.07 0-2.86zM5.41 20L4 18.59l7.72-7.72 1.47 1.35L5.41 20z\"/>\n",
              "  </svg>\n",
              "      </button>\n",
              "\n",
              "\n",
              "\n",
              "    <div id=\"df-100b59ee-fc02-47a4-b186-3b8626dbf252\">\n",
              "      <button class=\"colab-df-quickchart\" onclick=\"quickchart('df-100b59ee-fc02-47a4-b186-3b8626dbf252')\"\n",
              "              title=\"Suggest charts.\"\n",
              "              style=\"display:none;\">\n",
              "\n",
              "<svg xmlns=\"http://www.w3.org/2000/svg\" height=\"24px\"viewBox=\"0 0 24 24\"\n",
              "     width=\"24px\">\n",
              "    <g>\n",
              "        <path d=\"M19 3H5c-1.1 0-2 .9-2 2v14c0 1.1.9 2 2 2h14c1.1 0 2-.9 2-2V5c0-1.1-.9-2-2-2zM9 17H7v-7h2v7zm4 0h-2V7h2v10zm4 0h-2v-4h2v4z\"/>\n",
              "    </g>\n",
              "</svg>\n",
              "      </button>\n",
              "    </div>\n",
              "\n",
              "<style>\n",
              "  .colab-df-quickchart {\n",
              "    background-color: #E8F0FE;\n",
              "    border: none;\n",
              "    border-radius: 50%;\n",
              "    cursor: pointer;\n",
              "    display: none;\n",
              "    fill: #1967D2;\n",
              "    height: 32px;\n",
              "    padding: 0 0 0 0;\n",
              "    width: 32px;\n",
              "  }\n",
              "\n",
              "  .colab-df-quickchart:hover {\n",
              "    background-color: #E2EBFA;\n",
              "    box-shadow: 0px 1px 2px rgba(60, 64, 67, 0.3), 0px 1px 3px 1px rgba(60, 64, 67, 0.15);\n",
              "    fill: #174EA6;\n",
              "  }\n",
              "\n",
              "  [theme=dark] .colab-df-quickchart {\n",
              "    background-color: #3B4455;\n",
              "    fill: #D2E3FC;\n",
              "  }\n",
              "\n",
              "  [theme=dark] .colab-df-quickchart:hover {\n",
              "    background-color: #434B5C;\n",
              "    box-shadow: 0px 1px 3px 1px rgba(0, 0, 0, 0.15);\n",
              "    filter: drop-shadow(0px 1px 2px rgba(0, 0, 0, 0.3));\n",
              "    fill: #FFFFFF;\n",
              "  }\n",
              "</style>\n",
              "\n",
              "    <script>\n",
              "      async function quickchart(key) {\n",
              "        const containerElement = document.querySelector('#' + key);\n",
              "        const charts = await google.colab.kernel.invokeFunction(\n",
              "            'suggestCharts', [key], {});\n",
              "      }\n",
              "    </script>\n",
              "\n",
              "      <script>\n",
              "\n",
              "function displayQuickchartButton(domScope) {\n",
              "  let quickchartButtonEl =\n",
              "    domScope.querySelector('#df-100b59ee-fc02-47a4-b186-3b8626dbf252 button.colab-df-quickchart');\n",
              "  quickchartButtonEl.style.display =\n",
              "    google.colab.kernel.accessAllowed ? 'block' : 'none';\n",
              "}\n",
              "\n",
              "        displayQuickchartButton(document);\n",
              "      </script>\n",
              "      <style>\n",
              "    .colab-df-container {\n",
              "      display:flex;\n",
              "      flex-wrap:wrap;\n",
              "      gap: 12px;\n",
              "    }\n",
              "\n",
              "    .colab-df-convert {\n",
              "      background-color: #E8F0FE;\n",
              "      border: none;\n",
              "      border-radius: 50%;\n",
              "      cursor: pointer;\n",
              "      display: none;\n",
              "      fill: #1967D2;\n",
              "      height: 32px;\n",
              "      padding: 0 0 0 0;\n",
              "      width: 32px;\n",
              "    }\n",
              "\n",
              "    .colab-df-convert:hover {\n",
              "      background-color: #E2EBFA;\n",
              "      box-shadow: 0px 1px 2px rgba(60, 64, 67, 0.3), 0px 1px 3px 1px rgba(60, 64, 67, 0.15);\n",
              "      fill: #174EA6;\n",
              "    }\n",
              "\n",
              "    [theme=dark] .colab-df-convert {\n",
              "      background-color: #3B4455;\n",
              "      fill: #D2E3FC;\n",
              "    }\n",
              "\n",
              "    [theme=dark] .colab-df-convert:hover {\n",
              "      background-color: #434B5C;\n",
              "      box-shadow: 0px 1px 3px 1px rgba(0, 0, 0, 0.15);\n",
              "      filter: drop-shadow(0px 1px 2px rgba(0, 0, 0, 0.3));\n",
              "      fill: #FFFFFF;\n",
              "    }\n",
              "  </style>\n",
              "\n",
              "      <script>\n",
              "        const buttonEl =\n",
              "          document.querySelector('#df-804686e9-1a27-44cf-9db5-930a7d66107c button.colab-df-convert');\n",
              "        buttonEl.style.display =\n",
              "          google.colab.kernel.accessAllowed ? 'block' : 'none';\n",
              "\n",
              "        async function convertToInteractive(key) {\n",
              "          const element = document.querySelector('#df-804686e9-1a27-44cf-9db5-930a7d66107c');\n",
              "          const dataTable =\n",
              "            await google.colab.kernel.invokeFunction('convertToInteractive',\n",
              "                                                     [key], {});\n",
              "          if (!dataTable) return;\n",
              "\n",
              "          const docLinkHtml = 'Like what you see? Visit the ' +\n",
              "            '<a target=\"_blank\" href=https://colab.research.google.com/notebooks/data_table.ipynb>data table notebook</a>'\n",
              "            + ' to learn more about interactive tables.';\n",
              "          element.innerHTML = '';\n",
              "          dataTable['output_type'] = 'display_data';\n",
              "          await google.colab.output.renderOutput(dataTable, element);\n",
              "          const docLink = document.createElement('div');\n",
              "          docLink.innerHTML = docLinkHtml;\n",
              "          element.appendChild(docLink);\n",
              "        }\n",
              "      </script>\n",
              "    </div>\n",
              "  </div>\n"
            ]
          },
          "metadata": {},
          "execution_count": 35
        }
      ],
      "source": [
        "X.head()"
      ]
    },
    {
      "cell_type": "code",
      "execution_count": 36,
      "metadata": {
        "id": "-U_HxmoaUPZo"
      },
      "outputs": [],
      "source": [
        "rfc=RandomForestClassifier(random_state=0)\n",
        "lgr=LogisticRegression()\n",
        "imputerbinary = IterativeImputer(estimator=rfc,random_state=100, max_iter=15)"
      ]
    },
    {
      "cell_type": "code",
      "execution_count": 37,
      "metadata": {
        "id": "KwzFLKxxUTya"
      },
      "outputs": [],
      "source": [
        "xtemp=X.drop( ['CD34_x1e6_per_kg',\"recipient_age\",\"CNT/Kg × 108\", \"CMN/Kg × 108\"],axis=1)\n",
        "binarycols=xtemp.columns.to_list()\n",
        "df_train_binary=xtemp"
      ]
    },
    {
      "cell_type": "code",
      "execution_count": 38,
      "metadata": {
        "id": "3BZkyzGIUhIZ",
        "colab": {
          "base_uri": "https://localhost:8080/",
          "height": 118
        },
        "outputId": "d91823fb-e5d3-40b0-d5e4-898729fe3bdf"
      },
      "outputs": [
        {
          "output_type": "execute_result",
          "data": {
            "text/plain": [
              "IterativeImputer(estimator=RandomForestClassifier(random_state=0), max_iter=15,\n",
              "                 random_state=100)"
            ],
            "text/html": [
              "<style>#sk-container-id-2 {color: black;background-color: white;}#sk-container-id-2 pre{padding: 0;}#sk-container-id-2 div.sk-toggleable {background-color: white;}#sk-container-id-2 label.sk-toggleable__label {cursor: pointer;display: block;width: 100%;margin-bottom: 0;padding: 0.3em;box-sizing: border-box;text-align: center;}#sk-container-id-2 label.sk-toggleable__label-arrow:before {content: \"▸\";float: left;margin-right: 0.25em;color: #696969;}#sk-container-id-2 label.sk-toggleable__label-arrow:hover:before {color: black;}#sk-container-id-2 div.sk-estimator:hover label.sk-toggleable__label-arrow:before {color: black;}#sk-container-id-2 div.sk-toggleable__content {max-height: 0;max-width: 0;overflow: hidden;text-align: left;background-color: #f0f8ff;}#sk-container-id-2 div.sk-toggleable__content pre {margin: 0.2em;color: black;border-radius: 0.25em;background-color: #f0f8ff;}#sk-container-id-2 input.sk-toggleable__control:checked~div.sk-toggleable__content {max-height: 200px;max-width: 100%;overflow: auto;}#sk-container-id-2 input.sk-toggleable__control:checked~label.sk-toggleable__label-arrow:before {content: \"▾\";}#sk-container-id-2 div.sk-estimator input.sk-toggleable__control:checked~label.sk-toggleable__label {background-color: #d4ebff;}#sk-container-id-2 div.sk-label input.sk-toggleable__control:checked~label.sk-toggleable__label {background-color: #d4ebff;}#sk-container-id-2 input.sk-hidden--visually {border: 0;clip: rect(1px 1px 1px 1px);clip: rect(1px, 1px, 1px, 1px);height: 1px;margin: -1px;overflow: hidden;padding: 0;position: absolute;width: 1px;}#sk-container-id-2 div.sk-estimator {font-family: monospace;background-color: #f0f8ff;border: 1px dotted black;border-radius: 0.25em;box-sizing: border-box;margin-bottom: 0.5em;}#sk-container-id-2 div.sk-estimator:hover {background-color: #d4ebff;}#sk-container-id-2 div.sk-parallel-item::after {content: \"\";width: 100%;border-bottom: 1px solid gray;flex-grow: 1;}#sk-container-id-2 div.sk-label:hover label.sk-toggleable__label {background-color: #d4ebff;}#sk-container-id-2 div.sk-serial::before {content: \"\";position: absolute;border-left: 1px solid gray;box-sizing: border-box;top: 0;bottom: 0;left: 50%;z-index: 0;}#sk-container-id-2 div.sk-serial {display: flex;flex-direction: column;align-items: center;background-color: white;padding-right: 0.2em;padding-left: 0.2em;position: relative;}#sk-container-id-2 div.sk-item {position: relative;z-index: 1;}#sk-container-id-2 div.sk-parallel {display: flex;align-items: stretch;justify-content: center;background-color: white;position: relative;}#sk-container-id-2 div.sk-item::before, #sk-container-id-2 div.sk-parallel-item::before {content: \"\";position: absolute;border-left: 1px solid gray;box-sizing: border-box;top: 0;bottom: 0;left: 50%;z-index: -1;}#sk-container-id-2 div.sk-parallel-item {display: flex;flex-direction: column;z-index: 1;position: relative;background-color: white;}#sk-container-id-2 div.sk-parallel-item:first-child::after {align-self: flex-end;width: 50%;}#sk-container-id-2 div.sk-parallel-item:last-child::after {align-self: flex-start;width: 50%;}#sk-container-id-2 div.sk-parallel-item:only-child::after {width: 0;}#sk-container-id-2 div.sk-dashed-wrapped {border: 1px dashed gray;margin: 0 0.4em 0.5em 0.4em;box-sizing: border-box;padding-bottom: 0.4em;background-color: white;}#sk-container-id-2 div.sk-label label {font-family: monospace;font-weight: bold;display: inline-block;line-height: 1.2em;}#sk-container-id-2 div.sk-label-container {text-align: center;}#sk-container-id-2 div.sk-container {/* jupyter's `normalize.less` sets `[hidden] { display: none; }` but bootstrap.min.css set `[hidden] { display: none !important; }` so we also need the `!important` here to be able to override the default hidden behavior on the sphinx rendered scikit-learn.org. See: https://github.com/scikit-learn/scikit-learn/issues/21755 */display: inline-block !important;position: relative;}#sk-container-id-2 div.sk-text-repr-fallback {display: none;}</style><div id=\"sk-container-id-2\" class=\"sk-top-container\"><div class=\"sk-text-repr-fallback\"><pre>IterativeImputer(estimator=RandomForestClassifier(random_state=0), max_iter=15,\n",
              "                 random_state=100)</pre><b>In a Jupyter environment, please rerun this cell to show the HTML representation or trust the notebook. <br />On GitHub, the HTML representation is unable to render, please try loading this page with nbviewer.org.</b></div><div class=\"sk-container\" hidden><div class=\"sk-item sk-dashed-wrapped\"><div class=\"sk-label-container\"><div class=\"sk-label sk-toggleable\"><input class=\"sk-toggleable__control sk-hidden--visually\" id=\"sk-estimator-id-4\" type=\"checkbox\" ><label for=\"sk-estimator-id-4\" class=\"sk-toggleable__label sk-toggleable__label-arrow\">IterativeImputer</label><div class=\"sk-toggleable__content\"><pre>IterativeImputer(estimator=RandomForestClassifier(random_state=0), max_iter=15,\n",
              "                 random_state=100)</pre></div></div></div><div class=\"sk-parallel\"><div class=\"sk-parallel-item\"><div class=\"sk-item\"><div class=\"sk-label-container\"><div class=\"sk-label sk-toggleable\"><input class=\"sk-toggleable__control sk-hidden--visually\" id=\"sk-estimator-id-5\" type=\"checkbox\" ><label for=\"sk-estimator-id-5\" class=\"sk-toggleable__label sk-toggleable__label-arrow\">estimator: RandomForestClassifier</label><div class=\"sk-toggleable__content\"><pre>RandomForestClassifier(random_state=0)</pre></div></div></div><div class=\"sk-serial\"><div class=\"sk-item\"><div class=\"sk-estimator sk-toggleable\"><input class=\"sk-toggleable__control sk-hidden--visually\" id=\"sk-estimator-id-6\" type=\"checkbox\" ><label for=\"sk-estimator-id-6\" class=\"sk-toggleable__label sk-toggleable__label-arrow\">RandomForestClassifier</label><div class=\"sk-toggleable__content\"><pre>RandomForestClassifier(random_state=0)</pre></div></div></div></div></div></div></div></div></div></div>"
            ]
          },
          "metadata": {},
          "execution_count": 38
        }
      ],
      "source": [
        "imputerbinary.fit(df_train_binary)"
      ]
    },
    {
      "cell_type": "code",
      "execution_count": 39,
      "metadata": {
        "id": "bWb9b7ZvUsdp"
      },
      "outputs": [],
      "source": [
        "df_imputed_binary = imputerbinary.transform(df_train_binary)"
      ]
    },
    {
      "cell_type": "code",
      "execution_count": 40,
      "metadata": {
        "id": "TzqNnE-QUmZC"
      },
      "outputs": [],
      "source": [
        "X[binarycols]=df_imputed_binary"
      ]
    },
    {
      "cell_type": "code",
      "execution_count": 41,
      "metadata": {
        "id": "JkUpRFV4UyRu",
        "colab": {
          "base_uri": "https://localhost:8080/"
        },
        "outputId": "a61cc223-6808-484d-e492-07613f3a6481"
      },
      "outputs": [
        {
          "output_type": "stream",
          "name": "stdout",
          "text": [
            "recipient_gender_female                       0\n",
            "recipient_gender_male                         0\n",
            "recipient_ABO_0                               0\n",
            "recipient_ABO_A                               0\n",
            "recipient_ABO_AB                              0\n",
            "                                             ..\n",
            "Profilaxis (choice=Prednisona (PDN, Pred))    0\n",
            "Profilaxis (choice=Rapamicina)                0\n",
            "Profilaxis (choice=Tacrolimus (FK, FK506))    0\n",
            "Profilaxis (choice=Otros)                     0\n",
            "recipient_age                                 0\n",
            "Length: 70, dtype: int64\n"
          ]
        }
      ],
      "source": [
        "print(X.isnull().sum())"
      ]
    },
    {
      "cell_type": "markdown",
      "metadata": {
        "id": "rgxUr-S_A0g8"
      },
      "source": [
        "#Splitting test and train sets"
      ]
    },
    {
      "cell_type": "code",
      "execution_count": 42,
      "metadata": {
        "id": "2X6Vopl4A6pr"
      },
      "outputs": [],
      "source": [
        "X_train, X_test, y_train, y_test = train_test_split(X, y, test_size=0.20, random_state=16,stratify=y)"
      ]
    },
    {
      "cell_type": "code",
      "source": [
        "X_train, X_val, y_train, y_val = train_test_split(X_train, y_train, test_size=0.25, random_state=16,stratify=y_train) # 0.25 x 0.8 = 0.2"
      ],
      "metadata": {
        "id": "vLkxfcXZEPUB"
      },
      "execution_count": 43,
      "outputs": []
    },
    {
      "cell_type": "code",
      "source": [
        "X_train.shape"
      ],
      "metadata": {
        "id": "LpAE2b04Uls1",
        "colab": {
          "base_uri": "https://localhost:8080/"
        },
        "outputId": "6e0cf37e-1eb2-4407-da4b-a54d2ef3e6af"
      },
      "execution_count": 44,
      "outputs": [
        {
          "output_type": "execute_result",
          "data": {
            "text/plain": [
              "(262, 70)"
            ]
          },
          "metadata": {},
          "execution_count": 44
        }
      ]
    },
    {
      "cell_type": "code",
      "execution_count": 45,
      "metadata": {
        "id": "2-sLdXglBV8K",
        "colab": {
          "base_uri": "https://localhost:8080/"
        },
        "outputId": "5bc5ce8f-ad12-4469-ccd2-0ce52b7bc8ba"
      },
      "outputs": [
        {
          "output_type": "stream",
          "name": "stdout",
          "text": [
            "Partición de entrenamento\n",
            "-----------------------\n",
            "count    262.000000\n",
            "mean       0.675573\n",
            "std        0.469057\n",
            "min        0.000000\n",
            "25%        0.000000\n",
            "50%        1.000000\n",
            "75%        1.000000\n",
            "max        1.000000\n",
            "Name: acute_GvHD_II_III_IV, dtype: float64\n"
          ]
        }
      ],
      "source": [
        "print(\"Partición de entrenamento\")\n",
        "print(\"-----------------------\")\n",
        "print(y_train.describe())"
      ]
    },
    {
      "cell_type": "code",
      "execution_count": 46,
      "metadata": {
        "id": "2syrPF99BX6a",
        "colab": {
          "base_uri": "https://localhost:8080/"
        },
        "outputId": "bffc997b-2e80-4b4e-8c88-0bd8efb2f130"
      },
      "outputs": [
        {
          "output_type": "stream",
          "name": "stdout",
          "text": [
            "Partición de test\n",
            "-----------------------\n",
            "count    88.000000\n",
            "mean      0.670455\n",
            "std       0.472742\n",
            "min       0.000000\n",
            "25%       0.000000\n",
            "50%       1.000000\n",
            "75%       1.000000\n",
            "max       1.000000\n",
            "Name: acute_GvHD_II_III_IV, dtype: float64\n"
          ]
        }
      ],
      "source": [
        "print(\"Partición de test\")\n",
        "print(\"-----------------------\")\n",
        "print(y_test.describe())"
      ]
    },
    {
      "cell_type": "code",
      "execution_count": 47,
      "metadata": {
        "id": "oSoU4NDDMFG2"
      },
      "outputs": [],
      "source": [
        "scaler = StandardScaler()\n",
        "X_train = scaler.fit_transform(X_train)\n",
        "X_test = scaler.transform(X_test)\n",
        "X_val = scaler.fit_transform(X_val)"
      ]
    },
    {
      "cell_type": "code",
      "execution_count": 48,
      "metadata": {
        "id": "odnxkDbHMGDc",
        "colab": {
          "base_uri": "https://localhost:8080/"
        },
        "outputId": "7c878dfd-62da-4216-96dd-f98d186f1f74"
      },
      "outputs": [
        {
          "output_type": "stream",
          "name": "stdout",
          "text": [
            "<class 'numpy.ndarray'>\n",
            "<class 'pandas.core.series.Series'>\n"
          ]
        }
      ],
      "source": [
        "print(type(X_train))\n",
        "print(type(y_train))"
      ]
    },
    {
      "cell_type": "markdown",
      "metadata": {
        "id": "c_MNC1vntfdB"
      },
      "source": [
        "#Neural network"
      ]
    },
    {
      "cell_type": "markdown",
      "source": [
        "##Neural network implemetation"
      ],
      "metadata": {
        "id": "NQgApmcg--Kz"
      }
    },
    {
      "cell_type": "code",
      "source": [
        "!pip install scikeras"
      ],
      "metadata": {
        "id": "CJEm-A0ep3tg",
        "colab": {
          "base_uri": "https://localhost:8080/"
        },
        "outputId": "9938fa2e-c48e-44df-bc25-58681547aee9"
      },
      "execution_count": 49,
      "outputs": [
        {
          "output_type": "stream",
          "name": "stdout",
          "text": [
            "Collecting scikeras\n",
            "  Downloading scikeras-0.11.0-py3-none-any.whl (27 kB)\n",
            "Requirement already satisfied: packaging>=0.21 in /usr/local/lib/python3.10/dist-packages (from scikeras) (23.1)\n",
            "Requirement already satisfied: scikit-learn>=1.0.0 in /usr/local/lib/python3.10/dist-packages (from scikeras) (1.2.2)\n",
            "Requirement already satisfied: numpy>=1.17.3 in /usr/local/lib/python3.10/dist-packages (from scikit-learn>=1.0.0->scikeras) (1.22.4)\n",
            "Requirement already satisfied: scipy>=1.3.2 in /usr/local/lib/python3.10/dist-packages (from scikit-learn>=1.0.0->scikeras) (1.10.1)\n",
            "Requirement already satisfied: joblib>=1.1.1 in /usr/local/lib/python3.10/dist-packages (from scikit-learn>=1.0.0->scikeras) (1.3.1)\n",
            "Requirement already satisfied: threadpoolctl>=2.0.0 in /usr/local/lib/python3.10/dist-packages (from scikit-learn>=1.0.0->scikeras) (3.1.0)\n",
            "Installing collected packages: scikeras\n",
            "Successfully installed scikeras-0.11.0\n"
          ]
        }
      ]
    },
    {
      "cell_type": "code",
      "source": [
        "import keras\n",
        "from keras.models import Sequential\n",
        "from keras.layers import Dense\n",
        "from sklearn.utils import class_weight\n",
        "import scikeras"
      ],
      "metadata": {
        "id": "TcAaIXJoYNUA"
      },
      "execution_count": 50,
      "outputs": []
    },
    {
      "cell_type": "markdown",
      "metadata": {
        "id": "s4V-t9viD8h7"
      },
      "source": [
        "# Loading Model"
      ]
    },
    {
      "cell_type": "code",
      "execution_count": 51,
      "metadata": {
        "id": "7i4LVH2IOewV"
      },
      "outputs": [],
      "source": [
        "from scikeras.wrappers import KerasClassifier\n",
        "# Load the model back into memory\n",
        "new_classifier_model = keras.models.load_model(\"/content/drive/MyDrive/Proyecto de Tesis Lazaro Gibert/BMT29vfunctionalval-train\")\n",
        "# Now we need to instantiate a new SciKeras object\n",
        "# since we only saved the Keras model\n",
        "#classifier_new = KerasClassifier(new_classifier_model, random_state=0)\n",
        "# use initialize to avoid re-fitting\n",
        "#classifier_new.fit(X_train,y_train,class_weight=class_weights2,epochs=250)\n",
        "#pred_new = classifier_new.predict(X_test)\n",
        "#np.testing.assert_allclose(pred_old, pred_new)"
      ]
    },
    {
      "cell_type": "code",
      "source": [
        "print(\"weights:\", len(new_classifier_model.weights))\n",
        "print(\"trainable_weights:\", len(new_classifier_model.trainable_weights))\n",
        "print(\"non_trainable_weights:\", len(new_classifier_model.non_trainable_weights))"
      ],
      "metadata": {
        "id": "YOZgPCHfd4Z_",
        "colab": {
          "base_uri": "https://localhost:8080/"
        },
        "outputId": "e61490d3-9ec6-4796-b227-7df74b262233"
      },
      "execution_count": 52,
      "outputs": [
        {
          "output_type": "stream",
          "name": "stdout",
          "text": [
            "weights: 12\n",
            "trainable_weights: 12\n",
            "non_trainable_weights: 0\n"
          ]
        }
      ]
    },
    {
      "cell_type": "code",
      "source": [
        "new_classifier_model.layers"
      ],
      "metadata": {
        "id": "fqYRXzAZgwbs",
        "colab": {
          "base_uri": "https://localhost:8080/"
        },
        "outputId": "a2546172-e0cc-4240-eca3-857160703ba8"
      },
      "execution_count": 53,
      "outputs": [
        {
          "output_type": "execute_result",
          "data": {
            "text/plain": [
              "[<keras.engine.input_layer.InputLayer at 0x792e9fe1a080>,\n",
              " <keras.layers.core.dense.Dense at 0x792e9fe1a8f0>,\n",
              " <keras.layers.core.dense.Dense at 0x792e9fe1abf0>,\n",
              " <keras.layers.core.dense.Dense at 0x792e9fe1b430>,\n",
              " <keras.layers.core.dense.Dense at 0x792e9fe1ba00>,\n",
              " <keras.layers.core.dense.Dense at 0x792e9fe1bfa0>,\n",
              " <keras.layers.core.dense.Dense at 0x792e9cd045e0>]"
            ]
          },
          "metadata": {},
          "execution_count": 53
        }
      ]
    },
    {
      "cell_type": "code",
      "source": [
        "new_classifier_model.summary()"
      ],
      "metadata": {
        "id": "7ErMyvydhfJu",
        "colab": {
          "base_uri": "https://localhost:8080/"
        },
        "outputId": "871f390a-fbb9-433d-a9fc-55f4418513ed"
      },
      "execution_count": 54,
      "outputs": [
        {
          "output_type": "stream",
          "name": "stdout",
          "text": [
            "Model: \"model_302\"\n",
            "_________________________________________________________________\n",
            " Layer (type)                Output Shape              Param #   \n",
            "=================================================================\n",
            " input_303 (InputLayer)      [(None, 29)]              0         \n",
            "                                                                 \n",
            " dense_1632 (Dense)          (None, 32)                960       \n",
            "                                                                 \n",
            " dense_1633 (Dense)          (None, 32)                1056      \n",
            "                                                                 \n",
            " dense_1634 (Dense)          (None, 32)                1056      \n",
            "                                                                 \n",
            " dense_1635 (Dense)          (None, 32)                1056      \n",
            "                                                                 \n",
            " dense_1636 (Dense)          (None, 32)                1056      \n",
            "                                                                 \n",
            " dense_1637 (Dense)          (None, 1)                 33        \n",
            "                                                                 \n",
            "=================================================================\n",
            "Total params: 5,217\n",
            "Trainable params: 5,217\n",
            "Non-trainable params: 0\n",
            "_________________________________________________________________\n"
          ]
        }
      ]
    },
    {
      "cell_type": "code",
      "source": [
        "inputs = keras.Input(shape=(70,))\n",
        "dense = layers.Dense(29, activation=\"relu\")(inputs)\n",
        "layer=new_classifier_model(dense)\n",
        "model = keras.Model(inputs=inputs, outputs=layer)"
      ],
      "metadata": {
        "id": "ltF7b9Sqbfyo"
      },
      "execution_count": 55,
      "outputs": []
    },
    {
      "cell_type": "code",
      "source": [
        "model.summary()"
      ],
      "metadata": {
        "colab": {
          "base_uri": "https://localhost:8080/"
        },
        "id": "gcp6S-SgobGU",
        "outputId": "8752e4cc-6be4-4b5f-cfab-773c0de2b8c9"
      },
      "execution_count": 56,
      "outputs": [
        {
          "output_type": "stream",
          "name": "stdout",
          "text": [
            "Model: \"model\"\n",
            "_________________________________________________________________\n",
            " Layer (type)                Output Shape              Param #   \n",
            "=================================================================\n",
            " input_1 (InputLayer)        [(None, 70)]              0         \n",
            "                                                                 \n",
            " dense (Dense)               (None, 29)                2059      \n",
            "                                                                 \n",
            " model_302 (Functional)      (None, 1)                 5217      \n",
            "                                                                 \n",
            "=================================================================\n",
            "Total params: 7,276\n",
            "Trainable params: 7,276\n",
            "Non-trainable params: 0\n",
            "_________________________________________________________________\n"
          ]
        }
      ]
    },
    {
      "cell_type": "code",
      "source": [
        "model.trainable=False"
      ],
      "metadata": {
        "id": "aHxSUgfhmlee"
      },
      "execution_count": 57,
      "outputs": []
    },
    {
      "cell_type": "code",
      "source": [
        "model.compile(optimizer=keras.optimizers.Adam(),\n",
        "              loss=keras.losses.BinaryCrossentropy(from_logits=True),\n",
        "              metrics=[keras.metrics.BinaryAccuracy()])"
      ],
      "metadata": {
        "id": "WOuJjXza0dNV"
      },
      "execution_count": 58,
      "outputs": []
    },
    {
      "cell_type": "code",
      "source": [
        "from scikeras.wrappers import KerasClassifier\n",
        "classifier_new = KerasClassifier(model,random_state=0)\n",
        "classifier_new.initialize(X_test, y_test)\n",
        "pred_new = classifier_new.predict(X_test)"
      ],
      "metadata": {
        "id": "Zg6E6I2_3tkT",
        "colab": {
          "base_uri": "https://localhost:8080/"
        },
        "outputId": "0a0a3e8f-6a3d-4a6a-a61d-e423d3efe95b"
      },
      "execution_count": 59,
      "outputs": [
        {
          "output_type": "stream",
          "name": "stdout",
          "text": [
            "3/3 [==============================] - 0s 4ms/step\n"
          ]
        }
      ]
    },
    {
      "cell_type": "code",
      "source": [
        "print(classification_report(y_test, pred_new))"
      ],
      "metadata": {
        "id": "XnKZtFDbNU06",
        "colab": {
          "base_uri": "https://localhost:8080/"
        },
        "outputId": "03b72bcf-a4ca-4f36-a47f-aedabda37d8c"
      },
      "execution_count": 60,
      "outputs": [
        {
          "output_type": "stream",
          "name": "stdout",
          "text": [
            "              precision    recall  f1-score   support\n",
            "\n",
            "         0.0       0.30      0.21      0.24        29\n",
            "         1.0       0.66      0.76      0.71        59\n",
            "\n",
            "    accuracy                           0.58        88\n",
            "   macro avg       0.48      0.48      0.48        88\n",
            "weighted avg       0.54      0.58      0.56        88\n",
            "\n"
          ]
        }
      ]
    },
    {
      "cell_type": "code",
      "source": [
        "classifier_new.fit(X_train,y_train, epochs=100,validation_data=(X_val,y_val))"
      ],
      "metadata": {
        "id": "WMHNjwW54c-a",
        "colab": {
          "base_uri": "https://localhost:8080/",
          "height": 1000
        },
        "outputId": "66dfc4fa-5584-4ad0-cce4-3f98c105c02f"
      },
      "execution_count": 61,
      "outputs": [
        {
          "output_type": "stream",
          "name": "stdout",
          "text": [
            "Epoch 1/100\n"
          ]
        },
        {
          "output_type": "stream",
          "name": "stderr",
          "text": [
            "/usr/local/lib/python3.10/dist-packages/keras/backend.py:5703: UserWarning: \"`binary_crossentropy` received `from_logits=True`, but the `output` argument was produced by a Sigmoid activation and thus does not represent logits. Was this intended?\n",
            "  output, from_logits = _get_logits(\n"
          ]
        },
        {
          "output_type": "stream",
          "name": "stdout",
          "text": [
            "9/9 [==============================] - 1s 46ms/step - loss: 1.0911 - binary_accuracy: 0.6107 - val_loss: 1.0226 - val_binary_accuracy: 0.5455\n",
            "Epoch 2/100\n",
            "9/9 [==============================] - 0s 9ms/step - loss: 1.0911 - binary_accuracy: 0.6107 - val_loss: 1.0226 - val_binary_accuracy: 0.5455\n",
            "Epoch 3/100\n",
            "9/9 [==============================] - 0s 14ms/step - loss: 1.0911 - binary_accuracy: 0.6107 - val_loss: 1.0226 - val_binary_accuracy: 0.5455\n",
            "Epoch 4/100\n",
            "9/9 [==============================] - 0s 12ms/step - loss: 1.0911 - binary_accuracy: 0.6107 - val_loss: 1.0226 - val_binary_accuracy: 0.5455\n",
            "Epoch 5/100\n",
            "9/9 [==============================] - 0s 10ms/step - loss: 1.0911 - binary_accuracy: 0.6107 - val_loss: 1.0226 - val_binary_accuracy: 0.5455\n",
            "Epoch 6/100\n",
            "9/9 [==============================] - 0s 7ms/step - loss: 1.0911 - binary_accuracy: 0.6107 - val_loss: 1.0226 - val_binary_accuracy: 0.5455\n",
            "Epoch 7/100\n",
            "9/9 [==============================] - 0s 7ms/step - loss: 1.0911 - binary_accuracy: 0.6107 - val_loss: 1.0226 - val_binary_accuracy: 0.5455\n",
            "Epoch 8/100\n",
            "9/9 [==============================] - 0s 9ms/step - loss: 1.0911 - binary_accuracy: 0.6107 - val_loss: 1.0226 - val_binary_accuracy: 0.5455\n",
            "Epoch 9/100\n",
            "9/9 [==============================] - 0s 8ms/step - loss: 1.0911 - binary_accuracy: 0.6107 - val_loss: 1.0226 - val_binary_accuracy: 0.5455\n",
            "Epoch 10/100\n",
            "9/9 [==============================] - 0s 8ms/step - loss: 1.0911 - binary_accuracy: 0.6107 - val_loss: 1.0226 - val_binary_accuracy: 0.5455\n",
            "Epoch 11/100\n",
            "9/9 [==============================] - 0s 9ms/step - loss: 1.0911 - binary_accuracy: 0.6107 - val_loss: 1.0226 - val_binary_accuracy: 0.5455\n",
            "Epoch 12/100\n",
            "9/9 [==============================] - 0s 11ms/step - loss: 1.0911 - binary_accuracy: 0.6107 - val_loss: 1.0226 - val_binary_accuracy: 0.5455\n",
            "Epoch 13/100\n",
            "9/9 [==============================] - 0s 7ms/step - loss: 1.0911 - binary_accuracy: 0.6107 - val_loss: 1.0226 - val_binary_accuracy: 0.5455\n",
            "Epoch 14/100\n",
            "9/9 [==============================] - 0s 9ms/step - loss: 1.0911 - binary_accuracy: 0.6107 - val_loss: 1.0226 - val_binary_accuracy: 0.5455\n",
            "Epoch 15/100\n",
            "9/9 [==============================] - 0s 7ms/step - loss: 1.0911 - binary_accuracy: 0.6107 - val_loss: 1.0226 - val_binary_accuracy: 0.5455\n",
            "Epoch 16/100\n",
            "9/9 [==============================] - 0s 7ms/step - loss: 1.0911 - binary_accuracy: 0.6107 - val_loss: 1.0226 - val_binary_accuracy: 0.5455\n",
            "Epoch 17/100\n",
            "9/9 [==============================] - 0s 9ms/step - loss: 1.0911 - binary_accuracy: 0.6107 - val_loss: 1.0226 - val_binary_accuracy: 0.5455\n",
            "Epoch 18/100\n",
            "9/9 [==============================] - 0s 8ms/step - loss: 1.0911 - binary_accuracy: 0.6107 - val_loss: 1.0226 - val_binary_accuracy: 0.5455\n",
            "Epoch 19/100\n",
            "9/9 [==============================] - 0s 8ms/step - loss: 1.0911 - binary_accuracy: 0.6107 - val_loss: 1.0226 - val_binary_accuracy: 0.5455\n",
            "Epoch 20/100\n",
            "9/9 [==============================] - 0s 8ms/step - loss: 1.0911 - binary_accuracy: 0.6107 - val_loss: 1.0226 - val_binary_accuracy: 0.5455\n",
            "Epoch 21/100\n",
            "9/9 [==============================] - 0s 8ms/step - loss: 1.0911 - binary_accuracy: 0.6107 - val_loss: 1.0226 - val_binary_accuracy: 0.5455\n",
            "Epoch 22/100\n",
            "9/9 [==============================] - 0s 8ms/step - loss: 1.0911 - binary_accuracy: 0.6107 - val_loss: 1.0226 - val_binary_accuracy: 0.5455\n",
            "Epoch 23/100\n",
            "9/9 [==============================] - 0s 7ms/step - loss: 1.0911 - binary_accuracy: 0.6107 - val_loss: 1.0226 - val_binary_accuracy: 0.5455\n",
            "Epoch 24/100\n",
            "9/9 [==============================] - 0s 7ms/step - loss: 1.0911 - binary_accuracy: 0.6107 - val_loss: 1.0226 - val_binary_accuracy: 0.5455\n",
            "Epoch 25/100\n",
            "9/9 [==============================] - 0s 9ms/step - loss: 1.0911 - binary_accuracy: 0.6107 - val_loss: 1.0226 - val_binary_accuracy: 0.5455\n",
            "Epoch 26/100\n",
            "9/9 [==============================] - 0s 13ms/step - loss: 1.0911 - binary_accuracy: 0.6107 - val_loss: 1.0226 - val_binary_accuracy: 0.5455\n",
            "Epoch 27/100\n",
            "9/9 [==============================] - 0s 21ms/step - loss: 1.0911 - binary_accuracy: 0.6107 - val_loss: 1.0226 - val_binary_accuracy: 0.5455\n",
            "Epoch 28/100\n",
            "9/9 [==============================] - 0s 14ms/step - loss: 1.0911 - binary_accuracy: 0.6107 - val_loss: 1.0226 - val_binary_accuracy: 0.5455\n",
            "Epoch 29/100\n",
            "9/9 [==============================] - 0s 13ms/step - loss: 1.0911 - binary_accuracy: 0.6107 - val_loss: 1.0226 - val_binary_accuracy: 0.5455\n",
            "Epoch 30/100\n",
            "9/9 [==============================] - 0s 11ms/step - loss: 1.0911 - binary_accuracy: 0.6107 - val_loss: 1.0226 - val_binary_accuracy: 0.5455\n",
            "Epoch 31/100\n",
            "9/9 [==============================] - 0s 12ms/step - loss: 1.0911 - binary_accuracy: 0.6107 - val_loss: 1.0226 - val_binary_accuracy: 0.5455\n",
            "Epoch 32/100\n",
            "9/9 [==============================] - 0s 13ms/step - loss: 1.0911 - binary_accuracy: 0.6107 - val_loss: 1.0226 - val_binary_accuracy: 0.5455\n",
            "Epoch 33/100\n",
            "9/9 [==============================] - 0s 10ms/step - loss: 1.0911 - binary_accuracy: 0.6107 - val_loss: 1.0226 - val_binary_accuracy: 0.5455\n",
            "Epoch 34/100\n",
            "9/9 [==============================] - 0s 13ms/step - loss: 1.0911 - binary_accuracy: 0.6107 - val_loss: 1.0226 - val_binary_accuracy: 0.5455\n",
            "Epoch 35/100\n",
            "9/9 [==============================] - 0s 18ms/step - loss: 1.0911 - binary_accuracy: 0.6107 - val_loss: 1.0226 - val_binary_accuracy: 0.5455\n",
            "Epoch 36/100\n",
            "9/9 [==============================] - 0s 10ms/step - loss: 1.0911 - binary_accuracy: 0.6107 - val_loss: 1.0226 - val_binary_accuracy: 0.5455\n",
            "Epoch 37/100\n",
            "9/9 [==============================] - 0s 12ms/step - loss: 1.0911 - binary_accuracy: 0.6107 - val_loss: 1.0226 - val_binary_accuracy: 0.5455\n",
            "Epoch 38/100\n",
            "9/9 [==============================] - 0s 12ms/step - loss: 1.0911 - binary_accuracy: 0.6107 - val_loss: 1.0226 - val_binary_accuracy: 0.5455\n",
            "Epoch 39/100\n",
            "9/9 [==============================] - 0s 10ms/step - loss: 1.0911 - binary_accuracy: 0.6107 - val_loss: 1.0226 - val_binary_accuracy: 0.5455\n",
            "Epoch 40/100\n",
            "9/9 [==============================] - 0s 16ms/step - loss: 1.0911 - binary_accuracy: 0.6107 - val_loss: 1.0226 - val_binary_accuracy: 0.5455\n",
            "Epoch 41/100\n",
            "9/9 [==============================] - 0s 13ms/step - loss: 1.0911 - binary_accuracy: 0.6107 - val_loss: 1.0226 - val_binary_accuracy: 0.5455\n",
            "Epoch 42/100\n",
            "9/9 [==============================] - 0s 16ms/step - loss: 1.0911 - binary_accuracy: 0.6107 - val_loss: 1.0226 - val_binary_accuracy: 0.5455\n",
            "Epoch 43/100\n",
            "9/9 [==============================] - 0s 17ms/step - loss: 1.0911 - binary_accuracy: 0.6107 - val_loss: 1.0226 - val_binary_accuracy: 0.5455\n",
            "Epoch 44/100\n",
            "9/9 [==============================] - 0s 11ms/step - loss: 1.0911 - binary_accuracy: 0.6107 - val_loss: 1.0226 - val_binary_accuracy: 0.5455\n",
            "Epoch 45/100\n",
            "9/9 [==============================] - 0s 11ms/step - loss: 1.0911 - binary_accuracy: 0.6107 - val_loss: 1.0226 - val_binary_accuracy: 0.5455\n",
            "Epoch 46/100\n",
            "9/9 [==============================] - 0s 15ms/step - loss: 1.0911 - binary_accuracy: 0.6107 - val_loss: 1.0226 - val_binary_accuracy: 0.5455\n",
            "Epoch 47/100\n",
            "9/9 [==============================] - 0s 14ms/step - loss: 1.0911 - binary_accuracy: 0.6107 - val_loss: 1.0226 - val_binary_accuracy: 0.5455\n",
            "Epoch 48/100\n",
            "9/9 [==============================] - 0s 12ms/step - loss: 1.0911 - binary_accuracy: 0.6107 - val_loss: 1.0226 - val_binary_accuracy: 0.5455\n",
            "Epoch 49/100\n",
            "9/9 [==============================] - 0s 12ms/step - loss: 1.0911 - binary_accuracy: 0.6107 - val_loss: 1.0226 - val_binary_accuracy: 0.5455\n",
            "Epoch 50/100\n",
            "9/9 [==============================] - 0s 26ms/step - loss: 1.0911 - binary_accuracy: 0.6107 - val_loss: 1.0226 - val_binary_accuracy: 0.5455\n",
            "Epoch 51/100\n",
            "9/9 [==============================] - 0s 13ms/step - loss: 1.0911 - binary_accuracy: 0.6107 - val_loss: 1.0226 - val_binary_accuracy: 0.5455\n",
            "Epoch 52/100\n",
            "9/9 [==============================] - 0s 18ms/step - loss: 1.0911 - binary_accuracy: 0.6107 - val_loss: 1.0226 - val_binary_accuracy: 0.5455\n",
            "Epoch 53/100\n",
            "9/9 [==============================] - 0s 25ms/step - loss: 1.0911 - binary_accuracy: 0.6107 - val_loss: 1.0226 - val_binary_accuracy: 0.5455\n",
            "Epoch 54/100\n",
            "9/9 [==============================] - 0s 19ms/step - loss: 1.0911 - binary_accuracy: 0.6107 - val_loss: 1.0226 - val_binary_accuracy: 0.5455\n",
            "Epoch 55/100\n",
            "9/9 [==============================] - 0s 21ms/step - loss: 1.0911 - binary_accuracy: 0.6107 - val_loss: 1.0226 - val_binary_accuracy: 0.5455\n",
            "Epoch 56/100\n",
            "9/9 [==============================] - 0s 22ms/step - loss: 1.0911 - binary_accuracy: 0.6107 - val_loss: 1.0226 - val_binary_accuracy: 0.5455\n",
            "Epoch 57/100\n",
            "9/9 [==============================] - 0s 24ms/step - loss: 1.0911 - binary_accuracy: 0.6107 - val_loss: 1.0226 - val_binary_accuracy: 0.5455\n",
            "Epoch 58/100\n",
            "9/9 [==============================] - 0s 25ms/step - loss: 1.0911 - binary_accuracy: 0.6107 - val_loss: 1.0226 - val_binary_accuracy: 0.5455\n",
            "Epoch 59/100\n",
            "9/9 [==============================] - 0s 24ms/step - loss: 1.0911 - binary_accuracy: 0.6107 - val_loss: 1.0226 - val_binary_accuracy: 0.5455\n",
            "Epoch 60/100\n",
            "9/9 [==============================] - 0s 36ms/step - loss: 1.0911 - binary_accuracy: 0.6107 - val_loss: 1.0226 - val_binary_accuracy: 0.5455\n",
            "Epoch 61/100\n",
            "9/9 [==============================] - 0s 35ms/step - loss: 1.0911 - binary_accuracy: 0.6107 - val_loss: 1.0226 - val_binary_accuracy: 0.5455\n",
            "Epoch 62/100\n",
            "9/9 [==============================] - 0s 39ms/step - loss: 1.0911 - binary_accuracy: 0.6107 - val_loss: 1.0226 - val_binary_accuracy: 0.5455\n",
            "Epoch 63/100\n",
            "9/9 [==============================] - 0s 26ms/step - loss: 1.0911 - binary_accuracy: 0.6107 - val_loss: 1.0226 - val_binary_accuracy: 0.5455\n",
            "Epoch 64/100\n",
            "9/9 [==============================] - 0s 36ms/step - loss: 1.0911 - binary_accuracy: 0.6107 - val_loss: 1.0226 - val_binary_accuracy: 0.5455\n",
            "Epoch 65/100\n",
            "9/9 [==============================] - 0s 27ms/step - loss: 1.0911 - binary_accuracy: 0.6107 - val_loss: 1.0226 - val_binary_accuracy: 0.5455\n",
            "Epoch 66/100\n",
            "9/9 [==============================] - 0s 27ms/step - loss: 1.0911 - binary_accuracy: 0.6107 - val_loss: 1.0226 - val_binary_accuracy: 0.5455\n",
            "Epoch 67/100\n",
            "9/9 [==============================] - 0s 25ms/step - loss: 1.0911 - binary_accuracy: 0.6107 - val_loss: 1.0226 - val_binary_accuracy: 0.5455\n",
            "Epoch 68/100\n",
            "9/9 [==============================] - 0s 21ms/step - loss: 1.0911 - binary_accuracy: 0.6107 - val_loss: 1.0226 - val_binary_accuracy: 0.5455\n",
            "Epoch 69/100\n",
            "9/9 [==============================] - 0s 14ms/step - loss: 1.0911 - binary_accuracy: 0.6107 - val_loss: 1.0226 - val_binary_accuracy: 0.5455\n",
            "Epoch 70/100\n",
            "9/9 [==============================] - 0s 12ms/step - loss: 1.0911 - binary_accuracy: 0.6107 - val_loss: 1.0226 - val_binary_accuracy: 0.5455\n",
            "Epoch 71/100\n",
            "9/9 [==============================] - 0s 14ms/step - loss: 1.0911 - binary_accuracy: 0.6107 - val_loss: 1.0226 - val_binary_accuracy: 0.5455\n",
            "Epoch 72/100\n",
            "9/9 [==============================] - 0s 30ms/step - loss: 1.0911 - binary_accuracy: 0.6107 - val_loss: 1.0226 - val_binary_accuracy: 0.5455\n",
            "Epoch 73/100\n",
            "9/9 [==============================] - 0s 32ms/step - loss: 1.0911 - binary_accuracy: 0.6107 - val_loss: 1.0226 - val_binary_accuracy: 0.5455\n",
            "Epoch 74/100\n",
            "9/9 [==============================] - 0s 31ms/step - loss: 1.0911 - binary_accuracy: 0.6107 - val_loss: 1.0226 - val_binary_accuracy: 0.5455\n",
            "Epoch 75/100\n",
            "9/9 [==============================] - 0s 15ms/step - loss: 1.0911 - binary_accuracy: 0.6107 - val_loss: 1.0226 - val_binary_accuracy: 0.5455\n",
            "Epoch 76/100\n",
            "9/9 [==============================] - 0s 12ms/step - loss: 1.0911 - binary_accuracy: 0.6107 - val_loss: 1.0226 - val_binary_accuracy: 0.5455\n",
            "Epoch 77/100\n",
            "9/9 [==============================] - 0s 19ms/step - loss: 1.0911 - binary_accuracy: 0.6107 - val_loss: 1.0226 - val_binary_accuracy: 0.5455\n",
            "Epoch 78/100\n",
            "9/9 [==============================] - 0s 19ms/step - loss: 1.0911 - binary_accuracy: 0.6107 - val_loss: 1.0226 - val_binary_accuracy: 0.5455\n",
            "Epoch 79/100\n",
            "9/9 [==============================] - 0s 13ms/step - loss: 1.0911 - binary_accuracy: 0.6107 - val_loss: 1.0226 - val_binary_accuracy: 0.5455\n",
            "Epoch 80/100\n",
            "9/9 [==============================] - 0s 17ms/step - loss: 1.0911 - binary_accuracy: 0.6107 - val_loss: 1.0226 - val_binary_accuracy: 0.5455\n",
            "Epoch 81/100\n",
            "9/9 [==============================] - 0s 13ms/step - loss: 1.0911 - binary_accuracy: 0.6107 - val_loss: 1.0226 - val_binary_accuracy: 0.5455\n",
            "Epoch 82/100\n",
            "9/9 [==============================] - 0s 17ms/step - loss: 1.0911 - binary_accuracy: 0.6107 - val_loss: 1.0226 - val_binary_accuracy: 0.5455\n",
            "Epoch 83/100\n",
            "9/9 [==============================] - 0s 23ms/step - loss: 1.0911 - binary_accuracy: 0.6107 - val_loss: 1.0226 - val_binary_accuracy: 0.5455\n",
            "Epoch 84/100\n",
            "9/9 [==============================] - 0s 19ms/step - loss: 1.0911 - binary_accuracy: 0.6107 - val_loss: 1.0226 - val_binary_accuracy: 0.5455\n",
            "Epoch 85/100\n",
            "9/9 [==============================] - 0s 13ms/step - loss: 1.0911 - binary_accuracy: 0.6107 - val_loss: 1.0226 - val_binary_accuracy: 0.5455\n",
            "Epoch 86/100\n",
            "9/9 [==============================] - 0s 17ms/step - loss: 1.0911 - binary_accuracy: 0.6107 - val_loss: 1.0226 - val_binary_accuracy: 0.5455\n",
            "Epoch 87/100\n",
            "9/9 [==============================] - 0s 19ms/step - loss: 1.0911 - binary_accuracy: 0.6107 - val_loss: 1.0226 - val_binary_accuracy: 0.5455\n",
            "Epoch 88/100\n",
            "9/9 [==============================] - 0s 22ms/step - loss: 1.0911 - binary_accuracy: 0.6107 - val_loss: 1.0226 - val_binary_accuracy: 0.5455\n",
            "Epoch 89/100\n",
            "9/9 [==============================] - 0s 18ms/step - loss: 1.0911 - binary_accuracy: 0.6107 - val_loss: 1.0226 - val_binary_accuracy: 0.5455\n",
            "Epoch 90/100\n",
            "9/9 [==============================] - 0s 14ms/step - loss: 1.0911 - binary_accuracy: 0.6107 - val_loss: 1.0226 - val_binary_accuracy: 0.5455\n",
            "Epoch 91/100\n",
            "9/9 [==============================] - 0s 14ms/step - loss: 1.0911 - binary_accuracy: 0.6107 - val_loss: 1.0226 - val_binary_accuracy: 0.5455\n",
            "Epoch 92/100\n",
            "9/9 [==============================] - 0s 20ms/step - loss: 1.0911 - binary_accuracy: 0.6107 - val_loss: 1.0226 - val_binary_accuracy: 0.5455\n",
            "Epoch 93/100\n",
            "9/9 [==============================] - 0s 9ms/step - loss: 1.0911 - binary_accuracy: 0.6107 - val_loss: 1.0226 - val_binary_accuracy: 0.5455\n",
            "Epoch 94/100\n",
            "9/9 [==============================] - 0s 16ms/step - loss: 1.0911 - binary_accuracy: 0.6107 - val_loss: 1.0226 - val_binary_accuracy: 0.5455\n",
            "Epoch 95/100\n",
            "9/9 [==============================] - 0s 10ms/step - loss: 1.0911 - binary_accuracy: 0.6107 - val_loss: 1.0226 - val_binary_accuracy: 0.5455\n",
            "Epoch 96/100\n",
            "9/9 [==============================] - 0s 13ms/step - loss: 1.0911 - binary_accuracy: 0.6107 - val_loss: 1.0226 - val_binary_accuracy: 0.5455\n",
            "Epoch 97/100\n",
            "9/9 [==============================] - 0s 14ms/step - loss: 1.0911 - binary_accuracy: 0.6107 - val_loss: 1.0226 - val_binary_accuracy: 0.5455\n",
            "Epoch 98/100\n",
            "9/9 [==============================] - 0s 11ms/step - loss: 1.0911 - binary_accuracy: 0.6107 - val_loss: 1.0226 - val_binary_accuracy: 0.5455\n",
            "Epoch 99/100\n",
            "9/9 [==============================] - 0s 14ms/step - loss: 1.0911 - binary_accuracy: 0.6107 - val_loss: 1.0226 - val_binary_accuracy: 0.5455\n",
            "Epoch 100/100\n",
            "9/9 [==============================] - 0s 11ms/step - loss: 1.0911 - binary_accuracy: 0.6107 - val_loss: 1.0226 - val_binary_accuracy: 0.5455\n"
          ]
        },
        {
          "output_type": "execute_result",
          "data": {
            "text/plain": [
              "KerasClassifier(\n",
              "\tmodel=<keras.engine.functional.Functional object at 0x792e9cb63fa0>\n",
              "\tbuild_fn=None\n",
              "\twarm_start=False\n",
              "\trandom_state=0\n",
              "\toptimizer=rmsprop\n",
              "\tloss=None\n",
              "\tmetrics=None\n",
              "\tbatch_size=None\n",
              "\tvalidation_batch_size=None\n",
              "\tverbose=1\n",
              "\tcallbacks=None\n",
              "\tvalidation_split=0.0\n",
              "\tshuffle=True\n",
              "\trun_eagerly=False\n",
              "\tepochs=1\n",
              "\tclass_weight=None\n",
              ")"
            ],
            "text/html": [
              "<style>#sk-container-id-3 {color: black;background-color: white;}#sk-container-id-3 pre{padding: 0;}#sk-container-id-3 div.sk-toggleable {background-color: white;}#sk-container-id-3 label.sk-toggleable__label {cursor: pointer;display: block;width: 100%;margin-bottom: 0;padding: 0.3em;box-sizing: border-box;text-align: center;}#sk-container-id-3 label.sk-toggleable__label-arrow:before {content: \"▸\";float: left;margin-right: 0.25em;color: #696969;}#sk-container-id-3 label.sk-toggleable__label-arrow:hover:before {color: black;}#sk-container-id-3 div.sk-estimator:hover label.sk-toggleable__label-arrow:before {color: black;}#sk-container-id-3 div.sk-toggleable__content {max-height: 0;max-width: 0;overflow: hidden;text-align: left;background-color: #f0f8ff;}#sk-container-id-3 div.sk-toggleable__content pre {margin: 0.2em;color: black;border-radius: 0.25em;background-color: #f0f8ff;}#sk-container-id-3 input.sk-toggleable__control:checked~div.sk-toggleable__content {max-height: 200px;max-width: 100%;overflow: auto;}#sk-container-id-3 input.sk-toggleable__control:checked~label.sk-toggleable__label-arrow:before {content: \"▾\";}#sk-container-id-3 div.sk-estimator input.sk-toggleable__control:checked~label.sk-toggleable__label {background-color: #d4ebff;}#sk-container-id-3 div.sk-label input.sk-toggleable__control:checked~label.sk-toggleable__label {background-color: #d4ebff;}#sk-container-id-3 input.sk-hidden--visually {border: 0;clip: rect(1px 1px 1px 1px);clip: rect(1px, 1px, 1px, 1px);height: 1px;margin: -1px;overflow: hidden;padding: 0;position: absolute;width: 1px;}#sk-container-id-3 div.sk-estimator {font-family: monospace;background-color: #f0f8ff;border: 1px dotted black;border-radius: 0.25em;box-sizing: border-box;margin-bottom: 0.5em;}#sk-container-id-3 div.sk-estimator:hover {background-color: #d4ebff;}#sk-container-id-3 div.sk-parallel-item::after {content: \"\";width: 100%;border-bottom: 1px solid gray;flex-grow: 1;}#sk-container-id-3 div.sk-label:hover label.sk-toggleable__label {background-color: #d4ebff;}#sk-container-id-3 div.sk-serial::before {content: \"\";position: absolute;border-left: 1px solid gray;box-sizing: border-box;top: 0;bottom: 0;left: 50%;z-index: 0;}#sk-container-id-3 div.sk-serial {display: flex;flex-direction: column;align-items: center;background-color: white;padding-right: 0.2em;padding-left: 0.2em;position: relative;}#sk-container-id-3 div.sk-item {position: relative;z-index: 1;}#sk-container-id-3 div.sk-parallel {display: flex;align-items: stretch;justify-content: center;background-color: white;position: relative;}#sk-container-id-3 div.sk-item::before, #sk-container-id-3 div.sk-parallel-item::before {content: \"\";position: absolute;border-left: 1px solid gray;box-sizing: border-box;top: 0;bottom: 0;left: 50%;z-index: -1;}#sk-container-id-3 div.sk-parallel-item {display: flex;flex-direction: column;z-index: 1;position: relative;background-color: white;}#sk-container-id-3 div.sk-parallel-item:first-child::after {align-self: flex-end;width: 50%;}#sk-container-id-3 div.sk-parallel-item:last-child::after {align-self: flex-start;width: 50%;}#sk-container-id-3 div.sk-parallel-item:only-child::after {width: 0;}#sk-container-id-3 div.sk-dashed-wrapped {border: 1px dashed gray;margin: 0 0.4em 0.5em 0.4em;box-sizing: border-box;padding-bottom: 0.4em;background-color: white;}#sk-container-id-3 div.sk-label label {font-family: monospace;font-weight: bold;display: inline-block;line-height: 1.2em;}#sk-container-id-3 div.sk-label-container {text-align: center;}#sk-container-id-3 div.sk-container {/* jupyter's `normalize.less` sets `[hidden] { display: none; }` but bootstrap.min.css set `[hidden] { display: none !important; }` so we also need the `!important` here to be able to override the default hidden behavior on the sphinx rendered scikit-learn.org. See: https://github.com/scikit-learn/scikit-learn/issues/21755 */display: inline-block !important;position: relative;}#sk-container-id-3 div.sk-text-repr-fallback {display: none;}</style><div id=\"sk-container-id-3\" class=\"sk-top-container\"><div class=\"sk-text-repr-fallback\"><pre>KerasClassifier(\n",
              "\tmodel=&lt;keras.engine.functional.Functional object at 0x792e9cb63fa0&gt;\n",
              "\tbuild_fn=None\n",
              "\twarm_start=False\n",
              "\trandom_state=0\n",
              "\toptimizer=rmsprop\n",
              "\tloss=None\n",
              "\tmetrics=None\n",
              "\tbatch_size=None\n",
              "\tvalidation_batch_size=None\n",
              "\tverbose=1\n",
              "\tcallbacks=None\n",
              "\tvalidation_split=0.0\n",
              "\tshuffle=True\n",
              "\trun_eagerly=False\n",
              "\tepochs=1\n",
              "\tclass_weight=None\n",
              ")</pre><b>In a Jupyter environment, please rerun this cell to show the HTML representation or trust the notebook. <br />On GitHub, the HTML representation is unable to render, please try loading this page with nbviewer.org.</b></div><div class=\"sk-container\" hidden><div class=\"sk-item\"><div class=\"sk-estimator sk-toggleable\"><input class=\"sk-toggleable__control sk-hidden--visually\" id=\"sk-estimator-id-7\" type=\"checkbox\" checked><label for=\"sk-estimator-id-7\" class=\"sk-toggleable__label sk-toggleable__label-arrow\">KerasClassifier</label><div class=\"sk-toggleable__content\"><pre>KerasClassifier(\n",
              "\tmodel=&lt;keras.engine.functional.Functional object at 0x792e9cb63fa0&gt;\n",
              "\tbuild_fn=None\n",
              "\twarm_start=False\n",
              "\trandom_state=0\n",
              "\toptimizer=rmsprop\n",
              "\tloss=None\n",
              "\tmetrics=None\n",
              "\tbatch_size=None\n",
              "\tvalidation_batch_size=None\n",
              "\tverbose=1\n",
              "\tcallbacks=None\n",
              "\tvalidation_split=0.0\n",
              "\tshuffle=True\n",
              "\trun_eagerly=False\n",
              "\tepochs=1\n",
              "\tclass_weight=None\n",
              ")</pre></div></div></div></div></div>"
            ]
          },
          "metadata": {},
          "execution_count": 61
        }
      ]
    },
    {
      "cell_type": "code",
      "source": [
        "pred_new = classifier_new.predict(X_test)\n",
        "print(classification_report(y_test, pred_new))"
      ],
      "metadata": {
        "id": "E3rTkU_H4vXb",
        "colab": {
          "base_uri": "https://localhost:8080/"
        },
        "outputId": "43879fd7-974d-486b-e50d-6ef01f0fa652"
      },
      "execution_count": 62,
      "outputs": [
        {
          "output_type": "stream",
          "name": "stdout",
          "text": [
            "3/3 [==============================] - 0s 7ms/step\n",
            "              precision    recall  f1-score   support\n",
            "\n",
            "         0.0       0.30      0.21      0.24        29\n",
            "         1.0       0.66      0.76      0.71        59\n",
            "\n",
            "    accuracy                           0.58        88\n",
            "   macro avg       0.48      0.48      0.48        88\n",
            "weighted avg       0.54      0.58      0.56        88\n",
            "\n"
          ]
        }
      ]
    },
    {
      "cell_type": "code",
      "source": [
        "new_classifier_model.trainable=True"
      ],
      "metadata": {
        "id": "IKpyT3vY4_mT"
      },
      "execution_count": 63,
      "outputs": []
    },
    {
      "cell_type": "code",
      "source": [
        "new_classifier_model.compile(optimizer=keras.optimizers.Adam(),\n",
        "              loss=keras.losses.BinaryCrossentropy(from_logits=True),\n",
        "              metrics=[keras.metrics.BinaryAccuracy()])"
      ],
      "metadata": {
        "id": "67Sj6fvg5Qra"
      },
      "execution_count": 64,
      "outputs": []
    },
    {
      "cell_type": "code",
      "source": [
        "model.trainable=True"
      ],
      "metadata": {
        "id": "S3V-495myndV"
      },
      "execution_count": 65,
      "outputs": []
    },
    {
      "cell_type": "code",
      "source": [
        "model.compile(optimizer=keras.optimizers.Adam(),\n",
        "              loss=keras.losses.BinaryCrossentropy(from_logits=True),\n",
        "              metrics=[keras.metrics.BinaryAccuracy()])"
      ],
      "metadata": {
        "id": "BhRPkLrsytmI"
      },
      "execution_count": 66,
      "outputs": []
    },
    {
      "cell_type": "code",
      "source": [
        "classifier_new = KerasClassifier(model,random_state=0,callbacks=tensorflow.keras.callbacks.EarlyStopping(monitor='val_loss',verbose=1,patience=15))\n",
        "classifier_new.initialize(X_test, y_test)\n",
        "pred_new = classifier_new.predict(X_test)"
      ],
      "metadata": {
        "id": "ttZyCZP75hst",
        "colab": {
          "base_uri": "https://localhost:8080/"
        },
        "outputId": "59dc071e-1dd5-4034-edf8-ceaca73634c2"
      },
      "execution_count": 67,
      "outputs": [
        {
          "output_type": "stream",
          "name": "stdout",
          "text": [
            "3/3 [==============================] - 0s 9ms/step\n"
          ]
        }
      ]
    },
    {
      "cell_type": "code",
      "source": [
        "print(classification_report(y_test, pred_new))"
      ],
      "metadata": {
        "id": "kOrM5lj55lSi",
        "colab": {
          "base_uri": "https://localhost:8080/"
        },
        "outputId": "fc435e05-23b1-464e-a58e-82f20532b039"
      },
      "execution_count": 68,
      "outputs": [
        {
          "output_type": "stream",
          "name": "stdout",
          "text": [
            "              precision    recall  f1-score   support\n",
            "\n",
            "         0.0       0.30      0.21      0.24        29\n",
            "         1.0       0.66      0.76      0.71        59\n",
            "\n",
            "    accuracy                           0.58        88\n",
            "   macro avg       0.48      0.48      0.48        88\n",
            "weighted avg       0.54      0.58      0.56        88\n",
            "\n"
          ]
        }
      ]
    },
    {
      "cell_type": "code",
      "source": [
        "#callback = tensorflow.keras.callbacks.EarlyStopping(monitor='val_binary_accuracy', patience=5,verbose=1,mode='max')"
      ],
      "metadata": {
        "id": "8bvNogjmf6Hr"
      },
      "execution_count": 69,
      "outputs": []
    },
    {
      "cell_type": "code",
      "source": [
        "classifier_new.fit(X_train, y_train,epochs=100,validation_data=(X_val,y_val))"
      ],
      "metadata": {
        "id": "l05kBC6B57Sq",
        "colab": {
          "base_uri": "https://localhost:8080/",
          "height": 1000
        },
        "outputId": "d619d10f-fa90-4775-ab69-042b0aef5ec0"
      },
      "execution_count": 70,
      "outputs": [
        {
          "output_type": "stream",
          "name": "stdout",
          "text": [
            "Epoch 1/100\n"
          ]
        },
        {
          "output_type": "stream",
          "name": "stderr",
          "text": [
            "/usr/local/lib/python3.10/dist-packages/keras/backend.py:5703: UserWarning: \"`binary_crossentropy` received `from_logits=True`, but the `output` argument was produced by a Sigmoid activation and thus does not represent logits. Was this intended?\n",
            "  output, from_logits = _get_logits(\n"
          ]
        },
        {
          "output_type": "stream",
          "name": "stdout",
          "text": [
            "9/9 [==============================] - 5s 156ms/step - loss: 0.9621 - binary_accuracy: 0.6031 - val_loss: 0.8075 - val_binary_accuracy: 0.4773\n",
            "Epoch 2/100\n",
            "9/9 [==============================] - 0s 34ms/step - loss: 0.7190 - binary_accuracy: 0.5687 - val_loss: 0.7298 - val_binary_accuracy: 0.5000\n",
            "Epoch 3/100\n",
            "9/9 [==============================] - 0s 25ms/step - loss: 0.6509 - binary_accuracy: 0.5725 - val_loss: 0.7049 - val_binary_accuracy: 0.5000\n",
            "Epoch 4/100\n",
            "9/9 [==============================] - 0s 32ms/step - loss: 0.6248 - binary_accuracy: 0.6107 - val_loss: 0.6920 - val_binary_accuracy: 0.5455\n",
            "Epoch 5/100\n",
            "9/9 [==============================] - 0s 16ms/step - loss: 0.6071 - binary_accuracy: 0.6794 - val_loss: 0.6823 - val_binary_accuracy: 0.6250\n",
            "Epoch 6/100\n",
            "9/9 [==============================] - 0s 23ms/step - loss: 0.5898 - binary_accuracy: 0.6603 - val_loss: 0.6773 - val_binary_accuracy: 0.6136\n",
            "Epoch 7/100\n",
            "9/9 [==============================] - 0s 29ms/step - loss: 0.5747 - binary_accuracy: 0.6718 - val_loss: 0.6698 - val_binary_accuracy: 0.6364\n",
            "Epoch 8/100\n",
            "9/9 [==============================] - 0s 13ms/step - loss: 0.5636 - binary_accuracy: 0.6832 - val_loss: 0.6671 - val_binary_accuracy: 0.6136\n",
            "Epoch 9/100\n",
            "9/9 [==============================] - 0s 19ms/step - loss: 0.5537 - binary_accuracy: 0.6870 - val_loss: 0.6658 - val_binary_accuracy: 0.6250\n",
            "Epoch 10/100\n",
            "9/9 [==============================] - 0s 13ms/step - loss: 0.5422 - binary_accuracy: 0.6870 - val_loss: 0.6681 - val_binary_accuracy: 0.6250\n",
            "Epoch 11/100\n",
            "9/9 [==============================] - 0s 20ms/step - loss: 0.5262 - binary_accuracy: 0.6870 - val_loss: 0.6748 - val_binary_accuracy: 0.6250\n",
            "Epoch 12/100\n",
            "9/9 [==============================] - 0s 27ms/step - loss: 0.5121 - binary_accuracy: 0.6908 - val_loss: 0.6860 - val_binary_accuracy: 0.6591\n",
            "Epoch 13/100\n",
            "9/9 [==============================] - 0s 37ms/step - loss: 0.4940 - binary_accuracy: 0.6985 - val_loss: 0.6892 - val_binary_accuracy: 0.6477\n",
            "Epoch 14/100\n",
            "9/9 [==============================] - 0s 26ms/step - loss: 0.4766 - binary_accuracy: 0.7061 - val_loss: 0.7015 - val_binary_accuracy: 0.6477\n",
            "Epoch 15/100\n",
            "9/9 [==============================] - 0s 23ms/step - loss: 0.4610 - binary_accuracy: 0.7061 - val_loss: 0.7149 - val_binary_accuracy: 0.6477\n",
            "Epoch 16/100\n",
            "9/9 [==============================] - 0s 27ms/step - loss: 0.4465 - binary_accuracy: 0.7634 - val_loss: 0.7248 - val_binary_accuracy: 0.6250\n",
            "Epoch 17/100\n",
            "9/9 [==============================] - 0s 30ms/step - loss: 0.4316 - binary_accuracy: 0.7901 - val_loss: 0.7458 - val_binary_accuracy: 0.6250\n",
            "Epoch 18/100\n",
            "9/9 [==============================] - 0s 18ms/step - loss: 0.4160 - binary_accuracy: 0.7863 - val_loss: 0.7484 - val_binary_accuracy: 0.6250\n",
            "Epoch 19/100\n",
            "9/9 [==============================] - 0s 17ms/step - loss: 0.4012 - binary_accuracy: 0.8053 - val_loss: 0.7488 - val_binary_accuracy: 0.6136\n",
            "Epoch 20/100\n",
            "9/9 [==============================] - 0s 24ms/step - loss: 0.3880 - binary_accuracy: 0.8206 - val_loss: 0.7525 - val_binary_accuracy: 0.6136\n",
            "Epoch 21/100\n",
            "9/9 [==============================] - 0s 20ms/step - loss: 0.3738 - binary_accuracy: 0.8397 - val_loss: 0.7819 - val_binary_accuracy: 0.6364\n",
            "Epoch 22/100\n",
            "9/9 [==============================] - 0s 20ms/step - loss: 0.3609 - binary_accuracy: 0.8359 - val_loss: 0.7988 - val_binary_accuracy: 0.5909\n",
            "Epoch 23/100\n",
            "9/9 [==============================] - 0s 19ms/step - loss: 0.3467 - binary_accuracy: 0.8397 - val_loss: 0.8249 - val_binary_accuracy: 0.5909\n",
            "Epoch 24/100\n",
            "9/9 [==============================] - 0s 17ms/step - loss: 0.3328 - binary_accuracy: 0.8473 - val_loss: 0.8500 - val_binary_accuracy: 0.6023\n",
            "Epoch 24: early stopping\n"
          ]
        },
        {
          "output_type": "execute_result",
          "data": {
            "text/plain": [
              "KerasClassifier(\n",
              "\tmodel=<keras.engine.functional.Functional object at 0x792e9cb63fa0>\n",
              "\tbuild_fn=None\n",
              "\twarm_start=False\n",
              "\trandom_state=0\n",
              "\toptimizer=rmsprop\n",
              "\tloss=None\n",
              "\tmetrics=None\n",
              "\tbatch_size=None\n",
              "\tvalidation_batch_size=None\n",
              "\tverbose=1\n",
              "\tcallbacks=<keras.callbacks.EarlyStopping object at 0x792e9d3d57b0>\n",
              "\tvalidation_split=0.0\n",
              "\tshuffle=True\n",
              "\trun_eagerly=False\n",
              "\tepochs=1\n",
              "\tclass_weight=None\n",
              ")"
            ],
            "text/html": [
              "<style>#sk-container-id-4 {color: black;background-color: white;}#sk-container-id-4 pre{padding: 0;}#sk-container-id-4 div.sk-toggleable {background-color: white;}#sk-container-id-4 label.sk-toggleable__label {cursor: pointer;display: block;width: 100%;margin-bottom: 0;padding: 0.3em;box-sizing: border-box;text-align: center;}#sk-container-id-4 label.sk-toggleable__label-arrow:before {content: \"▸\";float: left;margin-right: 0.25em;color: #696969;}#sk-container-id-4 label.sk-toggleable__label-arrow:hover:before {color: black;}#sk-container-id-4 div.sk-estimator:hover label.sk-toggleable__label-arrow:before {color: black;}#sk-container-id-4 div.sk-toggleable__content {max-height: 0;max-width: 0;overflow: hidden;text-align: left;background-color: #f0f8ff;}#sk-container-id-4 div.sk-toggleable__content pre {margin: 0.2em;color: black;border-radius: 0.25em;background-color: #f0f8ff;}#sk-container-id-4 input.sk-toggleable__control:checked~div.sk-toggleable__content {max-height: 200px;max-width: 100%;overflow: auto;}#sk-container-id-4 input.sk-toggleable__control:checked~label.sk-toggleable__label-arrow:before {content: \"▾\";}#sk-container-id-4 div.sk-estimator input.sk-toggleable__control:checked~label.sk-toggleable__label {background-color: #d4ebff;}#sk-container-id-4 div.sk-label input.sk-toggleable__control:checked~label.sk-toggleable__label {background-color: #d4ebff;}#sk-container-id-4 input.sk-hidden--visually {border: 0;clip: rect(1px 1px 1px 1px);clip: rect(1px, 1px, 1px, 1px);height: 1px;margin: -1px;overflow: hidden;padding: 0;position: absolute;width: 1px;}#sk-container-id-4 div.sk-estimator {font-family: monospace;background-color: #f0f8ff;border: 1px dotted black;border-radius: 0.25em;box-sizing: border-box;margin-bottom: 0.5em;}#sk-container-id-4 div.sk-estimator:hover {background-color: #d4ebff;}#sk-container-id-4 div.sk-parallel-item::after {content: \"\";width: 100%;border-bottom: 1px solid gray;flex-grow: 1;}#sk-container-id-4 div.sk-label:hover label.sk-toggleable__label {background-color: #d4ebff;}#sk-container-id-4 div.sk-serial::before {content: \"\";position: absolute;border-left: 1px solid gray;box-sizing: border-box;top: 0;bottom: 0;left: 50%;z-index: 0;}#sk-container-id-4 div.sk-serial {display: flex;flex-direction: column;align-items: center;background-color: white;padding-right: 0.2em;padding-left: 0.2em;position: relative;}#sk-container-id-4 div.sk-item {position: relative;z-index: 1;}#sk-container-id-4 div.sk-parallel {display: flex;align-items: stretch;justify-content: center;background-color: white;position: relative;}#sk-container-id-4 div.sk-item::before, #sk-container-id-4 div.sk-parallel-item::before {content: \"\";position: absolute;border-left: 1px solid gray;box-sizing: border-box;top: 0;bottom: 0;left: 50%;z-index: -1;}#sk-container-id-4 div.sk-parallel-item {display: flex;flex-direction: column;z-index: 1;position: relative;background-color: white;}#sk-container-id-4 div.sk-parallel-item:first-child::after {align-self: flex-end;width: 50%;}#sk-container-id-4 div.sk-parallel-item:last-child::after {align-self: flex-start;width: 50%;}#sk-container-id-4 div.sk-parallel-item:only-child::after {width: 0;}#sk-container-id-4 div.sk-dashed-wrapped {border: 1px dashed gray;margin: 0 0.4em 0.5em 0.4em;box-sizing: border-box;padding-bottom: 0.4em;background-color: white;}#sk-container-id-4 div.sk-label label {font-family: monospace;font-weight: bold;display: inline-block;line-height: 1.2em;}#sk-container-id-4 div.sk-label-container {text-align: center;}#sk-container-id-4 div.sk-container {/* jupyter's `normalize.less` sets `[hidden] { display: none; }` but bootstrap.min.css set `[hidden] { display: none !important; }` so we also need the `!important` here to be able to override the default hidden behavior on the sphinx rendered scikit-learn.org. See: https://github.com/scikit-learn/scikit-learn/issues/21755 */display: inline-block !important;position: relative;}#sk-container-id-4 div.sk-text-repr-fallback {display: none;}</style><div id=\"sk-container-id-4\" class=\"sk-top-container\"><div class=\"sk-text-repr-fallback\"><pre>KerasClassifier(\n",
              "\tmodel=&lt;keras.engine.functional.Functional object at 0x792e9cb63fa0&gt;\n",
              "\tbuild_fn=None\n",
              "\twarm_start=False\n",
              "\trandom_state=0\n",
              "\toptimizer=rmsprop\n",
              "\tloss=None\n",
              "\tmetrics=None\n",
              "\tbatch_size=None\n",
              "\tvalidation_batch_size=None\n",
              "\tverbose=1\n",
              "\tcallbacks=&lt;keras.callbacks.EarlyStopping object at 0x792e9d3d57b0&gt;\n",
              "\tvalidation_split=0.0\n",
              "\tshuffle=True\n",
              "\trun_eagerly=False\n",
              "\tepochs=1\n",
              "\tclass_weight=None\n",
              ")</pre><b>In a Jupyter environment, please rerun this cell to show the HTML representation or trust the notebook. <br />On GitHub, the HTML representation is unable to render, please try loading this page with nbviewer.org.</b></div><div class=\"sk-container\" hidden><div class=\"sk-item\"><div class=\"sk-estimator sk-toggleable\"><input class=\"sk-toggleable__control sk-hidden--visually\" id=\"sk-estimator-id-8\" type=\"checkbox\" checked><label for=\"sk-estimator-id-8\" class=\"sk-toggleable__label sk-toggleable__label-arrow\">KerasClassifier</label><div class=\"sk-toggleable__content\"><pre>KerasClassifier(\n",
              "\tmodel=&lt;keras.engine.functional.Functional object at 0x792e9cb63fa0&gt;\n",
              "\tbuild_fn=None\n",
              "\twarm_start=False\n",
              "\trandom_state=0\n",
              "\toptimizer=rmsprop\n",
              "\tloss=None\n",
              "\tmetrics=None\n",
              "\tbatch_size=None\n",
              "\tvalidation_batch_size=None\n",
              "\tverbose=1\n",
              "\tcallbacks=&lt;keras.callbacks.EarlyStopping object at 0x792e9d3d57b0&gt;\n",
              "\tvalidation_split=0.0\n",
              "\tshuffle=True\n",
              "\trun_eagerly=False\n",
              "\tepochs=1\n",
              "\tclass_weight=None\n",
              ")</pre></div></div></div></div></div>"
            ]
          },
          "metadata": {},
          "execution_count": 70
        }
      ]
    },
    {
      "cell_type": "code",
      "source": [
        "pred_new2 = classifier_new.predict(X_test)"
      ],
      "metadata": {
        "id": "RkJpbhLD6XGc",
        "colab": {
          "base_uri": "https://localhost:8080/"
        },
        "outputId": "b2c159f3-c37b-46bb-96a9-9ddc3415fdde"
      },
      "execution_count": 71,
      "outputs": [
        {
          "output_type": "stream",
          "name": "stdout",
          "text": [
            "3/3 [==============================] - 0s 5ms/step\n"
          ]
        }
      ]
    },
    {
      "cell_type": "code",
      "source": [
        "print(classification_report(y_test, pred_new2))"
      ],
      "metadata": {
        "id": "4SqUrZAF6djj",
        "colab": {
          "base_uri": "https://localhost:8080/"
        },
        "outputId": "de1b7c89-5897-4216-f60e-a096470a282d"
      },
      "execution_count": 72,
      "outputs": [
        {
          "output_type": "stream",
          "name": "stdout",
          "text": [
            "              precision    recall  f1-score   support\n",
            "\n",
            "         0.0       0.50      0.45      0.47        29\n",
            "         1.0       0.74      0.78      0.76        59\n",
            "\n",
            "    accuracy                           0.67        88\n",
            "   macro avg       0.62      0.61      0.62        88\n",
            "weighted avg       0.66      0.67      0.67        88\n",
            "\n"
          ]
        }
      ]
    },
    {
      "cell_type": "code",
      "source": [
        "history=classifier_new.history_"
      ],
      "metadata": {
        "id": "mvyJzipXJgxs"
      },
      "execution_count": 73,
      "outputs": []
    },
    {
      "cell_type": "code",
      "source": [
        "if 'binary_accuracy' in history:\n",
        "    ac_train = history['binary_accuracy']\n",
        "    ac_val = history['val_binary_accuracy']\n",
        "elif 'acc' in history:\n",
        "    ac_train = history['acc']\n",
        "    ac_val = history['val_acc']\n",
        "else:\n",
        "    raise ValueError(\"History object doesn't contain accuracy record\")\n",
        "\n",
        "epoch = np.arange(len(ac_train)) + 1"
      ],
      "metadata": {
        "id": "izyACN93J_RP"
      },
      "execution_count": 74,
      "outputs": []
    },
    {
      "cell_type": "code",
      "source": [
        "plt.plot(epoch, ac_train, label=\"train\")\n",
        "plt.plot(epoch, ac_val, label=\"validation\")\n",
        "plt.xlabel(\"Epoch\")\n",
        "plt.ylabel(\"Accuracy\")\n",
        "plt.legend()\n",
        "plt.show()"
      ],
      "metadata": {
        "id": "O9Lyd2sLKBHN",
        "colab": {
          "base_uri": "https://localhost:8080/",
          "height": 449
        },
        "outputId": "293fa696-3739-4b97-d733-d8129d78ea1d"
      },
      "execution_count": 75,
      "outputs": [
        {
          "output_type": "display_data",
          "data": {
            "text/plain": [
              "<Figure size 640x480 with 1 Axes>"
            ],
            "image/png": "[encoded data removed]"
          },
          "metadata": {}
        }
      ]
    },
    {
      "cell_type": "code",
      "source": [
        "if 'loss' in history:\n",
        "    train_loos = history['loss']\n",
        "    val_loss = history['val_loss']\n",
        "\n",
        "else:\n",
        "    raise ValueError(\"History object doesn't contain accuracy record\")\n",
        "\n",
        "epoch = np.arange(len(ac_train)) + 1"
      ],
      "metadata": {
        "id": "ppOKSVddNiHM"
      },
      "execution_count": 76,
      "outputs": []
    },
    {
      "cell_type": "code",
      "source": [
        "plt.plot(epoch, train_loos, label='Training Loss')\n",
        "plt.plot(epoch, val_loss, label='Validation Loss')\n",
        "# Add in a title and axes labels\n",
        "plt.title('Training and Validation Loss')\n",
        "plt.xlabel('Epochs')\n",
        "plt.ylabel('Loss')\n",
        "#plt.xticks(arange(0, 21, 2))\n",
        "\n",
        "# Display the plot\n",
        "plt.legend(loc='best')\n",
        "plt.show()"
      ],
      "metadata": {
        "id": "3Cy8nA0KL8ct",
        "colab": {
          "base_uri": "https://localhost:8080/",
          "height": 472
        },
        "outputId": "f50f7210-88b3-4313-9221-8d848cc45e78"
      },
      "execution_count": 77,
      "outputs": [
        {
          "output_type": "display_data",
          "data": {
            "text/plain": [
              "<Figure size 640x480 with 1 Axes>"
            ],
            "image/png": "[encoded data removed]"
          },
          "metadata": {}
        }
      ]
    },
    {
      "cell_type": "code",
      "execution_count": 78,
      "metadata": {
        "id": "ofvNNQw_0_uR",
        "colab": {
          "base_uri": "https://localhost:8080/"
        },
        "outputId": "6d013a5b-e8cc-45f0-80f8-b73971927c92"
      },
      "outputs": [
        {
          "output_type": "stream",
          "name": "stdout",
          "text": [
            "3/3 [==============================] - 0s 12ms/step\n",
            "El error (fbeta) de test es: 0.7676508344030808\n"
          ]
        }
      ],
      "source": [
        "# Error de test del modelo final\n",
        "# ==============================================================================\n",
        "modelo_final = classifier_new\n",
        "predicciones = modelo_final.predict(X = X_test)\n",
        "fbeta_dt = fbeta_score(\n",
        "        y_true = y_test,\n",
        "        y_pred = predicciones,\n",
        "        beta=1.5\n",
        "       )\n",
        "\n",
        "print(f\"El error (fbeta) de test es: {fbeta_dt}\")"
      ]
    },
    {
      "cell_type": "code",
      "execution_count": 79,
      "metadata": {
        "id": "KcI38w46mXkw",
        "colab": {
          "base_uri": "https://localhost:8080/"
        },
        "outputId": "acfa850d-7552-45bd-e2a0-50c3c2cf697c"
      },
      "outputs": [
        {
          "output_type": "stream",
          "name": "stdout",
          "text": [
            "3/3 [==============================] - 0s 4ms/step\n",
            "El error (fbeta) de test es: 0.7603305785123968\n"
          ]
        }
      ],
      "source": [
        "# Error de test del modelo final\n",
        "# ==============================================================================\n",
        "modelo_final = classifier_new\n",
        "predicciones = modelo_final.predict(X = X_test)\n",
        "fbeta_adb = fbeta_score(\n",
        "        y_true = y_test,\n",
        "        y_pred = predicciones,\n",
        "        beta=1\n",
        "       )\n",
        "\n",
        "print(f\"El error (fbeta) de test es: {fbeta_adb}\")"
      ]
    },
    {
      "cell_type": "code",
      "execution_count": 80,
      "metadata": {
        "id": "v2LmWnO13ztA",
        "colab": {
          "base_uri": "https://localhost:8080/"
        },
        "outputId": "4f85d217-4fdb-4249-923a-0966d4888eda"
      },
      "outputs": [
        {
          "output_type": "stream",
          "name": "stdout",
          "text": [
            "3/3 [==============================] - 0s 5ms/step\n",
            "El error (fbeta) de test es: 0.7718120805369127\n"
          ]
        }
      ],
      "source": [
        "# Error de test del modelo final\n",
        "# ==============================================================================\n",
        "modelo_final = classifier_new\n",
        "predicciones = modelo_final.predict(X = X_test)\n",
        "fbeta_adb = fbeta_score(\n",
        "        y_true = y_test,\n",
        "        y_pred = predicciones,\n",
        "        beta=2\n",
        "       )\n",
        "\n",
        "print(f\"El error (fbeta) de test es: {fbeta_adb}\")"
      ]
    },
    {
      "cell_type": "code",
      "execution_count": 81,
      "metadata": {
        "id": "TLFPkSGzvZPG",
        "colab": {
          "base_uri": "https://localhost:8080/"
        },
        "outputId": "245ffd91-dd13-4a37-ec18-2b4671ad5b69"
      },
      "outputs": [
        {
          "output_type": "stream",
          "name": "stdout",
          "text": [
            "3/3 [==============================] - 0s 7ms/step\n",
            "El error (fbeta) de test es: 0.7491856677524431\n"
          ]
        }
      ],
      "source": [
        "modelo_final = classifier_new\n",
        "predicciones = modelo_final.predict(X = X_test)\n",
        "fbeta_dt = fbeta_score(\n",
        "        y_true = y_test,\n",
        "        y_pred = predicciones,\n",
        "        beta=0.5\n",
        "       )\n",
        "\n",
        "print(f\"El error (fbeta) de test es: {fbeta_dt}\")"
      ]
    },
    {
      "cell_type": "code",
      "execution_count": 82,
      "metadata": {
        "id": "LC9wKW0Fveu9",
        "colab": {
          "base_uri": "https://localhost:8080/"
        },
        "outputId": "fa49fc37-f474-4e95-84de-cd303a4b4269"
      },
      "outputs": [
        {
          "output_type": "stream",
          "name": "stdout",
          "text": [
            "3/3 [==============================] - 0s 4ms/step\n",
            "El error (fbeta) de test es: 0.7419354838709679\n"
          ]
        }
      ],
      "source": [
        "modelo_final = classifier_new\n",
        "predicciones = modelo_final.predict(X = X_test)\n",
        "fbeta_dt = fbeta_score(\n",
        "        y_true = y_test,\n",
        "        y_pred = predicciones,\n",
        "        beta=0\n",
        "       )\n",
        "\n",
        "print(f\"El error (fbeta) de test es: {fbeta_dt}\")"
      ]
    },
    {
      "cell_type": "code",
      "execution_count": 83,
      "metadata": {
        "id": "k7IBJp0ZZQcV",
        "colab": {
          "base_uri": "https://localhost:8080/"
        },
        "outputId": "799a2a80-4644-48e3-9db4-c86da53aab3f"
      },
      "outputs": [
        {
          "output_type": "stream",
          "name": "stdout",
          "text": [
            "3/3 [==============================] - 0s 4ms/step\n",
            "              precision    recall  f1-score   support\n",
            "\n",
            "         0.0       0.50      0.45      0.47        29\n",
            "         1.0       0.74      0.78      0.76        59\n",
            "\n",
            "    accuracy                           0.67        88\n",
            "   macro avg       0.62      0.61      0.62        88\n",
            "weighted avg       0.66      0.67      0.67        88\n",
            "\n"
          ]
        }
      ],
      "source": [
        "y_pred = modelo_final.predict(X_test)\n",
        "print(classification_report(y_test, y_pred))"
      ]
    },
    {
      "cell_type": "code",
      "execution_count": 84,
      "metadata": {
        "id": "lOiZ81fuvE8X",
        "colab": {
          "base_uri": "https://localhost:8080/"
        },
        "outputId": "862ad65d-9ab2-4bef-89b3-22d587cb6cc1"
      },
      "outputs": [
        {
          "output_type": "stream",
          "name": "stdout",
          "text": [
            "3/3 [==============================] - 0s 7ms/step\n",
            "0.6922049894621973\n"
          ]
        }
      ],
      "source": [
        "y_scores = classifier_new.predict_proba(X_test)[:, 1]\n",
        "print(average_precision_score(y_test, y_scores, average='macro'))"
      ]
    },
    {
      "cell_type": "code",
      "execution_count": 85,
      "metadata": {
        "id": "_7v1GC1k_xhw",
        "colab": {
          "base_uri": "https://localhost:8080/"
        },
        "outputId": "ec716101-d6e1-44e6-a1c2-75b74667711e"
      },
      "outputs": [
        {
          "output_type": "stream",
          "name": "stdout",
          "text": [
            "[0.7206862  0.9891383  0.3146988  0.9376773  0.30317688 0.9837715\n",
            " 0.41772485 0.9990473  0.9184135  0.8789065  0.99901253 0.34322265\n",
            " 0.9985419  0.9997946  0.96984434 0.7814305  0.98689723 0.621828\n",
            " 0.9976625  0.8429334  0.34880778 0.2966097  0.41291618 0.9595874\n",
            " 0.99974114 0.23124345 0.99953043 0.9627112  0.86059636 0.93617713\n",
            " 0.99994546 0.5405543  0.92112774 0.99533665 0.39353278 0.342219\n",
            " 0.9763388  0.9884115  0.9995326  0.99323696 0.8561773  0.45342675\n",
            " 0.9919412  0.39814782 0.956476   0.38048187 0.66486967 0.6190321\n",
            " 0.82270384 0.98966044 0.5519051  0.9270827  0.36211693 0.9984451\n",
            " 0.93906313 0.9194809  0.28136724 0.38605738 0.97961915 0.36843076\n",
            " 0.99983156 0.99366146 0.9949132  0.86661845 0.998601   0.7899288\n",
            " 0.30727515 0.3837377  0.63433146 0.34168744 0.99999714 0.5345447\n",
            " 0.3982594  0.9612279  0.9974593  0.706541   0.62552905 0.98545474\n",
            " 0.3471664  0.8421239  0.87759554 0.355527   0.43633124 0.43225014\n",
            " 0.9353686  0.6849477  0.9456376  0.43110597]\n"
          ]
        }
      ],
      "source": [
        "print(y_scores)"
      ]
    },
    {
      "cell_type": "code",
      "execution_count": 86,
      "metadata": {
        "id": "RNyKV8Ea4BzX",
        "colab": {
          "base_uri": "https://localhost:8080/"
        },
        "outputId": "81fcf065-2296-4ebe-ef80-6e670d2f52ea"
      },
      "outputs": [
        {
          "output_type": "stream",
          "name": "stdout",
          "text": [
            "NDCG Score: 0.8672\n"
          ]
        }
      ],
      "source": [
        "ndcg = ndcg_score(y_test.values.reshape(1, -1), [y_scores])\n",
        "print(f\"NDCG Score: {ndcg:.4f}\")"
      ]
    },
    {
      "cell_type": "code",
      "execution_count": 87,
      "metadata": {
        "id": "IWjA9Ko3C6zN",
        "colab": {
          "base_uri": "https://localhost:8080/",
          "height": 569
        },
        "outputId": "6e7e4b07-3be0-4f7d-f03a-b306b1446ddb"
      },
      "outputs": [
        {
          "output_type": "execute_result",
          "data": {
            "text/plain": [
              "Text(0.5, 427.9555555555555, 'Predicted label')"
            ]
          },
          "metadata": {},
          "execution_count": 87
        },
        {
          "output_type": "display_data",
          "data": {
            "text/plain": [
              "<Figure size 640x480 with 2 Axes>"
            ],
            "image/png": "[encoded data removed]"
          },
          "metadata": {}
        }
      ],
      "source": [
        "class_names=[0,1] # name  of classes\n",
        "fig, ax = plt.subplots()\n",
        "tick_marks = np.arange(len(class_names))\n",
        "plt.xticks(tick_marks, class_names)\n",
        "plt.yticks(tick_marks, class_names)\n",
        "# create heatmap\n",
        "sns.heatmap(pd.DataFrame(confusion_matrix( y_test, pred_new2)), annot=True, cmap=\"YlGnBu\" ,fmt='g')\n",
        "ax.xaxis.set_label_position(\"top\")\n",
        "plt.tight_layout()\n",
        "plt.title('Confusion matrix', y=1.1)\n",
        "plt.ylabel('Actual label')\n",
        "plt.xlabel('Predicted label')"
      ]
    },
    {
      "cell_type": "markdown",
      "metadata": {
        "id": "E-AJHBvvYrpq"
      },
      "source": []
    },
    {
      "cell_type": "markdown",
      "metadata": {
        "id": "MnARYjB9NjTn"
      },
      "source": [
        "###Roc Curve"
      ]
    },
    {
      "cell_type": "code",
      "execution_count": 88,
      "metadata": {
        "id": "IwRJuU2sNjTo",
        "colab": {
          "base_uri": "https://localhost:8080/"
        },
        "outputId": "ecaddb61-4843-4ba6-8139-2f871e2428cd"
      },
      "outputs": [
        {
          "output_type": "stream",
          "name": "stdout",
          "text": [
            "3/3 [==============================] - 0s 4ms/step\n"
          ]
        }
      ],
      "source": [
        "# Predict probabilities for the test set\n",
        "y_pred_probs = classifier_new.predict_proba(X_test)[:, 1]"
      ]
    },
    {
      "cell_type": "code",
      "execution_count": 89,
      "metadata": {
        "id": "vdOL3ZSlNjTp"
      },
      "outputs": [],
      "source": [
        "# Compute ROC curve and AUC score\n",
        "fpr, tpr, thresholds = roc_curve(y_test, y_pred_probs)\n",
        "roc_auc = roc_auc_score(y_test, y_pred_probs)\n"
      ]
    },
    {
      "cell_type": "code",
      "execution_count": 90,
      "metadata": {
        "id": "eTdPgdg1NjTr",
        "colab": {
          "base_uri": "https://localhost:8080/",
          "height": 582
        },
        "outputId": "51c1229a-4b54-4189-dff3-c888c47a42a2"
      },
      "outputs": [
        {
          "output_type": "display_data",
          "data": {
            "text/plain": [
              "<Figure size 800x600 with 1 Axes>"
            ],
            "image/png": "[encoded data removed]"
          },
          "metadata": {}
        },
        {
          "output_type": "stream",
          "name": "stdout",
          "text": [
            "ROC AUC score: 0.5721800116890707\n"
          ]
        }
      ],
      "source": [
        "# Plot ROC curve\n",
        "plt.figure(figsize=(8, 6))\n",
        "plt.plot(fpr, tpr, label='ROC curve (AUC = %0.2f)' % roc_auc)\n",
        "plt.plot([0, 1], [0, 1], 'k--')\n",
        "plt.xlim([0.0, 1.0])\n",
        "plt.ylim([0.0, 1.05])\n",
        "plt.xlabel('False Positive Rate')\n",
        "plt.ylabel('True Positive Rate')\n",
        "plt.title('Receiver Operating Characteristic')\n",
        "plt.legend(loc=\"lower right\")\n",
        "plt.show()\n",
        "\n",
        "# Print ROC AUC score\n",
        "print(\"ROC AUC score:\", roc_auc)"
      ]
    }
  ],
  "metadata": {
    "colab": {
      "provenance": [],
      "authorship_tag": "ABX9TyMihCJkdcXec7QjL7uLHrSJ",
      "include_colab_link": true
    },
    "kernelspec": {
      "display_name": "Python 3",
      "name": "python3"
    },
    "language_info": {
      "name": "python"
    }
  },
  "nbformat": 4,
  "nbformat_minor": 0
}