{
  "cells": [
    {
      "cell_type": "markdown",
      "metadata": {
        "id": "view-in-github",
        "colab_type": "text"
      },
      "source": [
        "<a href=\"https://colab.research.google.com/github/lazarogibert/Tesis/blob/main/transfer_load_Neural_network_HLCM_keras_all_net_early_stopping_and_functional_keras_all_dataset_v2.ipynb\" target=\"_parent\"><img src=\"https://colab.research.google.com/assets/colab-badge.svg\" alt=\"Open In Colab\"/></a>"
      ]
    },
    {
      "cell_type": "markdown",
      "metadata": {
        "id": "Gl4hqbmkjYm1"
      },
      "source": [
        "#Installing and importring libraries"
      ]
    },
    {
      "cell_type": "code",
      "source": [
        "from google.colab import drive\n",
        "drive.mount('/content/drive')"
      ],
      "metadata": {
        "id": "kIGl9dF0M_z8",
        "colab": {
          "base_uri": "https://localhost:8080/"
        },
        "outputId": "f8bcbf5b-7a67-4266-aae6-7fa7a97fe572"
      },
      "execution_count": 1,
      "outputs": [
        {
          "output_type": "stream",
          "name": "stdout",
          "text": [
            "Mounted at /content/drive\n"
          ]
        }
      ]
    },
    {
      "cell_type": "code",
      "execution_count": 2,
      "metadata": {
        "id": "ZcqSe6HkXieQ",
        "colab": {
          "base_uri": "https://localhost:8080/"
        },
        "outputId": "53cd86b7-d201-40e9-b99b-56c3af106a66"
      },
      "outputs": [
        {
          "output_type": "stream",
          "name": "stdout",
          "text": [
            "Collecting feature_engine\n",
            "  Downloading feature_engine-1.6.1-py2.py3-none-any.whl (326 kB)\n",
            "\u001b[?25l     \u001b[90m━━━━━━━━━━━━━━━━━━━━━━━━━━━━━━━━━━━━━━━━\u001b[0m \u001b[32m0.0/326.6 kB\u001b[0m \u001b[31m?\u001b[0m eta \u001b[36m-:--:--\u001b[0m\r\u001b[2K     \u001b[91m━━━━━━━━━━━━━━━━━\u001b[0m\u001b[90m╺\u001b[0m\u001b[90m━━━━━━━━━━━━━━━━━━━━━\u001b[0m \u001b[32m143.4/326.6 kB\u001b[0m \u001b[31m4.5 MB/s\u001b[0m eta \u001b[36m0:00:01\u001b[0m\r\u001b[2K     \u001b[90m━━━━━━━━━━━━━━━━━━━━━━━━━━━━━━━━━━━━━━━\u001b[0m \u001b[32m326.6/326.6 kB\u001b[0m \u001b[31m5.8 MB/s\u001b[0m eta \u001b[36m0:00:00\u001b[0m\n",
            "\u001b[?25hRequirement already satisfied: numpy>=1.18.2 in /usr/local/lib/python3.10/dist-packages (from feature_engine) (1.22.4)\n",
            "Requirement already satisfied: pandas>=1.0.3 in /usr/local/lib/python3.10/dist-packages (from feature_engine) (1.5.3)\n",
            "Requirement already satisfied: scikit-learn>=1.0.0 in /usr/local/lib/python3.10/dist-packages (from feature_engine) (1.2.2)\n",
            "Requirement already satisfied: scipy>=1.4.1 in /usr/local/lib/python3.10/dist-packages (from feature_engine) (1.10.1)\n",
            "Requirement already satisfied: statsmodels>=0.11.1 in /usr/local/lib/python3.10/dist-packages (from feature_engine) (0.13.5)\n",
            "Requirement already satisfied: python-dateutil>=2.8.1 in /usr/local/lib/python3.10/dist-packages (from pandas>=1.0.3->feature_engine) (2.8.2)\n",
            "Requirement already satisfied: pytz>=2020.1 in /usr/local/lib/python3.10/dist-packages (from pandas>=1.0.3->feature_engine) (2022.7.1)\n",
            "Requirement already satisfied: joblib>=1.1.1 in /usr/local/lib/python3.10/dist-packages (from scikit-learn>=1.0.0->feature_engine) (1.3.1)\n",
            "Requirement already satisfied: threadpoolctl>=2.0.0 in /usr/local/lib/python3.10/dist-packages (from scikit-learn>=1.0.0->feature_engine) (3.1.0)\n",
            "Requirement already satisfied: patsy>=0.5.2 in /usr/local/lib/python3.10/dist-packages (from statsmodels>=0.11.1->feature_engine) (0.5.3)\n",
            "Requirement already satisfied: packaging>=21.3 in /usr/local/lib/python3.10/dist-packages (from statsmodels>=0.11.1->feature_engine) (23.1)\n",
            "Requirement already satisfied: six in /usr/local/lib/python3.10/dist-packages (from patsy>=0.5.2->statsmodels>=0.11.1->feature_engine) (1.16.0)\n",
            "Installing collected packages: feature_engine\n",
            "Successfully installed feature_engine-1.6.1\n"
          ]
        }
      ],
      "source": [
        "#feature engine\n",
        "!pip install feature_engine"
      ]
    },
    {
      "cell_type": "code",
      "execution_count": 3,
      "metadata": {
        "id": "vQCChO8hqLn2",
        "colab": {
          "base_uri": "https://localhost:8080/"
        },
        "outputId": "596682f7-c4dc-4a9e-ff12-4dc807504712"
      },
      "outputs": [
        {
          "output_type": "stream",
          "name": "stdout",
          "text": [
            "Requirement already satisfied: plotly in /usr/local/lib/python3.10/dist-packages (5.13.1)\n",
            "Requirement already satisfied: tenacity>=6.2.0 in /usr/local/lib/python3.10/dist-packages (from plotly) (8.2.2)\n"
          ]
        }
      ],
      "source": [
        "!pip install plotly"
      ]
    },
    {
      "cell_type": "code",
      "execution_count": 4,
      "metadata": {
        "id": "n74S1PK6LpGT",
        "colab": {
          "base_uri": "https://localhost:8080/"
        },
        "outputId": "a7eb7677-c364-45b1-8ca6-2fd68ca77a66"
      },
      "outputs": [
        {
          "output_type": "stream",
          "name": "stdout",
          "text": [
            "Collecting skorch\n",
            "  Downloading skorch-0.14.0-py3-none-any.whl (221 kB)\n",
            "\u001b[?25l     \u001b[90m━━━━━━━━━━━━━━━━━━━━━━━━━━━━━━━━━━━━━━━━\u001b[0m \u001b[32m0.0/221.3 kB\u001b[0m \u001b[31m?\u001b[0m eta \u001b[36m-:--:--\u001b[0m\r\u001b[2K     \u001b[91m━━━━━━━━━━━━━━━━━━━━━━━━━━━━━━━━━━\u001b[0m\u001b[90m╺\u001b[0m\u001b[90m━━━━\u001b[0m \u001b[32m194.6/221.3 kB\u001b[0m \u001b[31m5.8 MB/s\u001b[0m eta \u001b[36m0:00:01\u001b[0m\r\u001b[2K     \u001b[90m━━━━━━━━━━━━━━━━━━━━━━━━━━━━━━━━━━━━━━━\u001b[0m \u001b[32m221.3/221.3 kB\u001b[0m \u001b[31m4.5 MB/s\u001b[0m eta \u001b[36m0:00:00\u001b[0m\n",
            "\u001b[?25hRequirement already satisfied: numpy>=1.13.3 in /usr/local/lib/python3.10/dist-packages (from skorch) (1.22.4)\n",
            "Requirement already satisfied: scikit-learn>=0.22.0 in /usr/local/lib/python3.10/dist-packages (from skorch) (1.2.2)\n",
            "Requirement already satisfied: scipy>=1.1.0 in /usr/local/lib/python3.10/dist-packages (from skorch) (1.10.1)\n",
            "Requirement already satisfied: tabulate>=0.7.7 in /usr/local/lib/python3.10/dist-packages (from skorch) (0.8.10)\n",
            "Requirement already satisfied: tqdm>=4.14.0 in /usr/local/lib/python3.10/dist-packages (from skorch) (4.65.0)\n",
            "Requirement already satisfied: joblib>=1.1.1 in /usr/local/lib/python3.10/dist-packages (from scikit-learn>=0.22.0->skorch) (1.3.1)\n",
            "Requirement already satisfied: threadpoolctl>=2.0.0 in /usr/local/lib/python3.10/dist-packages (from scikit-learn>=0.22.0->skorch) (3.1.0)\n",
            "Installing collected packages: skorch\n",
            "Successfully installed skorch-0.14.0\n"
          ]
        }
      ],
      "source": [
        "!pip install skorch"
      ]
    },
    {
      "cell_type": "code",
      "execution_count": 70,
      "metadata": {
        "id": "bOzhc3VTXqN_"
      },
      "outputs": [],
      "source": [
        "import torch\n",
        "import pandas as pd\n",
        "import numpy as np\n",
        "import torch.nn as nn\n",
        "import torch.optim as optim\n",
        "from torch.utils.data import Dataset, DataLoader\n",
        "from scipy.io import arff\n",
        "from sklearn.pipeline import Pipeline\n",
        "from sklearn.compose import ColumnTransformer\n",
        "from sklearn.model_selection import train_test_split\n",
        "import matplotlib.pyplot as plt\n",
        "from pandas import DataFrame\n",
        "#import miceforest as mf\n",
        "from sklearn.compose import make_column_transformer\n",
        "from sklearn.experimental import enable_iterative_imputer\n",
        "from sklearn.impute import IterativeImputer\n",
        "# Pre-procesamiento\n",
        "from sklearn.preprocessing import MinMaxScaler\n",
        "from sklearn.preprocessing import StandardScaler\n",
        "from sklearn.preprocessing import FunctionTransformer\n",
        "from sklearn.preprocessing import PowerTransformer\n",
        "from sklearn.preprocessing import OneHotEncoder\n",
        "from sklearn.impute import SimpleImputer\n",
        "from feature_engine.imputation import RandomSampleImputer\n",
        "import seaborn as sns\n",
        "# Clasificacion\n",
        "from sklearn.model_selection import StratifiedKFold\n",
        "from imblearn.under_sampling import RandomUnderSampler\n",
        "from sklearn.tree import DecisionTreeClassifier\n",
        "import xgboost as xgb\n",
        "from sklearn.svm import SVC\n",
        "from sklearn.neighbors import KNeighborsClassifier\n",
        "from sklearn.linear_model import LinearRegression\n",
        "from sklearn.ensemble import RandomForestClassifier\n",
        "from sklearn.ensemble import RandomForestRegressor\n",
        "from sklearn.tree import DecisionTreeClassifier\n",
        "from sklearn.linear_model import LogisticRegression\n",
        "from sklearn.linear_model import LinearRegression\n",
        "from sklearn.ensemble import GradientBoostingClassifier\n",
        "from sklearn.ensemble import AdaBoostClassifier\n",
        "from xgboost import XGBClassifier\n",
        "from sklearn.metrics import confusion_matrix\n",
        "from sklearn import metrics\n",
        "from sklearn.pipeline import make_pipeline\n",
        "from sklearn.naive_bayes import GaussianNB\n",
        "from sklearn.model_selection import cross_val_score\n",
        "# Metricas de evaluación\n",
        "from sklearn.metrics import classification_report\n",
        "from sklearn.metrics import accuracy_score\n",
        "from sklearn.metrics import f1_score\n",
        "from sklearn.metrics import cohen_kappa_score\n",
        "from sklearn.model_selection import RandomizedSearchCV, RepeatedKFold\n",
        "import multiprocessing\n",
        "from sklearn.metrics import fbeta_score, make_scorer\n",
        "from sklearn.dummy import DummyClassifier\n",
        "from sklearn.neural_network import MLPClassifier\n",
        "from sklearn.metrics import average_precision_score\n",
        "from sklearn.metrics import ndcg_score\n",
        "from sklearn.metrics import confusion_matrix\n",
        "from sklearn.pipeline import make_pipeline\n",
        "from sklearn.pipeline import Pipeline\n",
        "from sklearn.metrics import fbeta_score, make_scorer\n",
        "from skorch import NeuralNetBinaryClassifier\n",
        "from sklearn.metrics import roc_curve, roc_auc_score\n",
        "import tensorflow\n",
        "from tensorflow.keras.callbacks import EarlyStopping\n",
        "from tensorflow.keras.layers import Input\n",
        "from tensorflow.keras import layers"
      ]
    },
    {
      "cell_type": "markdown",
      "metadata": {
        "id": "0Wrn9ZE5OjMo"
      },
      "source": [
        "#Getting the datset"
      ]
    },
    {
      "cell_type": "code",
      "execution_count": 7,
      "metadata": {
        "id": "w0l9mSbFOi0P",
        "colab": {
          "base_uri": "https://localhost:8080/",
          "height": 778
        },
        "outputId": "685faab5-4fb6-403f-b963-b94e3ab2c4d1"
      },
      "outputs": [
        {
          "output_type": "execute_result",
          "data": {
            "text/plain": [
              "   REDCap ID Fecha de Nacimiento  \\\n",
              "0          1          10/15/1992   \n",
              "1          2           6/23/1989   \n",
              "2          3           5/11/1997   \n",
              "3          4            4/8/1983   \n",
              "4          5           9/12/1997   \n",
              "\n",
              "   Edad actual Última edad registrada en caso de exitus     Género  \\\n",
              "0                                               7.83      Femenino   \n",
              "1                                              33.55     Masculino   \n",
              "2                                              25.67     Masculino   \n",
              "3                                              39.76     Masculino   \n",
              "4                                              25.33     Masculino   \n",
              "\n",
              "                         Hospital de Origen Hospital Origen 1 Otro  \\\n",
              "0       Hospital Luis Calvo Mackenna (HLCM)                    NaN   \n",
              "1  Hospital Exequiel González Cortés (HEGC)                    NaN   \n",
              "2       Hospital Luis Calvo Mackenna (HLCM)                    NaN   \n",
              "3         Hospital San Juan de Dios (HSJDD)                    NaN   \n",
              "4  Hospital Exequiel González Cortés (HEGC)                    NaN   \n",
              "\n",
              "  Hospital de Origen.1 Hospital de Origen.2 Previsión Otra previsión  ...  \\\n",
              "0                  NaN                  NaN  Fonasa A            NaN  ...   \n",
              "1                  NaN                  NaN  Fonasa A            NaN  ...   \n",
              "2                  NaN                  NaN  Fonasa A            NaN  ...   \n",
              "3                  NaN                  NaN  Fonasa D            NaN  ...   \n",
              "4                  NaN                  NaN  Fonasa B            NaN  ...   \n",
              "\n",
              "  Tratamiento EICH crónico (choice=Budesonida Inhalatoria).3  \\\n",
              "0                                                  0           \n",
              "1                                                  0           \n",
              "2                                                  0           \n",
              "3                                                  0           \n",
              "4                                                  0           \n",
              "\n",
              "   Tratamiento EICH crónico (choice=Ciclosporina (CsA)).3  \\\n",
              "0                                                  0        \n",
              "1                                                  0        \n",
              "2                                                  0        \n",
              "3                                                  1        \n",
              "4                                                  0        \n",
              "\n",
              "   Tratamiento EICH crónico (choice=Tacrolimus).3  \\\n",
              "0                                               0   \n",
              "1                                               0   \n",
              "2                                               0   \n",
              "3                                               0   \n",
              "4                                               0   \n",
              "\n",
              "  Tratamiento EICH crónico (choice=Micofelonato (MMF)).3  \\\n",
              "0                                                  0       \n",
              "1                                                  0       \n",
              "2                                                  0       \n",
              "3                                                  0       \n",
              "4                                                  0       \n",
              "\n",
              "  Tratamiento EICH crónico (choice=MTP).3  \\\n",
              "0                                       0   \n",
              "1                                       0   \n",
              "2                                       0   \n",
              "3                                       0   \n",
              "4                                       0   \n",
              "\n",
              "  Tratamiento EICH crónico (choice=Metotrexato (MTX)).3  \\\n",
              "0                                                  0      \n",
              "1                                                  0      \n",
              "2                                                  0      \n",
              "3                                                  0      \n",
              "4                                                  0      \n",
              "\n",
              "  Tratamiento EICH crónico (choice=Prednisona).3  \\\n",
              "0                                              0   \n",
              "1                                              1   \n",
              "2                                              0   \n",
              "3                                              1   \n",
              "4                                              0   \n",
              "\n",
              "  Tratamiento EICH crónico (choice=Rapamicina).3  \\\n",
              "0                                              0   \n",
              "1                                              0   \n",
              "2                                              0   \n",
              "3                                              0   \n",
              "4                                              0   \n",
              "\n",
              "  Tratamiento EICH crónico (choice=Otros).3 Otros tratamientos EICH crónico.3  \n",
              "0                                         0                               NaN  \n",
              "1                                         0                               NaN  \n",
              "2                                         0                               NaN  \n",
              "3                                         0                               NaN  \n",
              "4                                         0                               NaN  \n",
              "\n",
              "[5 rows x 227 columns]"
            ],
            "text/html": [
              "\n",
              "\n",
              "  <div id=\"df-08a76581-cc8f-449e-b19f-0b49b4c12cb8\">\n",
              "    <div class=\"colab-df-container\">\n",
              "      <div>\n",
              "<style scoped>\n",
              "    .dataframe tbody tr th:only-of-type {\n",
              "        vertical-align: middle;\n",
              "    }\n",
              "\n",
              "    .dataframe tbody tr th {\n",
              "        vertical-align: top;\n",
              "    }\n",
              "\n",
              "    .dataframe thead th {\n",
              "        text-align: right;\n",
              "    }\n",
              "</style>\n",
              "<table border=\"1\" class=\"dataframe\">\n",
              "  <thead>\n",
              "    <tr style=\"text-align: right;\">\n",
              "      <th></th>\n",
              "      <th>REDCap ID</th>\n",
              "      <th>Fecha de Nacimiento</th>\n",
              "      <th>Edad actual Última edad registrada en caso de exitus</th>\n",
              "      <th>Género</th>\n",
              "      <th>Hospital de Origen</th>\n",
              "      <th>Hospital Origen 1 Otro</th>\n",
              "      <th>Hospital de Origen.1</th>\n",
              "      <th>Hospital de Origen.2</th>\n",
              "      <th>Previsión</th>\n",
              "      <th>Otra previsión</th>\n",
              "      <th>...</th>\n",
              "      <th>Tratamiento EICH crónico (choice=Budesonida Inhalatoria).3</th>\n",
              "      <th>Tratamiento EICH crónico (choice=Ciclosporina (CsA)).3</th>\n",
              "      <th>Tratamiento EICH crónico (choice=Tacrolimus).3</th>\n",
              "      <th>Tratamiento EICH crónico (choice=Micofelonato (MMF)).3</th>\n",
              "      <th>Tratamiento EICH crónico (choice=MTP).3</th>\n",
              "      <th>Tratamiento EICH crónico (choice=Metotrexato (MTX)).3</th>\n",
              "      <th>Tratamiento EICH crónico (choice=Prednisona).3</th>\n",
              "      <th>Tratamiento EICH crónico (choice=Rapamicina).3</th>\n",
              "      <th>Tratamiento EICH crónico (choice=Otros).3</th>\n",
              "      <th>Otros tratamientos EICH crónico.3</th>\n",
              "    </tr>\n",
              "  </thead>\n",
              "  <tbody>\n",
              "    <tr>\n",
              "      <th>0</th>\n",
              "      <td>1</td>\n",
              "      <td>10/15/1992</td>\n",
              "      <td>7.83</td>\n",
              "      <td>Femenino</td>\n",
              "      <td>Hospital Luis Calvo Mackenna (HLCM)</td>\n",
              "      <td>NaN</td>\n",
              "      <td>NaN</td>\n",
              "      <td>NaN</td>\n",
              "      <td>Fonasa A</td>\n",
              "      <td>NaN</td>\n",
              "      <td>...</td>\n",
              "      <td>0</td>\n",
              "      <td>0</td>\n",
              "      <td>0</td>\n",
              "      <td>0</td>\n",
              "      <td>0</td>\n",
              "      <td>0</td>\n",
              "      <td>0</td>\n",
              "      <td>0</td>\n",
              "      <td>0</td>\n",
              "      <td>NaN</td>\n",
              "    </tr>\n",
              "    <tr>\n",
              "      <th>1</th>\n",
              "      <td>2</td>\n",
              "      <td>6/23/1989</td>\n",
              "      <td>33.55</td>\n",
              "      <td>Masculino</td>\n",
              "      <td>Hospital Exequiel González Cortés (HEGC)</td>\n",
              "      <td>NaN</td>\n",
              "      <td>NaN</td>\n",
              "      <td>NaN</td>\n",
              "      <td>Fonasa A</td>\n",
              "      <td>NaN</td>\n",
              "      <td>...</td>\n",
              "      <td>0</td>\n",
              "      <td>0</td>\n",
              "      <td>0</td>\n",
              "      <td>0</td>\n",
              "      <td>0</td>\n",
              "      <td>0</td>\n",
              "      <td>1</td>\n",
              "      <td>0</td>\n",
              "      <td>0</td>\n",
              "      <td>NaN</td>\n",
              "    </tr>\n",
              "    <tr>\n",
              "      <th>2</th>\n",
              "      <td>3</td>\n",
              "      <td>5/11/1997</td>\n",
              "      <td>25.67</td>\n",
              "      <td>Masculino</td>\n",
              "      <td>Hospital Luis Calvo Mackenna (HLCM)</td>\n",
              "      <td>NaN</td>\n",
              "      <td>NaN</td>\n",
              "      <td>NaN</td>\n",
              "      <td>Fonasa A</td>\n",
              "      <td>NaN</td>\n",
              "      <td>...</td>\n",
              "      <td>0</td>\n",
              "      <td>0</td>\n",
              "      <td>0</td>\n",
              "      <td>0</td>\n",
              "      <td>0</td>\n",
              "      <td>0</td>\n",
              "      <td>0</td>\n",
              "      <td>0</td>\n",
              "      <td>0</td>\n",
              "      <td>NaN</td>\n",
              "    </tr>\n",
              "    <tr>\n",
              "      <th>3</th>\n",
              "      <td>4</td>\n",
              "      <td>4/8/1983</td>\n",
              "      <td>39.76</td>\n",
              "      <td>Masculino</td>\n",
              "      <td>Hospital San Juan de Dios (HSJDD)</td>\n",
              "      <td>NaN</td>\n",
              "      <td>NaN</td>\n",
              "      <td>NaN</td>\n",
              "      <td>Fonasa D</td>\n",
              "      <td>NaN</td>\n",
              "      <td>...</td>\n",
              "      <td>0</td>\n",
              "      <td>1</td>\n",
              "      <td>0</td>\n",
              "      <td>0</td>\n",
              "      <td>0</td>\n",
              "      <td>0</td>\n",
              "      <td>1</td>\n",
              "      <td>0</td>\n",
              "      <td>0</td>\n",
              "      <td>NaN</td>\n",
              "    </tr>\n",
              "    <tr>\n",
              "      <th>4</th>\n",
              "      <td>5</td>\n",
              "      <td>9/12/1997</td>\n",
              "      <td>25.33</td>\n",
              "      <td>Masculino</td>\n",
              "      <td>Hospital Exequiel González Cortés (HEGC)</td>\n",
              "      <td>NaN</td>\n",
              "      <td>NaN</td>\n",
              "      <td>NaN</td>\n",
              "      <td>Fonasa B</td>\n",
              "      <td>NaN</td>\n",
              "      <td>...</td>\n",
              "      <td>0</td>\n",
              "      <td>0</td>\n",
              "      <td>0</td>\n",
              "      <td>0</td>\n",
              "      <td>0</td>\n",
              "      <td>0</td>\n",
              "      <td>0</td>\n",
              "      <td>0</td>\n",
              "      <td>0</td>\n",
              "      <td>NaN</td>\n",
              "    </tr>\n",
              "  </tbody>\n",
              "</table>\n",
              "<p>5 rows × 227 columns</p>\n",
              "</div>\n",
              "      <button class=\"colab-df-convert\" onclick=\"convertToInteractive('df-08a76581-cc8f-449e-b19f-0b49b4c12cb8')\"\n",
              "              title=\"Convert this dataframe to an interactive table.\"\n",
              "              style=\"display:none;\">\n",
              "\n",
              "  <svg xmlns=\"http://www.w3.org/2000/svg\" height=\"24px\"viewBox=\"0 0 24 24\"\n",
              "       width=\"24px\">\n",
              "    <path d=\"M0 0h24v24H0V0z\" fill=\"none\"/>\n",
              "    <path d=\"M18.56 5.44l.94 2.06.94-2.06 2.06-.94-2.06-.94-.94-2.06-.94 2.06-2.06.94zm-11 1L8.5 8.5l.94-2.06 2.06-.94-2.06-.94L8.5 2.5l-.94 2.06-2.06.94zm10 10l.94 2.06.94-2.06 2.06-.94-2.06-.94-.94-2.06-.94 2.06-2.06.94z\"/><path d=\"M17.41 7.96l-1.37-1.37c-.4-.4-.92-.59-1.43-.59-.52 0-1.04.2-1.43.59L10.3 9.45l-7.72 7.72c-.78.78-.78 2.05 0 2.83L4 21.41c.39.39.9.59 1.41.59.51 0 1.02-.2 1.41-.59l7.78-7.78 2.81-2.81c.8-.78.8-2.07 0-2.86zM5.41 20L4 18.59l7.72-7.72 1.47 1.35L5.41 20z\"/>\n",
              "  </svg>\n",
              "      </button>\n",
              "\n",
              "\n",
              "\n",
              "    <div id=\"df-7552ceaf-5bfe-4628-a7cb-7de169dfb3ae\">\n",
              "      <button class=\"colab-df-quickchart\" onclick=\"quickchart('df-7552ceaf-5bfe-4628-a7cb-7de169dfb3ae')\"\n",
              "              title=\"Suggest charts.\"\n",
              "              style=\"display:none;\">\n",
              "\n",
              "<svg xmlns=\"http://www.w3.org/2000/svg\" height=\"24px\"viewBox=\"0 0 24 24\"\n",
              "     width=\"24px\">\n",
              "    <g>\n",
              "        <path d=\"M19 3H5c-1.1 0-2 .9-2 2v14c0 1.1.9 2 2 2h14c1.1 0 2-.9 2-2V5c0-1.1-.9-2-2-2zM9 17H7v-7h2v7zm4 0h-2V7h2v10zm4 0h-2v-4h2v4z\"/>\n",
              "    </g>\n",
              "</svg>\n",
              "      </button>\n",
              "    </div>\n",
              "\n",
              "<style>\n",
              "  .colab-df-quickchart {\n",
              "    background-color: #E8F0FE;\n",
              "    border: none;\n",
              "    border-radius: 50%;\n",
              "    cursor: pointer;\n",
              "    display: none;\n",
              "    fill: #1967D2;\n",
              "    height: 32px;\n",
              "    padding: 0 0 0 0;\n",
              "    width: 32px;\n",
              "  }\n",
              "\n",
              "  .colab-df-quickchart:hover {\n",
              "    background-color: #E2EBFA;\n",
              "    box-shadow: 0px 1px 2px rgba(60, 64, 67, 0.3), 0px 1px 3px 1px rgba(60, 64, 67, 0.15);\n",
              "    fill: #174EA6;\n",
              "  }\n",
              "\n",
              "  [theme=dark] .colab-df-quickchart {\n",
              "    background-color: #3B4455;\n",
              "    fill: #D2E3FC;\n",
              "  }\n",
              "\n",
              "  [theme=dark] .colab-df-quickchart:hover {\n",
              "    background-color: #434B5C;\n",
              "    box-shadow: 0px 1px 3px 1px rgba(0, 0, 0, 0.15);\n",
              "    filter: drop-shadow(0px 1px 2px rgba(0, 0, 0, 0.3));\n",
              "    fill: #FFFFFF;\n",
              "  }\n",
              "</style>\n",
              "\n",
              "    <script>\n",
              "      async function quickchart(key) {\n",
              "        const containerElement = document.querySelector('#' + key);\n",
              "        const charts = await google.colab.kernel.invokeFunction(\n",
              "            'suggestCharts', [key], {});\n",
              "      }\n",
              "    </script>\n",
              "\n",
              "      <script>\n",
              "\n",
              "function displayQuickchartButton(domScope) {\n",
              "  let quickchartButtonEl =\n",
              "    domScope.querySelector('#df-7552ceaf-5bfe-4628-a7cb-7de169dfb3ae button.colab-df-quickchart');\n",
              "  quickchartButtonEl.style.display =\n",
              "    google.colab.kernel.accessAllowed ? 'block' : 'none';\n",
              "}\n",
              "\n",
              "        displayQuickchartButton(document);\n",
              "      </script>\n",
              "      <style>\n",
              "    .colab-df-container {\n",
              "      display:flex;\n",
              "      flex-wrap:wrap;\n",
              "      gap: 12px;\n",
              "    }\n",
              "\n",
              "    .colab-df-convert {\n",
              "      background-color: #E8F0FE;\n",
              "      border: none;\n",
              "      border-radius: 50%;\n",
              "      cursor: pointer;\n",
              "      display: none;\n",
              "      fill: #1967D2;\n",
              "      height: 32px;\n",
              "      padding: 0 0 0 0;\n",
              "      width: 32px;\n",
              "    }\n",
              "\n",
              "    .colab-df-convert:hover {\n",
              "      background-color: #E2EBFA;\n",
              "      box-shadow: 0px 1px 2px rgba(60, 64, 67, 0.3), 0px 1px 3px 1px rgba(60, 64, 67, 0.15);\n",
              "      fill: #174EA6;\n",
              "    }\n",
              "\n",
              "    [theme=dark] .colab-df-convert {\n",
              "      background-color: #3B4455;\n",
              "      fill: #D2E3FC;\n",
              "    }\n",
              "\n",
              "    [theme=dark] .colab-df-convert:hover {\n",
              "      background-color: #434B5C;\n",
              "      box-shadow: 0px 1px 3px 1px rgba(0, 0, 0, 0.15);\n",
              "      filter: drop-shadow(0px 1px 2px rgba(0, 0, 0, 0.3));\n",
              "      fill: #FFFFFF;\n",
              "    }\n",
              "  </style>\n",
              "\n",
              "      <script>\n",
              "        const buttonEl =\n",
              "          document.querySelector('#df-08a76581-cc8f-449e-b19f-0b49b4c12cb8 button.colab-df-convert');\n",
              "        buttonEl.style.display =\n",
              "          google.colab.kernel.accessAllowed ? 'block' : 'none';\n",
              "\n",
              "        async function convertToInteractive(key) {\n",
              "          const element = document.querySelector('#df-08a76581-cc8f-449e-b19f-0b49b4c12cb8');\n",
              "          const dataTable =\n",
              "            await google.colab.kernel.invokeFunction('convertToInteractive',\n",
              "                                                     [key], {});\n",
              "          if (!dataTable) return;\n",
              "\n",
              "          const docLinkHtml = 'Like what you see? Visit the ' +\n",
              "            '<a target=\"_blank\" href=https://colab.research.google.com/notebooks/data_table.ipynb>data table notebook</a>'\n",
              "            + ' to learn more about interactive tables.';\n",
              "          element.innerHTML = '';\n",
              "          dataTable['output_type'] = 'display_data';\n",
              "          await google.colab.output.renderOutput(dataTable, element);\n",
              "          const docLink = document.createElement('div');\n",
              "          docLink.innerHTML = docLinkHtml;\n",
              "          element.appendChild(docLink);\n",
              "        }\n",
              "      </script>\n",
              "    </div>\n",
              "  </div>\n"
            ]
          },
          "metadata": {},
          "execution_count": 7
        }
      ],
      "source": [
        "df = pd.read_csv('/content/sample_data/BaseAnon.csv')\n",
        "df.head()"
      ]
    },
    {
      "cell_type": "markdown",
      "metadata": {
        "id": "a8xSZ7XpO2Xq"
      },
      "source": []
    },
    {
      "cell_type": "markdown",
      "metadata": {
        "id": "EwfonrNyADkg"
      },
      "source": [
        "#Distribution of the classes"
      ]
    },
    {
      "cell_type": "code",
      "execution_count": 8,
      "metadata": {
        "id": "CLE7tzKA_E2N",
        "colab": {
          "base_uri": "https://localhost:8080/",
          "height": 54
        },
        "outputId": "22e32791-2383-4e5d-fd69-3b9f860d8b9e"
      },
      "outputs": [
        {
          "output_type": "display_data",
          "data": {
            "text/plain": [
              "<Figure size 640x480 with 1 Axes>"
            ],
            "image/png": "[encoded data removed]"
          },
          "metadata": {}
        }
      ],
      "source": [
        "#Decision class distribution\n",
        "groups = df['Eich Agudo.1'].value_counts()\n",
        "sizes = [groups[1], groups[0]]\n",
        "labels = list(map(lambda e: str(e), groups.index))\n",
        "\n",
        "fig1, ax1 = plt.subplots()\n",
        "ax1.pie(sizes, labels=labels, autopct='%1.1f%%', shadow=True, startangle=90)\n",
        "ax1.axis('equal')\n",
        "\n",
        "plt.show()"
      ]
    },
    {
      "cell_type": "code",
      "execution_count": 9,
      "metadata": {
        "id": "RNWWIPt4P5BJ",
        "colab": {
          "base_uri": "https://localhost:8080/"
        },
        "outputId": "2246889a-8cb1-46d0-bff0-b48a5cbe5a17"
      },
      "outputs": [
        {
          "output_type": "stream",
          "name": "stdout",
          "text": [
            "1.0    295\n",
            "0.0    224\n",
            "Name: Eich Agudo.1, dtype: int64\n"
          ]
        }
      ],
      "source": [
        "print(groups)"
      ]
    },
    {
      "cell_type": "markdown",
      "metadata": {
        "id": "Xq4Yz48sAK9K"
      },
      "source": [
        "#Selecting Features"
      ]
    },
    {
      "cell_type": "code",
      "execution_count": 10,
      "metadata": {
        "id": "5A-Qfg4PPdVu"
      },
      "outputs": [],
      "source": [
        "df= df[df['Tipo de trasplante'] == 'Alogénico']"
      ]
    },
    {
      "cell_type": "code",
      "execution_count": 11,
      "metadata": {
        "id": "PPnvUnrD_aWr"
      },
      "outputs": [],
      "source": [
        "df=df.drop(['Fecha de Nacimiento','Hospital de Origen','Otra previsión','Fecha de Diagnóstico','Diagnóstico 2','Otros diagnósticos.1','Tipo de Leucemia Linfoblástica Aguda','Obs de diagnóstico','Fecha de recaída pretrasplante',\n",
        "            'Otra traslocación','CMN/Kg × 107','CNT/Kg × 107','CD34/Kg × 105','UFC/Kg × 104','UFC/Kg × 104.1','Grupo Sanguíneo Donante 2','Factor Rh.2','Fuente de PH.1','CNT/Kg × 107.5','CD34/Kg × 105.5','Fecha de ingreso',\n",
        "            'Otros tratamientos','Dosis de Ciclofosfamida','Dosis Irradiación Corporal Total','Dosis Irradiación Nodal Total','Otros medicamentos/tratamientos para profilaxis','Fecha del TMO','Edad actual Última edad registrada en caso de exitus'\n",
        "            ,'Fecha del alta','Fecha Falla Implante Secundaria','Fecha de recaída','Fecha de recaída 2','REDCap ID','Fecha de reactivación 1','Fecha de reactivación 2', 'Fecha de reactivación 3','Fecha de reactivación 4' ,'Fecha de reactivación 5'\n",
        "            ,'Tipo de trasplante','t(12;21)','Recaída 2','Previsión','Recaída Pretrasplante','CD3/Kg × 105.5','El paciente es dado de alta','Falla de Implante','Recaída','Recaída 2','Número de Remisión Completa'], axis=1)\n",
        "\n",
        "\n",
        "\n",
        "df=df.drop(df.loc[:,'Hospital Origen 1 Otro':'Hospital de Origen.2'].columns, axis=1)\n",
        "df=df.drop(df.loc[:,'Exitus':'Fecha enfermedad CMV 1'].columns, axis=1)\n",
        "\n",
        "df=df.drop(df.loc[:,'Cutáneo.1':'Otros tratamientos EICH crónico.3'].columns, axis=1)"
      ]
    },
    {
      "cell_type": "code",
      "source": [
        "df.rename(columns={\"Factor Rh.1\":\"Factor Rh1\"},inplace=True)"
      ],
      "metadata": {
        "id": "T-Non1GbW1FR"
      },
      "execution_count": 12,
      "outputs": []
    },
    {
      "cell_type": "code",
      "execution_count": 13,
      "metadata": {
        "id": "blei-EFJQ4oi"
      },
      "outputs": [],
      "source": [
        "df = df.dropna(subset=['Eich Agudo.1'])"
      ]
    },
    {
      "cell_type": "code",
      "execution_count": 14,
      "metadata": {
        "id": "0UAzd3wM_N-j",
        "colab": {
          "base_uri": "https://localhost:8080/"
        },
        "outputId": "d7c350c0-66e3-4f03-f307-dd17ae7313f7"
      },
      "outputs": [
        {
          "output_type": "execute_result",
          "data": {
            "text/plain": [
              "(438, 51)"
            ]
          },
          "metadata": {},
          "execution_count": 14
        }
      ],
      "source": [
        "df.shape"
      ]
    },
    {
      "cell_type": "markdown",
      "metadata": {
        "id": "yDpBPp9cZ82B"
      },
      "source": [
        "## Final Distribution of the classes"
      ]
    },
    {
      "cell_type": "code",
      "execution_count": 15,
      "metadata": {
        "id": "1T07wZ89Z2Lv",
        "colab": {
          "base_uri": "https://localhost:8080/",
          "height": 54
        },
        "outputId": "12067111-8c6c-427c-f017-9ddd81f59703"
      },
      "outputs": [
        {
          "output_type": "display_data",
          "data": {
            "text/plain": [
              "<Figure size 640x480 with 1 Axes>"
            ],
            "image/png": "[encoded data removed]"
          },
          "metadata": {}
        }
      ],
      "source": [
        "#Decision class distribution\n",
        "groups = df['Eich Agudo.1'].value_counts()\n",
        "sizes = [groups[1], groups[0]]\n",
        "labels = list(map(lambda e: str(e), groups.index))\n",
        "\n",
        "fig1, ax1 = plt.subplots()\n",
        "ax1.pie(sizes, labels=labels, autopct='%1.1f%%', shadow=True, startangle=90)\n",
        "ax1.axis('equal')\n",
        "\n",
        "plt.show()"
      ]
    },
    {
      "cell_type": "code",
      "execution_count": 16,
      "metadata": {
        "id": "xUpD5kAPaSb0",
        "colab": {
          "base_uri": "https://localhost:8080/"
        },
        "outputId": "bd70a50c-5e2e-4b1d-cef2-18da110f9b8b"
      },
      "outputs": [
        {
          "output_type": "stream",
          "name": "stdout",
          "text": [
            "1.0    295\n",
            "0.0    143\n",
            "Name: Eich Agudo.1, dtype: int64\n"
          ]
        }
      ],
      "source": [
        "print(groups)"
      ]
    },
    {
      "cell_type": "markdown",
      "metadata": {
        "id": "D-gfQ1_IREhM"
      },
      "source": [
        "#Preproces the datasets"
      ]
    },
    {
      "cell_type": "code",
      "source": [
        "#df = df.loc[df['Fuente de PH']!='SCU']\n",
        "#df = df.loc[df['Diagnóstico 1']!='SMD']\n",
        "#dftest = df.loc[df['Diagnóstico 1']!='Mielodisplasia']"
      ],
      "metadata": {
        "id": "bsjSesRPQjlJ"
      },
      "execution_count": 17,
      "outputs": []
    },
    {
      "cell_type": "code",
      "source": [
        "df.rename(columns={'Edad de TPH':'recipient_age','Grupo Sanguíneo Donante':'donor_ABO','CMV Donante':'donor_CMV','Género':'recipient_gender'\n",
        ",'Grupo Sanguíneo Paciente':'recipient_ABO','Factor Rh':'recipient_rh','CMV':'recipient_CMV','Diagnóstico 1':'disease','Tipo de diagnóstico':'disease_group',\n",
        "'Tipo de Compatibilidad del Donante':'HLA_mismatch','Fuente de PH':'stem_cell_source','CD34/Kg × 106':'CD34_x1e6_per_kg','Eich Agudo.1':'acute_GvHD_II_III_IV'},inplace=True)"
      ],
      "metadata": {
        "id": "nZFhc_68SB7l"
      },
      "execution_count": 18,
      "outputs": []
    },
    {
      "cell_type": "code",
      "source": [
        "compatibility={\n",
        "   'HLA_mismatch':{\"MSD\":\"matched\",\"MD no relacionado\":\"matched\",\"MFD\":\"matched\",\"MMD/MMFD\":\"mismatched\"},\n",
        "   'donor_ABO':{\"O\":\"0\"},\n",
        "   'donor_CMV':{1:\"present\",0:\"absent\"},\n",
        "   'recipient_gender':{\"Masculino\":\"male\",\"Femenino\":\"female\" },\n",
        "   'recipient_ABO':{\"O\":\"0\"},\n",
        "   'recipient_rh':{1:\"plus\",0:\"minus\"},\n",
        "   'recipient_CMV':{1:\"present\",0:\"absent\"},\n",
        "   'disease':{\"LLA\":\"ALL\",\"LMA M4\":\"AML\",\"LMA M\":\"AML\",\"LMA M0\":\"AML\",\"LMA M1\":\"AML\",\"LMA M2\":\"AML\",\"LMA M3\":\"AML\",\"LMA M5\":\"AML\",\n",
        "              \"LMA M6\":\"AML\",\"LMA M7\":\"AML\",\"Adrenoleucodistrofia\":\"nonmalignant\",\"AMS\":\"nonmalignant\",\"Anemia Fanconi\":\"nonmalignant\",\n",
        "              \"Blackfan Diamond\":\"nonmalignant\",\"Chediak Higashi\":\"nonmalignant\",\"Deficiencia del XIAP\":\"nonmalignant\",\n",
        "              \"Epidermolisis Bulosa\":\"nonmalignant\",\"IDP\":\"nonmalignant\",\"Inmunodeficiencia primaria\":\"nonmalignant\",\"LAD\":\"nonmalignant\",\n",
        "              \"Leaky SCID\":\"nonmalignant\",\"Linfohistiocitosis\":\"nonmalignant\",\"Neutopenia congenita\":\"nonmalignant\",\n",
        "              \"Neutropenia Kostman\":\"nonmalignant\",\"Osteopetrosis\":\"nonmalignant\",\"SCID\":\"nonmalignant\",\n",
        "              \"Sindrome Linfoproliferativo autoinmune\":\"nonmalignant\",\"Trombocitopenia amegacariocítica\":\"nonmalignant\",\"WAS\":\"nonmalignant\",\n",
        "              \"LALA\":\"ALL\",\"Leucemia del lactante\":\"ALL\",\"LMC\":\"chronic\",\"LMMJ\":\"AML\",},\n",
        "   'disease_group':{\"No oncológico\":\"nonmalignant\",\"Oncológico\":\"malignant\"},\n",
        "   'stem_cell_source':{\"MO\":\"bone_marrow\",\"SP\":\"peripheral_blood\"}\n",
        "}\n",
        "\n",
        "df = df.replace(compatibility)"
      ],
      "metadata": {
        "id": "d2UspeaySEVN"
      },
      "execution_count": 19,
      "outputs": []
    },
    {
      "cell_type": "code",
      "source": [
        "df=df.fillna({\"Presenta traslocación genética\":0,\"t(9;22)\":0,\"(11q23) anormales\":0,\"t(4;11)\":0,\"Otras traslocaciones\":0})"
      ],
      "metadata": {
        "id": "1IG5r5bgXJu4"
      },
      "execution_count": 20,
      "outputs": []
    },
    {
      "cell_type": "code",
      "execution_count": 21,
      "metadata": {
        "id": "_N9tk-geRDwL"
      },
      "outputs": [],
      "source": [
        "obj_cols=df.select_dtypes(include=['object']).columns.to_list()"
      ]
    },
    {
      "cell_type": "code",
      "execution_count": 22,
      "metadata": {
        "id": "HLUpA63URUtO"
      },
      "outputs": [],
      "source": [
        "df[obj_cols]=df[obj_cols].astype('category')"
      ]
    },
    {
      "cell_type": "code",
      "execution_count": 23,
      "metadata": {
        "id": "D3-hmjQdRc1r"
      },
      "outputs": [],
      "source": [
        "cat_cols=df.select_dtypes(include=['category']).columns.to_list()"
      ]
    },
    {
      "cell_type": "code",
      "execution_count": 24,
      "metadata": {
        "id": "RrD8jI-rRfmm"
      },
      "outputs": [],
      "source": [
        "X=df.drop(['acute_GvHD_II_III_IV'],axis=1)\n",
        "y=df['acute_GvHD_II_III_IV']"
      ]
    },
    {
      "cell_type": "code",
      "execution_count": 25,
      "metadata": {
        "id": "BqMG-37XSLhK"
      },
      "outputs": [],
      "source": [
        "numeric_cols=X.select_dtypes(include=['float64', 'int']).columns.to_list()"
      ]
    },
    {
      "cell_type": "code",
      "execution_count": 26,
      "metadata": {
        "id": "Cy3XiiTWSnTB"
      },
      "outputs": [],
      "source": [
        "transformer = make_column_transformer(\n",
        "    (OneHotEncoder(), cat_cols),\n",
        "    remainder='passthrough',\n",
        "    verbose_feature_names_out=False)\n",
        "\n",
        "transformed = transformer.fit_transform(X)\n",
        "#temp=transformed.to_numpy()\n",
        "#transformed=transformed.toarray()\n",
        "#print(transformed)\n",
        "transformed_df = pd.DataFrame(transformed, columns=transformer.get_feature_names_out())"
      ]
    },
    {
      "cell_type": "code",
      "execution_count": 27,
      "metadata": {
        "id": "3ehLjdp-TFoR",
        "colab": {
          "base_uri": "https://localhost:8080/",
          "height": 396
        },
        "outputId": "e87f8ddf-2b09-4844-f72e-98d5b91493c3"
      },
      "outputs": [
        {
          "output_type": "execute_result",
          "data": {
            "text/plain": [
              "   recipient_gender_female  recipient_gender_male  recipient_gender_nan  \\\n",
              "0                      0.0                    1.0                   0.0   \n",
              "1                      0.0                    1.0                   0.0   \n",
              "2                      0.0                    1.0                   0.0   \n",
              "3                      0.0                    1.0                   0.0   \n",
              "4                      1.0                    0.0                   0.0   \n",
              "\n",
              "   recipient_ABO_0  recipient_ABO_A  recipient_ABO_AB  recipient_ABO_B  \\\n",
              "0              1.0              0.0               0.0              0.0   \n",
              "1              0.0              1.0               0.0              0.0   \n",
              "2              1.0              0.0               0.0              0.0   \n",
              "3              1.0              0.0               0.0              0.0   \n",
              "4              1.0              0.0               0.0              0.0   \n",
              "\n",
              "   recipient_ABO_nan  recipient_rh_minus  recipient_rh_plus  ...  \\\n",
              "0                0.0                 0.0                1.0  ...   \n",
              "1                0.0                 0.0                1.0  ...   \n",
              "2                0.0                 0.0                1.0  ...   \n",
              "3                0.0                 0.0                1.0  ...   \n",
              "4                0.0                 0.0                1.0  ...   \n",
              "\n",
              "   Profilaxis (choice=Ciclosporina (CsA))  \\\n",
              "0                                     1.0   \n",
              "1                                     1.0   \n",
              "2                                     1.0   \n",
              "3                                     1.0   \n",
              "4                                     1.0   \n",
              "\n",
              "   Profilaxis (choice=Depleción de Linfocitos T (DLT))  \\\n",
              "0                                                0.0     \n",
              "1                                                0.0     \n",
              "2                                                0.0     \n",
              "3                                                0.0     \n",
              "4                                                0.0     \n",
              "\n",
              "   Profilaxis (choice=Metilprednisolona (MP, MTP))  \\\n",
              "0                                              0.0   \n",
              "1                                              0.0   \n",
              "2                                              0.0   \n",
              "3                                              0.0   \n",
              "4                                              0.0   \n",
              "\n",
              "   Profilaxis (choice=Metotrexato (MTX))  \\\n",
              "0                                    0.0   \n",
              "1                                    0.0   \n",
              "2                                    0.0   \n",
              "3                                    0.0   \n",
              "4                                    0.0   \n",
              "\n",
              "   Profilaxis (choice=Micofelonato (MMF, MFN))  \\\n",
              "0                                          0.0   \n",
              "1                                          0.0   \n",
              "2                                          0.0   \n",
              "3                                          0.0   \n",
              "4                                          0.0   \n",
              "\n",
              "   Profilaxis (choice=Prednisona (PDN, Pred))  Profilaxis (choice=Rapamicina)  \\\n",
              "0                                         0.0                             0.0   \n",
              "1                                         0.0                             0.0   \n",
              "2                                         0.0                             0.0   \n",
              "3                                         0.0                             0.0   \n",
              "4                                         0.0                             0.0   \n",
              "\n",
              "   Profilaxis (choice=Tacrolimus (FK, FK506))  Profilaxis (choice=Otros)  \\\n",
              "0                                         0.0                        0.0   \n",
              "1                                         0.0                        0.0   \n",
              "2                                         0.0                        0.0   \n",
              "3                                         0.0                        0.0   \n",
              "4                                         0.0                        0.0   \n",
              "\n",
              "   recipient_age  \n",
              "0          10.29  \n",
              "1           2.79  \n",
              "2          16.88  \n",
              "3           2.55  \n",
              "4           5.53  \n",
              "\n",
              "[5 rows x 79 columns]"
            ],
            "text/html": [
              "\n",
              "\n",
              "  <div id=\"df-46e6beb8-a7cf-4bd4-a450-277ed0a0fb4c\">\n",
              "    <div class=\"colab-df-container\">\n",
              "      <div>\n",
              "<style scoped>\n",
              "    .dataframe tbody tr th:only-of-type {\n",
              "        vertical-align: middle;\n",
              "    }\n",
              "\n",
              "    .dataframe tbody tr th {\n",
              "        vertical-align: top;\n",
              "    }\n",
              "\n",
              "    .dataframe thead th {\n",
              "        text-align: right;\n",
              "    }\n",
              "</style>\n",
              "<table border=\"1\" class=\"dataframe\">\n",
              "  <thead>\n",
              "    <tr style=\"text-align: right;\">\n",
              "      <th></th>\n",
              "      <th>recipient_gender_female</th>\n",
              "      <th>recipient_gender_male</th>\n",
              "      <th>recipient_gender_nan</th>\n",
              "      <th>recipient_ABO_0</th>\n",
              "      <th>recipient_ABO_A</th>\n",
              "      <th>recipient_ABO_AB</th>\n",
              "      <th>recipient_ABO_B</th>\n",
              "      <th>recipient_ABO_nan</th>\n",
              "      <th>recipient_rh_minus</th>\n",
              "      <th>recipient_rh_plus</th>\n",
              "      <th>...</th>\n",
              "      <th>Profilaxis (choice=Ciclosporina (CsA))</th>\n",
              "      <th>Profilaxis (choice=Depleción de Linfocitos T (DLT))</th>\n",
              "      <th>Profilaxis (choice=Metilprednisolona (MP, MTP))</th>\n",
              "      <th>Profilaxis (choice=Metotrexato (MTX))</th>\n",
              "      <th>Profilaxis (choice=Micofelonato (MMF, MFN))</th>\n",
              "      <th>Profilaxis (choice=Prednisona (PDN, Pred))</th>\n",
              "      <th>Profilaxis (choice=Rapamicina)</th>\n",
              "      <th>Profilaxis (choice=Tacrolimus (FK, FK506))</th>\n",
              "      <th>Profilaxis (choice=Otros)</th>\n",
              "      <th>recipient_age</th>\n",
              "    </tr>\n",
              "  </thead>\n",
              "  <tbody>\n",
              "    <tr>\n",
              "      <th>0</th>\n",
              "      <td>0.0</td>\n",
              "      <td>1.0</td>\n",
              "      <td>0.0</td>\n",
              "      <td>1.0</td>\n",
              "      <td>0.0</td>\n",
              "      <td>0.0</td>\n",
              "      <td>0.0</td>\n",
              "      <td>0.0</td>\n",
              "      <td>0.0</td>\n",
              "      <td>1.0</td>\n",
              "      <td>...</td>\n",
              "      <td>1.0</td>\n",
              "      <td>0.0</td>\n",
              "      <td>0.0</td>\n",
              "      <td>0.0</td>\n",
              "      <td>0.0</td>\n",
              "      <td>0.0</td>\n",
              "      <td>0.0</td>\n",
              "      <td>0.0</td>\n",
              "      <td>0.0</td>\n",
              "      <td>10.29</td>\n",
              "    </tr>\n",
              "    <tr>\n",
              "      <th>1</th>\n",
              "      <td>0.0</td>\n",
              "      <td>1.0</td>\n",
              "      <td>0.0</td>\n",
              "      <td>0.0</td>\n",
              "      <td>1.0</td>\n",
              "      <td>0.0</td>\n",
              "      <td>0.0</td>\n",
              "      <td>0.0</td>\n",
              "      <td>0.0</td>\n",
              "      <td>1.0</td>\n",
              "      <td>...</td>\n",
              "      <td>1.0</td>\n",
              "      <td>0.0</td>\n",
              "      <td>0.0</td>\n",
              "      <td>0.0</td>\n",
              "      <td>0.0</td>\n",
              "      <td>0.0</td>\n",
              "      <td>0.0</td>\n",
              "      <td>0.0</td>\n",
              "      <td>0.0</td>\n",
              "      <td>2.79</td>\n",
              "    </tr>\n",
              "    <tr>\n",
              "      <th>2</th>\n",
              "      <td>0.0</td>\n",
              "      <td>1.0</td>\n",
              "      <td>0.0</td>\n",
              "      <td>1.0</td>\n",
              "      <td>0.0</td>\n",
              "      <td>0.0</td>\n",
              "      <td>0.0</td>\n",
              "      <td>0.0</td>\n",
              "      <td>0.0</td>\n",
              "      <td>1.0</td>\n",
              "      <td>...</td>\n",
              "      <td>1.0</td>\n",
              "      <td>0.0</td>\n",
              "      <td>0.0</td>\n",
              "      <td>0.0</td>\n",
              "      <td>0.0</td>\n",
              "      <td>0.0</td>\n",
              "      <td>0.0</td>\n",
              "      <td>0.0</td>\n",
              "      <td>0.0</td>\n",
              "      <td>16.88</td>\n",
              "    </tr>\n",
              "    <tr>\n",
              "      <th>3</th>\n",
              "      <td>0.0</td>\n",
              "      <td>1.0</td>\n",
              "      <td>0.0</td>\n",
              "      <td>1.0</td>\n",
              "      <td>0.0</td>\n",
              "      <td>0.0</td>\n",
              "      <td>0.0</td>\n",
              "      <td>0.0</td>\n",
              "      <td>0.0</td>\n",
              "      <td>1.0</td>\n",
              "      <td>...</td>\n",
              "      <td>1.0</td>\n",
              "      <td>0.0</td>\n",
              "      <td>0.0</td>\n",
              "      <td>0.0</td>\n",
              "      <td>0.0</td>\n",
              "      <td>0.0</td>\n",
              "      <td>0.0</td>\n",
              "      <td>0.0</td>\n",
              "      <td>0.0</td>\n",
              "      <td>2.55</td>\n",
              "    </tr>\n",
              "    <tr>\n",
              "      <th>4</th>\n",
              "      <td>1.0</td>\n",
              "      <td>0.0</td>\n",
              "      <td>0.0</td>\n",
              "      <td>1.0</td>\n",
              "      <td>0.0</td>\n",
              "      <td>0.0</td>\n",
              "      <td>0.0</td>\n",
              "      <td>0.0</td>\n",
              "      <td>0.0</td>\n",
              "      <td>1.0</td>\n",
              "      <td>...</td>\n",
              "      <td>1.0</td>\n",
              "      <td>0.0</td>\n",
              "      <td>0.0</td>\n",
              "      <td>0.0</td>\n",
              "      <td>0.0</td>\n",
              "      <td>0.0</td>\n",
              "      <td>0.0</td>\n",
              "      <td>0.0</td>\n",
              "      <td>0.0</td>\n",
              "      <td>5.53</td>\n",
              "    </tr>\n",
              "  </tbody>\n",
              "</table>\n",
              "<p>5 rows × 79 columns</p>\n",
              "</div>\n",
              "      <button class=\"colab-df-convert\" onclick=\"convertToInteractive('df-46e6beb8-a7cf-4bd4-a450-277ed0a0fb4c')\"\n",
              "              title=\"Convert this dataframe to an interactive table.\"\n",
              "              style=\"display:none;\">\n",
              "\n",
              "  <svg xmlns=\"http://www.w3.org/2000/svg\" height=\"24px\"viewBox=\"0 0 24 24\"\n",
              "       width=\"24px\">\n",
              "    <path d=\"M0 0h24v24H0V0z\" fill=\"none\"/>\n",
              "    <path d=\"M18.56 5.44l.94 2.06.94-2.06 2.06-.94-2.06-.94-.94-2.06-.94 2.06-2.06.94zm-11 1L8.5 8.5l.94-2.06 2.06-.94-2.06-.94L8.5 2.5l-.94 2.06-2.06.94zm10 10l.94 2.06.94-2.06 2.06-.94-2.06-.94-.94-2.06-.94 2.06-2.06.94z\"/><path d=\"M17.41 7.96l-1.37-1.37c-.4-.4-.92-.59-1.43-.59-.52 0-1.04.2-1.43.59L10.3 9.45l-7.72 7.72c-.78.78-.78 2.05 0 2.83L4 21.41c.39.39.9.59 1.41.59.51 0 1.02-.2 1.41-.59l7.78-7.78 2.81-2.81c.8-.78.8-2.07 0-2.86zM5.41 20L4 18.59l7.72-7.72 1.47 1.35L5.41 20z\"/>\n",
              "  </svg>\n",
              "      </button>\n",
              "\n",
              "\n",
              "\n",
              "    <div id=\"df-9a86a751-3828-4dcd-bcf9-31eae13ff60f\">\n",
              "      <button class=\"colab-df-quickchart\" onclick=\"quickchart('df-9a86a751-3828-4dcd-bcf9-31eae13ff60f')\"\n",
              "              title=\"Suggest charts.\"\n",
              "              style=\"display:none;\">\n",
              "\n",
              "<svg xmlns=\"http://www.w3.org/2000/svg\" height=\"24px\"viewBox=\"0 0 24 24\"\n",
              "     width=\"24px\">\n",
              "    <g>\n",
              "        <path d=\"M19 3H5c-1.1 0-2 .9-2 2v14c0 1.1.9 2 2 2h14c1.1 0 2-.9 2-2V5c0-1.1-.9-2-2-2zM9 17H7v-7h2v7zm4 0h-2V7h2v10zm4 0h-2v-4h2v4z\"/>\n",
              "    </g>\n",
              "</svg>\n",
              "      </button>\n",
              "    </div>\n",
              "\n",
              "<style>\n",
              "  .colab-df-quickchart {\n",
              "    background-color: #E8F0FE;\n",
              "    border: none;\n",
              "    border-radius: 50%;\n",
              "    cursor: pointer;\n",
              "    display: none;\n",
              "    fill: #1967D2;\n",
              "    height: 32px;\n",
              "    padding: 0 0 0 0;\n",
              "    width: 32px;\n",
              "  }\n",
              "\n",
              "  .colab-df-quickchart:hover {\n",
              "    background-color: #E2EBFA;\n",
              "    box-shadow: 0px 1px 2px rgba(60, 64, 67, 0.3), 0px 1px 3px 1px rgba(60, 64, 67, 0.15);\n",
              "    fill: #174EA6;\n",
              "  }\n",
              "\n",
              "  [theme=dark] .colab-df-quickchart {\n",
              "    background-color: #3B4455;\n",
              "    fill: #D2E3FC;\n",
              "  }\n",
              "\n",
              "  [theme=dark] .colab-df-quickchart:hover {\n",
              "    background-color: #434B5C;\n",
              "    box-shadow: 0px 1px 3px 1px rgba(0, 0, 0, 0.15);\n",
              "    filter: drop-shadow(0px 1px 2px rgba(0, 0, 0, 0.3));\n",
              "    fill: #FFFFFF;\n",
              "  }\n",
              "</style>\n",
              "\n",
              "    <script>\n",
              "      async function quickchart(key) {\n",
              "        const containerElement = document.querySelector('#' + key);\n",
              "        const charts = await google.colab.kernel.invokeFunction(\n",
              "            'suggestCharts', [key], {});\n",
              "      }\n",
              "    </script>\n",
              "\n",
              "      <script>\n",
              "\n",
              "function displayQuickchartButton(domScope) {\n",
              "  let quickchartButtonEl =\n",
              "    domScope.querySelector('#df-9a86a751-3828-4dcd-bcf9-31eae13ff60f button.colab-df-quickchart');\n",
              "  quickchartButtonEl.style.display =\n",
              "    google.colab.kernel.accessAllowed ? 'block' : 'none';\n",
              "}\n",
              "\n",
              "        displayQuickchartButton(document);\n",
              "      </script>\n",
              "      <style>\n",
              "    .colab-df-container {\n",
              "      display:flex;\n",
              "      flex-wrap:wrap;\n",
              "      gap: 12px;\n",
              "    }\n",
              "\n",
              "    .colab-df-convert {\n",
              "      background-color: #E8F0FE;\n",
              "      border: none;\n",
              "      border-radius: 50%;\n",
              "      cursor: pointer;\n",
              "      display: none;\n",
              "      fill: #1967D2;\n",
              "      height: 32px;\n",
              "      padding: 0 0 0 0;\n",
              "      width: 32px;\n",
              "    }\n",
              "\n",
              "    .colab-df-convert:hover {\n",
              "      background-color: #E2EBFA;\n",
              "      box-shadow: 0px 1px 2px rgba(60, 64, 67, 0.3), 0px 1px 3px 1px rgba(60, 64, 67, 0.15);\n",
              "      fill: #174EA6;\n",
              "    }\n",
              "\n",
              "    [theme=dark] .colab-df-convert {\n",
              "      background-color: #3B4455;\n",
              "      fill: #D2E3FC;\n",
              "    }\n",
              "\n",
              "    [theme=dark] .colab-df-convert:hover {\n",
              "      background-color: #434B5C;\n",
              "      box-shadow: 0px 1px 3px 1px rgba(0, 0, 0, 0.15);\n",
              "      filter: drop-shadow(0px 1px 2px rgba(0, 0, 0, 0.3));\n",
              "      fill: #FFFFFF;\n",
              "    }\n",
              "  </style>\n",
              "\n",
              "      <script>\n",
              "        const buttonEl =\n",
              "          document.querySelector('#df-46e6beb8-a7cf-4bd4-a450-277ed0a0fb4c button.colab-df-convert');\n",
              "        buttonEl.style.display =\n",
              "          google.colab.kernel.accessAllowed ? 'block' : 'none';\n",
              "\n",
              "        async function convertToInteractive(key) {\n",
              "          const element = document.querySelector('#df-46e6beb8-a7cf-4bd4-a450-277ed0a0fb4c');\n",
              "          const dataTable =\n",
              "            await google.colab.kernel.invokeFunction('convertToInteractive',\n",
              "                                                     [key], {});\n",
              "          if (!dataTable) return;\n",
              "\n",
              "          const docLinkHtml = 'Like what you see? Visit the ' +\n",
              "            '<a target=\"_blank\" href=https://colab.research.google.com/notebooks/data_table.ipynb>data table notebook</a>'\n",
              "            + ' to learn more about interactive tables.';\n",
              "          element.innerHTML = '';\n",
              "          dataTable['output_type'] = 'display_data';\n",
              "          await google.colab.output.renderOutput(dataTable, element);\n",
              "          const docLink = document.createElement('div');\n",
              "          docLink.innerHTML = docLinkHtml;\n",
              "          element.appendChild(docLink);\n",
              "        }\n",
              "      </script>\n",
              "    </div>\n",
              "  </div>\n"
            ]
          },
          "metadata": {},
          "execution_count": 27
        }
      ],
      "source": [
        "transformed_df.head()"
      ]
    },
    {
      "cell_type": "code",
      "source": [
        "print(transformed_df.columns.to_list())"
      ],
      "metadata": {
        "id": "JOy5MM1iYljG",
        "colab": {
          "base_uri": "https://localhost:8080/"
        },
        "outputId": "e07aa2df-e7af-4ec7-bf29-a4191f2b2bc5"
      },
      "execution_count": 28,
      "outputs": [
        {
          "output_type": "stream",
          "name": "stdout",
          "text": [
            "['recipient_gender_female', 'recipient_gender_male', 'recipient_gender_nan', 'recipient_ABO_0', 'recipient_ABO_A', 'recipient_ABO_AB', 'recipient_ABO_B', 'recipient_ABO_nan', 'recipient_rh_minus', 'recipient_rh_plus', 'recipient_rh_nan', 'recipient_CMV_absent', 'recipient_CMV_present', 'recipient_CMV_nan', 'disease_ALL', 'disease_AML', 'disease_Mielodisplasia', 'disease_SMD', 'disease_chronic', 'disease_nonmalignant', 'disease_group_malignant', 'disease_group_nonmalignant', 'disease_group_nan', 'Sexo Donante_Femenino', 'Sexo Donante_Masculino', 'Sexo Donante_nan', 'HLA_mismatch_matched', 'HLA_mismatch_mismatched', 'donor_ABO_0', 'donor_ABO_A', 'donor_ABO_AB', 'donor_ABO_B', 'donor_ABO_nan', 'donor_CMV_absent', 'donor_CMV_present', 'donor_CMV_nan', 'stem_cell_source_SCU', 'stem_cell_source_bone_marrow', 'stem_cell_source_peripheral_blood', 'stem_cell_source_nan', 'Segundo TPH', 'Presenta traslocación genética', 't(9;22)', '(11q23) anormales', 't(4;11)', 'Otras traslocaciones', 'Factor Rh1', 'CNT/Kg × 108', 'CMN/Kg × 108', 'CD34_x1e6_per_kg', 'Tiene segundo donante? ', 'Acondicionamiento (choice=Sin Acondicionamiento)', 'Acondicionamiento (choice=QMT)', 'Acondicionamiento (choice=RDT)', 'Acondicionamiento (choice=ILT)', 'Quimioterapia (choice=Antitimoglobulina (ATG))', 'Quimioterapia (choice=Citarabina)', 'Quimioterapia (choice=Busulfán (Bu))', 'Quimioterapia (choice=Fludarabina)', 'Quimioterapia (choice=Melfalán (Mel))', 'Quimioterapia (choice=Etoposido (Vp-16))', 'Quimioterapia (choice=Thiotepa)', 'Quimioterapia (choice=Carboplatino)', 'Quimioterapia (choice=Carmustina)', 'Quimioterapia (choice=Rituximab)', 'Quimioterapia (choice=Ciclofosfamida)', 'Quimioterapia (choice=Otros)', 'Profilaxis (choice=Antitimoglobulina (ATG))', 'Profilaxis (choice=Ciclofosfamida (CFM, CPM, Cy))', 'Profilaxis (choice=Ciclosporina (CsA))', 'Profilaxis (choice=Depleción de Linfocitos T (DLT))', 'Profilaxis (choice=Metilprednisolona (MP, MTP))', 'Profilaxis (choice=Metotrexato (MTX))', 'Profilaxis (choice=Micofelonato (MMF, MFN))', 'Profilaxis (choice=Prednisona (PDN, Pred))', 'Profilaxis (choice=Rapamicina)', 'Profilaxis (choice=Tacrolimus (FK, FK506))', 'Profilaxis (choice=Otros)', 'recipient_age']\n"
          ]
        }
      ]
    },
    {
      "cell_type": "code",
      "execution_count": 29,
      "metadata": {
        "id": "ljWrpnhWVWmH"
      },
      "outputs": [],
      "source": [
        "X=transformed_df.drop(['donor_ABO_nan', 'donor_CMV_nan','recipient_gender_nan','recipient_ABO_nan','recipient_rh_nan',\n",
        "                             'recipient_CMV_nan','disease_group_nan',\n",
        "                             'stem_cell_source_nan','Sexo Donante_nan'],axis=1)"
      ]
    },
    {
      "cell_type": "code",
      "source": [
        "X.shape"
      ],
      "metadata": {
        "id": "P7qbtRGQckY1",
        "colab": {
          "base_uri": "https://localhost:8080/"
        },
        "outputId": "b757d078-e0f2-4502-9472-e190157c9e90"
      },
      "execution_count": 30,
      "outputs": [
        {
          "output_type": "execute_result",
          "data": {
            "text/plain": [
              "(438, 70)"
            ]
          },
          "metadata": {},
          "execution_count": 30
        }
      ]
    },
    {
      "cell_type": "markdown",
      "metadata": {
        "id": "mp1euRJiTd97"
      },
      "source": [
        "##Imputatition"
      ]
    },
    {
      "cell_type": "code",
      "execution_count": 31,
      "metadata": {
        "id": "MvFjYVMTTdHU"
      },
      "outputs": [],
      "source": [
        "rf=RandomForestRegressor()\n",
        "lr=LinearRegression()\n",
        "imputer = IterativeImputer(estimator=rf,random_state=100, max_iter=30)"
      ]
    },
    {
      "cell_type": "code",
      "execution_count": 32,
      "metadata": {
        "id": "hznsltOrToaF"
      },
      "outputs": [],
      "source": [
        "df_train=X.loc[:, ['CD34_x1e6_per_kg',\"recipient_age\",\"CNT/Kg × 108\", \"CMN/Kg × 108\"]]"
      ]
    },
    {
      "cell_type": "code",
      "execution_count": 33,
      "metadata": {
        "id": "BFsu2-GxT6SM",
        "colab": {
          "base_uri": "https://localhost:8080/",
          "height": 208
        },
        "outputId": "2650ab6a-3f9e-4812-dad8-3832f581a347"
      },
      "outputs": [
        {
          "output_type": "stream",
          "name": "stderr",
          "text": [
            "/usr/local/lib/python3.10/dist-packages/sklearn/impute/_iterative.py:785: ConvergenceWarning: [IterativeImputer] Early stopping criterion not reached.\n",
            "  warnings.warn(\n"
          ]
        },
        {
          "output_type": "execute_result",
          "data": {
            "text/plain": [
              "IterativeImputer(estimator=RandomForestRegressor(), max_iter=30,\n",
              "                 random_state=100)"
            ],
            "text/html": [
              "<style>#sk-container-id-1 {color: black;background-color: white;}#sk-container-id-1 pre{padding: 0;}#sk-container-id-1 div.sk-toggleable {background-color: white;}#sk-container-id-1 label.sk-toggleable__label {cursor: pointer;display: block;width: 100%;margin-bottom: 0;padding: 0.3em;box-sizing: border-box;text-align: center;}#sk-container-id-1 label.sk-toggleable__label-arrow:before {content: \"▸\";float: left;margin-right: 0.25em;color: #696969;}#sk-container-id-1 label.sk-toggleable__label-arrow:hover:before {color: black;}#sk-container-id-1 div.sk-estimator:hover label.sk-toggleable__label-arrow:before {color: black;}#sk-container-id-1 div.sk-toggleable__content {max-height: 0;max-width: 0;overflow: hidden;text-align: left;background-color: #f0f8ff;}#sk-container-id-1 div.sk-toggleable__content pre {margin: 0.2em;color: black;border-radius: 0.25em;background-color: #f0f8ff;}#sk-container-id-1 input.sk-toggleable__control:checked~div.sk-toggleable__content {max-height: 200px;max-width: 100%;overflow: auto;}#sk-container-id-1 input.sk-toggleable__control:checked~label.sk-toggleable__label-arrow:before {content: \"▾\";}#sk-container-id-1 div.sk-estimator input.sk-toggleable__control:checked~label.sk-toggleable__label {background-color: #d4ebff;}#sk-container-id-1 div.sk-label input.sk-toggleable__control:checked~label.sk-toggleable__label {background-color: #d4ebff;}#sk-container-id-1 input.sk-hidden--visually {border: 0;clip: rect(1px 1px 1px 1px);clip: rect(1px, 1px, 1px, 1px);height: 1px;margin: -1px;overflow: hidden;padding: 0;position: absolute;width: 1px;}#sk-container-id-1 div.sk-estimator {font-family: monospace;background-color: #f0f8ff;border: 1px dotted black;border-radius: 0.25em;box-sizing: border-box;margin-bottom: 0.5em;}#sk-container-id-1 div.sk-estimator:hover {background-color: #d4ebff;}#sk-container-id-1 div.sk-parallel-item::after {content: \"\";width: 100%;border-bottom: 1px solid gray;flex-grow: 1;}#sk-container-id-1 div.sk-label:hover label.sk-toggleable__label {background-color: #d4ebff;}#sk-container-id-1 div.sk-serial::before {content: \"\";position: absolute;border-left: 1px solid gray;box-sizing: border-box;top: 0;bottom: 0;left: 50%;z-index: 0;}#sk-container-id-1 div.sk-serial {display: flex;flex-direction: column;align-items: center;background-color: white;padding-right: 0.2em;padding-left: 0.2em;position: relative;}#sk-container-id-1 div.sk-item {position: relative;z-index: 1;}#sk-container-id-1 div.sk-parallel {display: flex;align-items: stretch;justify-content: center;background-color: white;position: relative;}#sk-container-id-1 div.sk-item::before, #sk-container-id-1 div.sk-parallel-item::before {content: \"\";position: absolute;border-left: 1px solid gray;box-sizing: border-box;top: 0;bottom: 0;left: 50%;z-index: -1;}#sk-container-id-1 div.sk-parallel-item {display: flex;flex-direction: column;z-index: 1;position: relative;background-color: white;}#sk-container-id-1 div.sk-parallel-item:first-child::after {align-self: flex-end;width: 50%;}#sk-container-id-1 div.sk-parallel-item:last-child::after {align-self: flex-start;width: 50%;}#sk-container-id-1 div.sk-parallel-item:only-child::after {width: 0;}#sk-container-id-1 div.sk-dashed-wrapped {border: 1px dashed gray;margin: 0 0.4em 0.5em 0.4em;box-sizing: border-box;padding-bottom: 0.4em;background-color: white;}#sk-container-id-1 div.sk-label label {font-family: monospace;font-weight: bold;display: inline-block;line-height: 1.2em;}#sk-container-id-1 div.sk-label-container {text-align: center;}#sk-container-id-1 div.sk-container {/* jupyter's `normalize.less` sets `[hidden] { display: none; }` but bootstrap.min.css set `[hidden] { display: none !important; }` so we also need the `!important` here to be able to override the default hidden behavior on the sphinx rendered scikit-learn.org. See: https://github.com/scikit-learn/scikit-learn/issues/21755 */display: inline-block !important;position: relative;}#sk-container-id-1 div.sk-text-repr-fallback {display: none;}</style><div id=\"sk-container-id-1\" class=\"sk-top-container\"><div class=\"sk-text-repr-fallback\"><pre>IterativeImputer(estimator=RandomForestRegressor(), max_iter=30,\n",
              "                 random_state=100)</pre><b>In a Jupyter environment, please rerun this cell to show the HTML representation or trust the notebook. <br />On GitHub, the HTML representation is unable to render, please try loading this page with nbviewer.org.</b></div><div class=\"sk-container\" hidden><div class=\"sk-item sk-dashed-wrapped\"><div class=\"sk-label-container\"><div class=\"sk-label sk-toggleable\"><input class=\"sk-toggleable__control sk-hidden--visually\" id=\"sk-estimator-id-1\" type=\"checkbox\" ><label for=\"sk-estimator-id-1\" class=\"sk-toggleable__label sk-toggleable__label-arrow\">IterativeImputer</label><div class=\"sk-toggleable__content\"><pre>IterativeImputer(estimator=RandomForestRegressor(), max_iter=30,\n",
              "                 random_state=100)</pre></div></div></div><div class=\"sk-parallel\"><div class=\"sk-parallel-item\"><div class=\"sk-item\"><div class=\"sk-label-container\"><div class=\"sk-label sk-toggleable\"><input class=\"sk-toggleable__control sk-hidden--visually\" id=\"sk-estimator-id-2\" type=\"checkbox\" ><label for=\"sk-estimator-id-2\" class=\"sk-toggleable__label sk-toggleable__label-arrow\">estimator: RandomForestRegressor</label><div class=\"sk-toggleable__content\"><pre>RandomForestRegressor()</pre></div></div></div><div class=\"sk-serial\"><div class=\"sk-item\"><div class=\"sk-estimator sk-toggleable\"><input class=\"sk-toggleable__control sk-hidden--visually\" id=\"sk-estimator-id-3\" type=\"checkbox\" ><label for=\"sk-estimator-id-3\" class=\"sk-toggleable__label sk-toggleable__label-arrow\">RandomForestRegressor</label><div class=\"sk-toggleable__content\"><pre>RandomForestRegressor()</pre></div></div></div></div></div></div></div></div></div></div>"
            ]
          },
          "metadata": {},
          "execution_count": 33
        }
      ],
      "source": [
        "imputer.fit(df_train)"
      ]
    },
    {
      "cell_type": "code",
      "execution_count": 34,
      "metadata": {
        "id": "GEHcs_1ZT9ty"
      },
      "outputs": [],
      "source": [
        "df_imputed = imputer.transform(df_train)"
      ]
    },
    {
      "cell_type": "code",
      "execution_count": 35,
      "metadata": {
        "id": "LVR7AIFzUCgo"
      },
      "outputs": [],
      "source": [
        "X.loc[:, ['CD34_x1e6_per_kg',\"recipient_age\",\"CNT/Kg × 108\", \"CMN/Kg × 108\"]]=df_imputed"
      ]
    },
    {
      "cell_type": "code",
      "execution_count": 36,
      "metadata": {
        "id": "gpSisOG1UJZ8",
        "colab": {
          "base_uri": "https://localhost:8080/",
          "height": 396
        },
        "outputId": "340a62cd-a12f-47c2-bb6a-cf82dbc95871"
      },
      "outputs": [
        {
          "output_type": "execute_result",
          "data": {
            "text/plain": [
              "   recipient_gender_female  recipient_gender_male  recipient_ABO_0  \\\n",
              "0                      0.0                    1.0              1.0   \n",
              "1                      0.0                    1.0              0.0   \n",
              "2                      0.0                    1.0              1.0   \n",
              "3                      0.0                    1.0              1.0   \n",
              "4                      1.0                    0.0              1.0   \n",
              "\n",
              "   recipient_ABO_A  recipient_ABO_AB  recipient_ABO_B  recipient_rh_minus  \\\n",
              "0              0.0               0.0              0.0                 0.0   \n",
              "1              1.0               0.0              0.0                 0.0   \n",
              "2              0.0               0.0              0.0                 0.0   \n",
              "3              0.0               0.0              0.0                 0.0   \n",
              "4              0.0               0.0              0.0                 0.0   \n",
              "\n",
              "   recipient_rh_plus  recipient_CMV_absent  recipient_CMV_present  ...  \\\n",
              "0                1.0                   1.0                    0.0  ...   \n",
              "1                1.0                   0.0                    1.0  ...   \n",
              "2                1.0                   0.0                    1.0  ...   \n",
              "3                1.0                   1.0                    0.0  ...   \n",
              "4                1.0                   0.0                    1.0  ...   \n",
              "\n",
              "   Profilaxis (choice=Ciclosporina (CsA))  \\\n",
              "0                                     1.0   \n",
              "1                                     1.0   \n",
              "2                                     1.0   \n",
              "3                                     1.0   \n",
              "4                                     1.0   \n",
              "\n",
              "   Profilaxis (choice=Depleción de Linfocitos T (DLT))  \\\n",
              "0                                                0.0     \n",
              "1                                                0.0     \n",
              "2                                                0.0     \n",
              "3                                                0.0     \n",
              "4                                                0.0     \n",
              "\n",
              "   Profilaxis (choice=Metilprednisolona (MP, MTP))  \\\n",
              "0                                              0.0   \n",
              "1                                              0.0   \n",
              "2                                              0.0   \n",
              "3                                              0.0   \n",
              "4                                              0.0   \n",
              "\n",
              "   Profilaxis (choice=Metotrexato (MTX))  \\\n",
              "0                                    0.0   \n",
              "1                                    0.0   \n",
              "2                                    0.0   \n",
              "3                                    0.0   \n",
              "4                                    0.0   \n",
              "\n",
              "   Profilaxis (choice=Micofelonato (MMF, MFN))  \\\n",
              "0                                          0.0   \n",
              "1                                          0.0   \n",
              "2                                          0.0   \n",
              "3                                          0.0   \n",
              "4                                          0.0   \n",
              "\n",
              "   Profilaxis (choice=Prednisona (PDN, Pred))  Profilaxis (choice=Rapamicina)  \\\n",
              "0                                         0.0                             0.0   \n",
              "1                                         0.0                             0.0   \n",
              "2                                         0.0                             0.0   \n",
              "3                                         0.0                             0.0   \n",
              "4                                         0.0                             0.0   \n",
              "\n",
              "   Profilaxis (choice=Tacrolimus (FK, FK506))  Profilaxis (choice=Otros)  \\\n",
              "0                                         0.0                        0.0   \n",
              "1                                         0.0                        0.0   \n",
              "2                                         0.0                        0.0   \n",
              "3                                         0.0                        0.0   \n",
              "4                                         0.0                        0.0   \n",
              "\n",
              "   recipient_age  \n",
              "0          10.29  \n",
              "1           2.79  \n",
              "2          16.88  \n",
              "3           2.55  \n",
              "4           5.53  \n",
              "\n",
              "[5 rows x 70 columns]"
            ],
            "text/html": [
              "\n",
              "\n",
              "  <div id=\"df-eed0df2f-a219-42e1-bf52-81b3de944aef\">\n",
              "    <div class=\"colab-df-container\">\n",
              "      <div>\n",
              "<style scoped>\n",
              "    .dataframe tbody tr th:only-of-type {\n",
              "        vertical-align: middle;\n",
              "    }\n",
              "\n",
              "    .dataframe tbody tr th {\n",
              "        vertical-align: top;\n",
              "    }\n",
              "\n",
              "    .dataframe thead th {\n",
              "        text-align: right;\n",
              "    }\n",
              "</style>\n",
              "<table border=\"1\" class=\"dataframe\">\n",
              "  <thead>\n",
              "    <tr style=\"text-align: right;\">\n",
              "      <th></th>\n",
              "      <th>recipient_gender_female</th>\n",
              "      <th>recipient_gender_male</th>\n",
              "      <th>recipient_ABO_0</th>\n",
              "      <th>recipient_ABO_A</th>\n",
              "      <th>recipient_ABO_AB</th>\n",
              "      <th>recipient_ABO_B</th>\n",
              "      <th>recipient_rh_minus</th>\n",
              "      <th>recipient_rh_plus</th>\n",
              "      <th>recipient_CMV_absent</th>\n",
              "      <th>recipient_CMV_present</th>\n",
              "      <th>...</th>\n",
              "      <th>Profilaxis (choice=Ciclosporina (CsA))</th>\n",
              "      <th>Profilaxis (choice=Depleción de Linfocitos T (DLT))</th>\n",
              "      <th>Profilaxis (choice=Metilprednisolona (MP, MTP))</th>\n",
              "      <th>Profilaxis (choice=Metotrexato (MTX))</th>\n",
              "      <th>Profilaxis (choice=Micofelonato (MMF, MFN))</th>\n",
              "      <th>Profilaxis (choice=Prednisona (PDN, Pred))</th>\n",
              "      <th>Profilaxis (choice=Rapamicina)</th>\n",
              "      <th>Profilaxis (choice=Tacrolimus (FK, FK506))</th>\n",
              "      <th>Profilaxis (choice=Otros)</th>\n",
              "      <th>recipient_age</th>\n",
              "    </tr>\n",
              "  </thead>\n",
              "  <tbody>\n",
              "    <tr>\n",
              "      <th>0</th>\n",
              "      <td>0.0</td>\n",
              "      <td>1.0</td>\n",
              "      <td>1.0</td>\n",
              "      <td>0.0</td>\n",
              "      <td>0.0</td>\n",
              "      <td>0.0</td>\n",
              "      <td>0.0</td>\n",
              "      <td>1.0</td>\n",
              "      <td>1.0</td>\n",
              "      <td>0.0</td>\n",
              "      <td>...</td>\n",
              "      <td>1.0</td>\n",
              "      <td>0.0</td>\n",
              "      <td>0.0</td>\n",
              "      <td>0.0</td>\n",
              "      <td>0.0</td>\n",
              "      <td>0.0</td>\n",
              "      <td>0.0</td>\n",
              "      <td>0.0</td>\n",
              "      <td>0.0</td>\n",
              "      <td>10.29</td>\n",
              "    </tr>\n",
              "    <tr>\n",
              "      <th>1</th>\n",
              "      <td>0.0</td>\n",
              "      <td>1.0</td>\n",
              "      <td>0.0</td>\n",
              "      <td>1.0</td>\n",
              "      <td>0.0</td>\n",
              "      <td>0.0</td>\n",
              "      <td>0.0</td>\n",
              "      <td>1.0</td>\n",
              "      <td>0.0</td>\n",
              "      <td>1.0</td>\n",
              "      <td>...</td>\n",
              "      <td>1.0</td>\n",
              "      <td>0.0</td>\n",
              "      <td>0.0</td>\n",
              "      <td>0.0</td>\n",
              "      <td>0.0</td>\n",
              "      <td>0.0</td>\n",
              "      <td>0.0</td>\n",
              "      <td>0.0</td>\n",
              "      <td>0.0</td>\n",
              "      <td>2.79</td>\n",
              "    </tr>\n",
              "    <tr>\n",
              "      <th>2</th>\n",
              "      <td>0.0</td>\n",
              "      <td>1.0</td>\n",
              "      <td>1.0</td>\n",
              "      <td>0.0</td>\n",
              "      <td>0.0</td>\n",
              "      <td>0.0</td>\n",
              "      <td>0.0</td>\n",
              "      <td>1.0</td>\n",
              "      <td>0.0</td>\n",
              "      <td>1.0</td>\n",
              "      <td>...</td>\n",
              "      <td>1.0</td>\n",
              "      <td>0.0</td>\n",
              "      <td>0.0</td>\n",
              "      <td>0.0</td>\n",
              "      <td>0.0</td>\n",
              "      <td>0.0</td>\n",
              "      <td>0.0</td>\n",
              "      <td>0.0</td>\n",
              "      <td>0.0</td>\n",
              "      <td>16.88</td>\n",
              "    </tr>\n",
              "    <tr>\n",
              "      <th>3</th>\n",
              "      <td>0.0</td>\n",
              "      <td>1.0</td>\n",
              "      <td>1.0</td>\n",
              "      <td>0.0</td>\n",
              "      <td>0.0</td>\n",
              "      <td>0.0</td>\n",
              "      <td>0.0</td>\n",
              "      <td>1.0</td>\n",
              "      <td>1.0</td>\n",
              "      <td>0.0</td>\n",
              "      <td>...</td>\n",
              "      <td>1.0</td>\n",
              "      <td>0.0</td>\n",
              "      <td>0.0</td>\n",
              "      <td>0.0</td>\n",
              "      <td>0.0</td>\n",
              "      <td>0.0</td>\n",
              "      <td>0.0</td>\n",
              "      <td>0.0</td>\n",
              "      <td>0.0</td>\n",
              "      <td>2.55</td>\n",
              "    </tr>\n",
              "    <tr>\n",
              "      <th>4</th>\n",
              "      <td>1.0</td>\n",
              "      <td>0.0</td>\n",
              "      <td>1.0</td>\n",
              "      <td>0.0</td>\n",
              "      <td>0.0</td>\n",
              "      <td>0.0</td>\n",
              "      <td>0.0</td>\n",
              "      <td>1.0</td>\n",
              "      <td>0.0</td>\n",
              "      <td>1.0</td>\n",
              "      <td>...</td>\n",
              "      <td>1.0</td>\n",
              "      <td>0.0</td>\n",
              "      <td>0.0</td>\n",
              "      <td>0.0</td>\n",
              "      <td>0.0</td>\n",
              "      <td>0.0</td>\n",
              "      <td>0.0</td>\n",
              "      <td>0.0</td>\n",
              "      <td>0.0</td>\n",
              "      <td>5.53</td>\n",
              "    </tr>\n",
              "  </tbody>\n",
              "</table>\n",
              "<p>5 rows × 70 columns</p>\n",
              "</div>\n",
              "      <button class=\"colab-df-convert\" onclick=\"convertToInteractive('df-eed0df2f-a219-42e1-bf52-81b3de944aef')\"\n",
              "              title=\"Convert this dataframe to an interactive table.\"\n",
              "              style=\"display:none;\">\n",
              "\n",
              "  <svg xmlns=\"http://www.w3.org/2000/svg\" height=\"24px\"viewBox=\"0 0 24 24\"\n",
              "       width=\"24px\">\n",
              "    <path d=\"M0 0h24v24H0V0z\" fill=\"none\"/>\n",
              "    <path d=\"M18.56 5.44l.94 2.06.94-2.06 2.06-.94-2.06-.94-.94-2.06-.94 2.06-2.06.94zm-11 1L8.5 8.5l.94-2.06 2.06-.94-2.06-.94L8.5 2.5l-.94 2.06-2.06.94zm10 10l.94 2.06.94-2.06 2.06-.94-2.06-.94-.94-2.06-.94 2.06-2.06.94z\"/><path d=\"M17.41 7.96l-1.37-1.37c-.4-.4-.92-.59-1.43-.59-.52 0-1.04.2-1.43.59L10.3 9.45l-7.72 7.72c-.78.78-.78 2.05 0 2.83L4 21.41c.39.39.9.59 1.41.59.51 0 1.02-.2 1.41-.59l7.78-7.78 2.81-2.81c.8-.78.8-2.07 0-2.86zM5.41 20L4 18.59l7.72-7.72 1.47 1.35L5.41 20z\"/>\n",
              "  </svg>\n",
              "      </button>\n",
              "\n",
              "\n",
              "\n",
              "    <div id=\"df-c051f2ef-4680-458e-be90-f40e966fd663\">\n",
              "      <button class=\"colab-df-quickchart\" onclick=\"quickchart('df-c051f2ef-4680-458e-be90-f40e966fd663')\"\n",
              "              title=\"Suggest charts.\"\n",
              "              style=\"display:none;\">\n",
              "\n",
              "<svg xmlns=\"http://www.w3.org/2000/svg\" height=\"24px\"viewBox=\"0 0 24 24\"\n",
              "     width=\"24px\">\n",
              "    <g>\n",
              "        <path d=\"M19 3H5c-1.1 0-2 .9-2 2v14c0 1.1.9 2 2 2h14c1.1 0 2-.9 2-2V5c0-1.1-.9-2-2-2zM9 17H7v-7h2v7zm4 0h-2V7h2v10zm4 0h-2v-4h2v4z\"/>\n",
              "    </g>\n",
              "</svg>\n",
              "      </button>\n",
              "    </div>\n",
              "\n",
              "<style>\n",
              "  .colab-df-quickchart {\n",
              "    background-color: #E8F0FE;\n",
              "    border: none;\n",
              "    border-radius: 50%;\n",
              "    cursor: pointer;\n",
              "    display: none;\n",
              "    fill: #1967D2;\n",
              "    height: 32px;\n",
              "    padding: 0 0 0 0;\n",
              "    width: 32px;\n",
              "  }\n",
              "\n",
              "  .colab-df-quickchart:hover {\n",
              "    background-color: #E2EBFA;\n",
              "    box-shadow: 0px 1px 2px rgba(60, 64, 67, 0.3), 0px 1px 3px 1px rgba(60, 64, 67, 0.15);\n",
              "    fill: #174EA6;\n",
              "  }\n",
              "\n",
              "  [theme=dark] .colab-df-quickchart {\n",
              "    background-color: #3B4455;\n",
              "    fill: #D2E3FC;\n",
              "  }\n",
              "\n",
              "  [theme=dark] .colab-df-quickchart:hover {\n",
              "    background-color: #434B5C;\n",
              "    box-shadow: 0px 1px 3px 1px rgba(0, 0, 0, 0.15);\n",
              "    filter: drop-shadow(0px 1px 2px rgba(0, 0, 0, 0.3));\n",
              "    fill: #FFFFFF;\n",
              "  }\n",
              "</style>\n",
              "\n",
              "    <script>\n",
              "      async function quickchart(key) {\n",
              "        const containerElement = document.querySelector('#' + key);\n",
              "        const charts = await google.colab.kernel.invokeFunction(\n",
              "            'suggestCharts', [key], {});\n",
              "      }\n",
              "    </script>\n",
              "\n",
              "      <script>\n",
              "\n",
              "function displayQuickchartButton(domScope) {\n",
              "  let quickchartButtonEl =\n",
              "    domScope.querySelector('#df-c051f2ef-4680-458e-be90-f40e966fd663 button.colab-df-quickchart');\n",
              "  quickchartButtonEl.style.display =\n",
              "    google.colab.kernel.accessAllowed ? 'block' : 'none';\n",
              "}\n",
              "\n",
              "        displayQuickchartButton(document);\n",
              "      </script>\n",
              "      <style>\n",
              "    .colab-df-container {\n",
              "      display:flex;\n",
              "      flex-wrap:wrap;\n",
              "      gap: 12px;\n",
              "    }\n",
              "\n",
              "    .colab-df-convert {\n",
              "      background-color: #E8F0FE;\n",
              "      border: none;\n",
              "      border-radius: 50%;\n",
              "      cursor: pointer;\n",
              "      display: none;\n",
              "      fill: #1967D2;\n",
              "      height: 32px;\n",
              "      padding: 0 0 0 0;\n",
              "      width: 32px;\n",
              "    }\n",
              "\n",
              "    .colab-df-convert:hover {\n",
              "      background-color: #E2EBFA;\n",
              "      box-shadow: 0px 1px 2px rgba(60, 64, 67, 0.3), 0px 1px 3px 1px rgba(60, 64, 67, 0.15);\n",
              "      fill: #174EA6;\n",
              "    }\n",
              "\n",
              "    [theme=dark] .colab-df-convert {\n",
              "      background-color: #3B4455;\n",
              "      fill: #D2E3FC;\n",
              "    }\n",
              "\n",
              "    [theme=dark] .colab-df-convert:hover {\n",
              "      background-color: #434B5C;\n",
              "      box-shadow: 0px 1px 3px 1px rgba(0, 0, 0, 0.15);\n",
              "      filter: drop-shadow(0px 1px 2px rgba(0, 0, 0, 0.3));\n",
              "      fill: #FFFFFF;\n",
              "    }\n",
              "  </style>\n",
              "\n",
              "      <script>\n",
              "        const buttonEl =\n",
              "          document.querySelector('#df-eed0df2f-a219-42e1-bf52-81b3de944aef button.colab-df-convert');\n",
              "        buttonEl.style.display =\n",
              "          google.colab.kernel.accessAllowed ? 'block' : 'none';\n",
              "\n",
              "        async function convertToInteractive(key) {\n",
              "          const element = document.querySelector('#df-eed0df2f-a219-42e1-bf52-81b3de944aef');\n",
              "          const dataTable =\n",
              "            await google.colab.kernel.invokeFunction('convertToInteractive',\n",
              "                                                     [key], {});\n",
              "          if (!dataTable) return;\n",
              "\n",
              "          const docLinkHtml = 'Like what you see? Visit the ' +\n",
              "            '<a target=\"_blank\" href=https://colab.research.google.com/notebooks/data_table.ipynb>data table notebook</a>'\n",
              "            + ' to learn more about interactive tables.';\n",
              "          element.innerHTML = '';\n",
              "          dataTable['output_type'] = 'display_data';\n",
              "          await google.colab.output.renderOutput(dataTable, element);\n",
              "          const docLink = document.createElement('div');\n",
              "          docLink.innerHTML = docLinkHtml;\n",
              "          element.appendChild(docLink);\n",
              "        }\n",
              "      </script>\n",
              "    </div>\n",
              "  </div>\n"
            ]
          },
          "metadata": {},
          "execution_count": 36
        }
      ],
      "source": [
        "X.head()"
      ]
    },
    {
      "cell_type": "code",
      "execution_count": 37,
      "metadata": {
        "id": "-U_HxmoaUPZo"
      },
      "outputs": [],
      "source": [
        "rfc=RandomForestClassifier(random_state=0)\n",
        "lgr=LogisticRegression()\n",
        "imputerbinary = IterativeImputer(estimator=rfc,random_state=100, max_iter=15)"
      ]
    },
    {
      "cell_type": "code",
      "execution_count": 38,
      "metadata": {
        "id": "KwzFLKxxUTya"
      },
      "outputs": [],
      "source": [
        "xtemp=X.drop( ['CD34_x1e6_per_kg',\"recipient_age\",\"CNT/Kg × 108\", \"CMN/Kg × 108\"],axis=1)\n",
        "binarycols=xtemp.columns.to_list()\n",
        "df_train_binary=xtemp"
      ]
    },
    {
      "cell_type": "code",
      "execution_count": 39,
      "metadata": {
        "id": "3BZkyzGIUhIZ",
        "colab": {
          "base_uri": "https://localhost:8080/",
          "height": 172
        },
        "outputId": "cd0430f0-baab-4093-b256-edaac8c6daab"
      },
      "outputs": [
        {
          "output_type": "execute_result",
          "data": {
            "text/plain": [
              "IterativeImputer(estimator=RandomForestClassifier(random_state=0), max_iter=15,\n",
              "                 random_state=100)"
            ],
            "text/html": [
              "<style>#sk-container-id-2 {color: black;background-color: white;}#sk-container-id-2 pre{padding: 0;}#sk-container-id-2 div.sk-toggleable {background-color: white;}#sk-container-id-2 label.sk-toggleable__label {cursor: pointer;display: block;width: 100%;margin-bottom: 0;padding: 0.3em;box-sizing: border-box;text-align: center;}#sk-container-id-2 label.sk-toggleable__label-arrow:before {content: \"▸\";float: left;margin-right: 0.25em;color: #696969;}#sk-container-id-2 label.sk-toggleable__label-arrow:hover:before {color: black;}#sk-container-id-2 div.sk-estimator:hover label.sk-toggleable__label-arrow:before {color: black;}#sk-container-id-2 div.sk-toggleable__content {max-height: 0;max-width: 0;overflow: hidden;text-align: left;background-color: #f0f8ff;}#sk-container-id-2 div.sk-toggleable__content pre {margin: 0.2em;color: black;border-radius: 0.25em;background-color: #f0f8ff;}#sk-container-id-2 input.sk-toggleable__control:checked~div.sk-toggleable__content {max-height: 200px;max-width: 100%;overflow: auto;}#sk-container-id-2 input.sk-toggleable__control:checked~label.sk-toggleable__label-arrow:before {content: \"▾\";}#sk-container-id-2 div.sk-estimator input.sk-toggleable__control:checked~label.sk-toggleable__label {background-color: #d4ebff;}#sk-container-id-2 div.sk-label input.sk-toggleable__control:checked~label.sk-toggleable__label {background-color: #d4ebff;}#sk-container-id-2 input.sk-hidden--visually {border: 0;clip: rect(1px 1px 1px 1px);clip: rect(1px, 1px, 1px, 1px);height: 1px;margin: -1px;overflow: hidden;padding: 0;position: absolute;width: 1px;}#sk-container-id-2 div.sk-estimator {font-family: monospace;background-color: #f0f8ff;border: 1px dotted black;border-radius: 0.25em;box-sizing: border-box;margin-bottom: 0.5em;}#sk-container-id-2 div.sk-estimator:hover {background-color: #d4ebff;}#sk-container-id-2 div.sk-parallel-item::after {content: \"\";width: 100%;border-bottom: 1px solid gray;flex-grow: 1;}#sk-container-id-2 div.sk-label:hover label.sk-toggleable__label {background-color: #d4ebff;}#sk-container-id-2 div.sk-serial::before {content: \"\";position: absolute;border-left: 1px solid gray;box-sizing: border-box;top: 0;bottom: 0;left: 50%;z-index: 0;}#sk-container-id-2 div.sk-serial {display: flex;flex-direction: column;align-items: center;background-color: white;padding-right: 0.2em;padding-left: 0.2em;position: relative;}#sk-container-id-2 div.sk-item {position: relative;z-index: 1;}#sk-container-id-2 div.sk-parallel {display: flex;align-items: stretch;justify-content: center;background-color: white;position: relative;}#sk-container-id-2 div.sk-item::before, #sk-container-id-2 div.sk-parallel-item::before {content: \"\";position: absolute;border-left: 1px solid gray;box-sizing: border-box;top: 0;bottom: 0;left: 50%;z-index: -1;}#sk-container-id-2 div.sk-parallel-item {display: flex;flex-direction: column;z-index: 1;position: relative;background-color: white;}#sk-container-id-2 div.sk-parallel-item:first-child::after {align-self: flex-end;width: 50%;}#sk-container-id-2 div.sk-parallel-item:last-child::after {align-self: flex-start;width: 50%;}#sk-container-id-2 div.sk-parallel-item:only-child::after {width: 0;}#sk-container-id-2 div.sk-dashed-wrapped {border: 1px dashed gray;margin: 0 0.4em 0.5em 0.4em;box-sizing: border-box;padding-bottom: 0.4em;background-color: white;}#sk-container-id-2 div.sk-label label {font-family: monospace;font-weight: bold;display: inline-block;line-height: 1.2em;}#sk-container-id-2 div.sk-label-container {text-align: center;}#sk-container-id-2 div.sk-container {/* jupyter's `normalize.less` sets `[hidden] { display: none; }` but bootstrap.min.css set `[hidden] { display: none !important; }` so we also need the `!important` here to be able to override the default hidden behavior on the sphinx rendered scikit-learn.org. See: https://github.com/scikit-learn/scikit-learn/issues/21755 */display: inline-block !important;position: relative;}#sk-container-id-2 div.sk-text-repr-fallback {display: none;}</style><div id=\"sk-container-id-2\" class=\"sk-top-container\"><div class=\"sk-text-repr-fallback\"><pre>IterativeImputer(estimator=RandomForestClassifier(random_state=0), max_iter=15,\n",
              "                 random_state=100)</pre><b>In a Jupyter environment, please rerun this cell to show the HTML representation or trust the notebook. <br />On GitHub, the HTML representation is unable to render, please try loading this page with nbviewer.org.</b></div><div class=\"sk-container\" hidden><div class=\"sk-item sk-dashed-wrapped\"><div class=\"sk-label-container\"><div class=\"sk-label sk-toggleable\"><input class=\"sk-toggleable__control sk-hidden--visually\" id=\"sk-estimator-id-4\" type=\"checkbox\" ><label for=\"sk-estimator-id-4\" class=\"sk-toggleable__label sk-toggleable__label-arrow\">IterativeImputer</label><div class=\"sk-toggleable__content\"><pre>IterativeImputer(estimator=RandomForestClassifier(random_state=0), max_iter=15,\n",
              "                 random_state=100)</pre></div></div></div><div class=\"sk-parallel\"><div class=\"sk-parallel-item\"><div class=\"sk-item\"><div class=\"sk-label-container\"><div class=\"sk-label sk-toggleable\"><input class=\"sk-toggleable__control sk-hidden--visually\" id=\"sk-estimator-id-5\" type=\"checkbox\" ><label for=\"sk-estimator-id-5\" class=\"sk-toggleable__label sk-toggleable__label-arrow\">estimator: RandomForestClassifier</label><div class=\"sk-toggleable__content\"><pre>RandomForestClassifier(random_state=0)</pre></div></div></div><div class=\"sk-serial\"><div class=\"sk-item\"><div class=\"sk-estimator sk-toggleable\"><input class=\"sk-toggleable__control sk-hidden--visually\" id=\"sk-estimator-id-6\" type=\"checkbox\" ><label for=\"sk-estimator-id-6\" class=\"sk-toggleable__label sk-toggleable__label-arrow\">RandomForestClassifier</label><div class=\"sk-toggleable__content\"><pre>RandomForestClassifier(random_state=0)</pre></div></div></div></div></div></div></div></div></div></div>"
            ]
          },
          "metadata": {},
          "execution_count": 39
        }
      ],
      "source": [
        "imputerbinary.fit(df_train_binary)"
      ]
    },
    {
      "cell_type": "code",
      "execution_count": 40,
      "metadata": {
        "id": "bWb9b7ZvUsdp"
      },
      "outputs": [],
      "source": [
        "df_imputed_binary = imputerbinary.transform(df_train_binary)"
      ]
    },
    {
      "cell_type": "code",
      "execution_count": 41,
      "metadata": {
        "id": "TzqNnE-QUmZC"
      },
      "outputs": [],
      "source": [
        "X[binarycols]=df_imputed_binary"
      ]
    },
    {
      "cell_type": "code",
      "execution_count": 42,
      "metadata": {
        "id": "JkUpRFV4UyRu",
        "colab": {
          "base_uri": "https://localhost:8080/"
        },
        "outputId": "6d3e7f2a-2da8-4184-dcb8-6bf21a9bc818"
      },
      "outputs": [
        {
          "output_type": "stream",
          "name": "stdout",
          "text": [
            "recipient_gender_female                       0\n",
            "recipient_gender_male                         0\n",
            "recipient_ABO_0                               0\n",
            "recipient_ABO_A                               0\n",
            "recipient_ABO_AB                              0\n",
            "                                             ..\n",
            "Profilaxis (choice=Prednisona (PDN, Pred))    0\n",
            "Profilaxis (choice=Rapamicina)                0\n",
            "Profilaxis (choice=Tacrolimus (FK, FK506))    0\n",
            "Profilaxis (choice=Otros)                     0\n",
            "recipient_age                                 0\n",
            "Length: 70, dtype: int64\n"
          ]
        }
      ],
      "source": [
        "print(X.isnull().sum())"
      ]
    },
    {
      "cell_type": "markdown",
      "metadata": {
        "id": "rgxUr-S_A0g8"
      },
      "source": [
        "#Splitting test and train sets"
      ]
    },
    {
      "cell_type": "code",
      "execution_count": 43,
      "metadata": {
        "id": "2X6Vopl4A6pr"
      },
      "outputs": [],
      "source": [
        "X_train, X_test, y_train, y_test = train_test_split(X, y, test_size=0.20, random_state=16,stratify=y)"
      ]
    },
    {
      "cell_type": "code",
      "source": [
        "X_train, X_val, y_train, y_val = train_test_split(X_train, y_train, test_size=0.25, random_state=16,stratify=y_train) # 0.25 x 0.8 = 0.2"
      ],
      "metadata": {
        "id": "vLkxfcXZEPUB"
      },
      "execution_count": 44,
      "outputs": []
    },
    {
      "cell_type": "code",
      "source": [
        "X_train.shape"
      ],
      "metadata": {
        "id": "LpAE2b04Uls1",
        "colab": {
          "base_uri": "https://localhost:8080/"
        },
        "outputId": "60bfc3b3-bd14-4560-f36b-c286e5839ac2"
      },
      "execution_count": 45,
      "outputs": [
        {
          "output_type": "execute_result",
          "data": {
            "text/plain": [
              "(262, 70)"
            ]
          },
          "metadata": {},
          "execution_count": 45
        }
      ]
    },
    {
      "cell_type": "code",
      "execution_count": 46,
      "metadata": {
        "id": "2-sLdXglBV8K",
        "colab": {
          "base_uri": "https://localhost:8080/"
        },
        "outputId": "7e0addb4-e821-461b-83da-4732b09d50cf"
      },
      "outputs": [
        {
          "output_type": "stream",
          "name": "stdout",
          "text": [
            "Partición de entrenamento\n",
            "-----------------------\n",
            "count    262.000000\n",
            "mean       0.675573\n",
            "std        0.469057\n",
            "min        0.000000\n",
            "25%        0.000000\n",
            "50%        1.000000\n",
            "75%        1.000000\n",
            "max        1.000000\n",
            "Name: acute_GvHD_II_III_IV, dtype: float64\n"
          ]
        }
      ],
      "source": [
        "print(\"Partición de entrenamento\")\n",
        "print(\"-----------------------\")\n",
        "print(y_train.describe())"
      ]
    },
    {
      "cell_type": "code",
      "execution_count": 47,
      "metadata": {
        "id": "2syrPF99BX6a",
        "colab": {
          "base_uri": "https://localhost:8080/"
        },
        "outputId": "8f2a4dcb-d40c-4544-d1d4-1be2332fe2e5"
      },
      "outputs": [
        {
          "output_type": "stream",
          "name": "stdout",
          "text": [
            "Partición de test\n",
            "-----------------------\n",
            "count    88.000000\n",
            "mean      0.670455\n",
            "std       0.472742\n",
            "min       0.000000\n",
            "25%       0.000000\n",
            "50%       1.000000\n",
            "75%       1.000000\n",
            "max       1.000000\n",
            "Name: acute_GvHD_II_III_IV, dtype: float64\n"
          ]
        }
      ],
      "source": [
        "print(\"Partición de test\")\n",
        "print(\"-----------------------\")\n",
        "print(y_test.describe())"
      ]
    },
    {
      "cell_type": "code",
      "execution_count": 48,
      "metadata": {
        "id": "oSoU4NDDMFG2"
      },
      "outputs": [],
      "source": [
        "scaler = StandardScaler()\n",
        "X_train = scaler.fit_transform(X_train)\n",
        "X_test = scaler.transform(X_test)\n",
        "X_val = scaler.fit_transform(X_val)"
      ]
    },
    {
      "cell_type": "code",
      "execution_count": 49,
      "metadata": {
        "id": "odnxkDbHMGDc",
        "colab": {
          "base_uri": "https://localhost:8080/"
        },
        "outputId": "d70bf42a-3ed9-48d1-ad8c-cc3fe11c9528"
      },
      "outputs": [
        {
          "output_type": "stream",
          "name": "stdout",
          "text": [
            "<class 'numpy.ndarray'>\n",
            "<class 'pandas.core.series.Series'>\n"
          ]
        }
      ],
      "source": [
        "print(type(X_train))\n",
        "print(type(y_train))"
      ]
    },
    {
      "cell_type": "markdown",
      "metadata": {
        "id": "c_MNC1vntfdB"
      },
      "source": [
        "#Neural network"
      ]
    },
    {
      "cell_type": "markdown",
      "source": [
        "##Neural network implemetation"
      ],
      "metadata": {
        "id": "NQgApmcg--Kz"
      }
    },
    {
      "cell_type": "code",
      "source": [
        "!pip install scikeras"
      ],
      "metadata": {
        "id": "CJEm-A0ep3tg",
        "colab": {
          "base_uri": "https://localhost:8080/"
        },
        "outputId": "8e241e26-dcb5-428a-d836-469939c4bbfe"
      },
      "execution_count": 50,
      "outputs": [
        {
          "output_type": "stream",
          "name": "stdout",
          "text": [
            "Collecting scikeras\n",
            "  Downloading scikeras-0.11.0-py3-none-any.whl (27 kB)\n",
            "Requirement already satisfied: packaging>=0.21 in /usr/local/lib/python3.10/dist-packages (from scikeras) (23.1)\n",
            "Requirement already satisfied: scikit-learn>=1.0.0 in /usr/local/lib/python3.10/dist-packages (from scikeras) (1.2.2)\n",
            "Requirement already satisfied: numpy>=1.17.3 in /usr/local/lib/python3.10/dist-packages (from scikit-learn>=1.0.0->scikeras) (1.22.4)\n",
            "Requirement already satisfied: scipy>=1.3.2 in /usr/local/lib/python3.10/dist-packages (from scikit-learn>=1.0.0->scikeras) (1.10.1)\n",
            "Requirement already satisfied: joblib>=1.1.1 in /usr/local/lib/python3.10/dist-packages (from scikit-learn>=1.0.0->scikeras) (1.3.1)\n",
            "Requirement already satisfied: threadpoolctl>=2.0.0 in /usr/local/lib/python3.10/dist-packages (from scikit-learn>=1.0.0->scikeras) (3.1.0)\n",
            "Installing collected packages: scikeras\n",
            "Successfully installed scikeras-0.11.0\n"
          ]
        }
      ]
    },
    {
      "cell_type": "code",
      "source": [
        "import keras\n",
        "from keras.models import Sequential\n",
        "from keras.layers import Dense\n",
        "from sklearn.utils import class_weight\n",
        "import scikeras"
      ],
      "metadata": {
        "id": "TcAaIXJoYNUA"
      },
      "execution_count": 51,
      "outputs": []
    },
    {
      "cell_type": "markdown",
      "metadata": {
        "id": "s4V-t9viD8h7"
      },
      "source": [
        "# Loading Model"
      ]
    },
    {
      "cell_type": "code",
      "execution_count": 71,
      "metadata": {
        "id": "7i4LVH2IOewV"
      },
      "outputs": [],
      "source": [
        "from scikeras.wrappers import KerasClassifier\n",
        "# Load the model back into memory\n",
        "new_classifier_model = keras.models.load_model(\"/content/drive/MyDrive/Proyecto de Tesis Lazaro Gibert/BMT29vfunctional-all-dataset\")\n",
        "# Now we need to instantiate a new SciKeras object\n",
        "# since we only saved the Keras model\n",
        "#classifier_new = KerasClassifier(new_classifier_model, random_state=0)\n",
        "# use initialize to avoid re-fitting\n",
        "#classifier_new.fit(X_train,y_train,class_weight=class_weights2,epochs=250)\n",
        "#pred_new = classifier_new.predict(X_test)\n",
        "#np.testing.assert_allclose(pred_old, pred_new)"
      ]
    },
    {
      "cell_type": "code",
      "source": [
        "print(\"weights:\", len(new_classifier_model.weights))\n",
        "print(\"trainable_weights:\", len(new_classifier_model.trainable_weights))\n",
        "print(\"non_trainable_weights:\", len(new_classifier_model.non_trainable_weights))"
      ],
      "metadata": {
        "id": "YOZgPCHfd4Z_",
        "colab": {
          "base_uri": "https://localhost:8080/"
        },
        "outputId": "3b5b6999-e6d8-4492-abb1-4d0cb9756e38"
      },
      "execution_count": 72,
      "outputs": [
        {
          "output_type": "stream",
          "name": "stdout",
          "text": [
            "weights: 4\n",
            "trainable_weights: 4\n",
            "non_trainable_weights: 0\n"
          ]
        }
      ]
    },
    {
      "cell_type": "code",
      "source": [
        "new_classifier_model.layers"
      ],
      "metadata": {
        "id": "fqYRXzAZgwbs",
        "colab": {
          "base_uri": "https://localhost:8080/"
        },
        "outputId": "0953bdf6-0119-4fd6-e971-2fa7a179cf0b"
      },
      "execution_count": 73,
      "outputs": [
        {
          "output_type": "execute_result",
          "data": {
            "text/plain": [
              "[<keras.engine.input_layer.InputLayer at 0x7905a20dec20>,\n",
              " <keras.layers.core.dense.Dense at 0x7905a20df0a0>,\n",
              " <keras.layers.core.dense.Dense at 0x7905a20dd330>]"
            ]
          },
          "metadata": {},
          "execution_count": 73
        }
      ]
    },
    {
      "cell_type": "code",
      "source": [
        "new_classifier_model.summary()"
      ],
      "metadata": {
        "id": "7ErMyvydhfJu",
        "colab": {
          "base_uri": "https://localhost:8080/"
        },
        "outputId": "31d192b7-5aa3-4b9a-af60-0fad8426f585"
      },
      "execution_count": 74,
      "outputs": [
        {
          "output_type": "stream",
          "name": "stdout",
          "text": [
            "Model: \"model_312\"\n",
            "_________________________________________________________________\n",
            " Layer (type)                Output Shape              Param #   \n",
            "=================================================================\n",
            " input_313 (InputLayer)      [(None, 29)]              0         \n",
            "                                                                 \n",
            " dense_1819 (Dense)          (None, 64)                1920      \n",
            "                                                                 \n",
            " dense_1820 (Dense)          (None, 1)                 65        \n",
            "                                                                 \n",
            "=================================================================\n",
            "Total params: 1,985\n",
            "Trainable params: 1,985\n",
            "Non-trainable params: 0\n",
            "_________________________________________________________________\n"
          ]
        }
      ]
    },
    {
      "cell_type": "code",
      "source": [
        "inputs = keras.Input(shape=(70,))\n",
        "dense = layers.Dense(29, activation=\"relu\")(inputs)\n",
        "layer=new_classifier_model(dense)\n",
        "model = keras.Model(inputs=inputs, outputs=layer)"
      ],
      "metadata": {
        "id": "ltF7b9Sqbfyo"
      },
      "execution_count": 221,
      "outputs": []
    },
    {
      "cell_type": "code",
      "source": [
        "model.summary()"
      ],
      "metadata": {
        "colab": {
          "base_uri": "https://localhost:8080/"
        },
        "id": "gcp6S-SgobGU",
        "outputId": "a97af0cc-0744-45be-fb0a-96c84a2d272f"
      },
      "execution_count": 222,
      "outputs": [
        {
          "output_type": "stream",
          "name": "stdout",
          "text": [
            "Model: \"model_15\"\n",
            "_________________________________________________________________\n",
            " Layer (type)                Output Shape              Param #   \n",
            "=================================================================\n",
            " input_34 (InputLayer)       [(None, 70)]              0         \n",
            "                                                                 \n",
            " dense_16 (Dense)            (None, 29)                2059      \n",
            "                                                                 \n",
            " model_312 (Functional)      (None, 1)                 1985      \n",
            "                                                                 \n",
            "=================================================================\n",
            "Total params: 4,044\n",
            "Trainable params: 4,044\n",
            "Non-trainable params: 0\n",
            "_________________________________________________________________\n"
          ]
        }
      ]
    },
    {
      "cell_type": "code",
      "source": [
        "model.trainable=False"
      ],
      "metadata": {
        "id": "aHxSUgfhmlee"
      },
      "execution_count": 223,
      "outputs": []
    },
    {
      "cell_type": "code",
      "source": [
        "model.compile(optimizer=keras.optimizers.Adam(),\n",
        "              loss=keras.losses.BinaryCrossentropy(from_logits=True),\n",
        "              metrics=[keras.metrics.BinaryAccuracy()])"
      ],
      "metadata": {
        "id": "WOuJjXza0dNV"
      },
      "execution_count": 224,
      "outputs": []
    },
    {
      "cell_type": "code",
      "source": [
        "from scikeras.wrappers import KerasClassifier\n",
        "classifier_new = KerasClassifier(model,random_state=0)\n",
        "classifier_new.initialize(X_test, y_test)\n",
        "pred_new = classifier_new.predict(X_test)"
      ],
      "metadata": {
        "id": "Zg6E6I2_3tkT",
        "colab": {
          "base_uri": "https://localhost:8080/"
        },
        "outputId": "0b5b7dfc-9f23-4ede-bb49-21a203794fa2"
      },
      "execution_count": 225,
      "outputs": [
        {
          "output_type": "stream",
          "name": "stdout",
          "text": [
            "3/3 [==============================] - 0s 4ms/step\n"
          ]
        }
      ]
    },
    {
      "cell_type": "code",
      "source": [
        "print(classification_report(y_test, pred_new))"
      ],
      "metadata": {
        "id": "XnKZtFDbNU06",
        "colab": {
          "base_uri": "https://localhost:8080/"
        },
        "outputId": "d6e0ba13-1bd5-416f-e58c-4cc28bbc8a96"
      },
      "execution_count": 226,
      "outputs": [
        {
          "output_type": "stream",
          "name": "stdout",
          "text": [
            "              precision    recall  f1-score   support\n",
            "\n",
            "         0.0       0.37      0.48      0.42        29\n",
            "         1.0       0.70      0.59      0.64        59\n",
            "\n",
            "    accuracy                           0.56        88\n",
            "   macro avg       0.53      0.54      0.53        88\n",
            "weighted avg       0.59      0.56      0.57        88\n",
            "\n"
          ]
        }
      ]
    },
    {
      "cell_type": "code",
      "source": [
        "classifier_new.fit(X_train,y_train, epochs=100,validation_data=(X_val,y_val))"
      ],
      "metadata": {
        "id": "WMHNjwW54c-a",
        "colab": {
          "base_uri": "https://localhost:8080/",
          "height": 1000
        },
        "outputId": "87fe8eaa-86ff-42dc-a495-20e3995fa2cd"
      },
      "execution_count": 227,
      "outputs": [
        {
          "output_type": "stream",
          "name": "stdout",
          "text": [
            "Epoch 1/100\n"
          ]
        },
        {
          "output_type": "stream",
          "name": "stderr",
          "text": [
            "/usr/local/lib/python3.10/dist-packages/keras/backend.py:5703: UserWarning: \"`binary_crossentropy` received `from_logits=True`, but the `output` argument was produced by a Sigmoid activation and thus does not represent logits. Was this intended?\n",
            "  output, from_logits = _get_logits(\n"
          ]
        },
        {
          "output_type": "stream",
          "name": "stdout",
          "text": [
            "9/9 [==============================] - 1s 40ms/step - loss: 2.2959 - binary_accuracy: 0.4847 - val_loss: 1.9677 - val_binary_accuracy: 0.5227\n",
            "Epoch 2/100\n",
            "9/9 [==============================] - 0s 9ms/step - loss: 2.2959 - binary_accuracy: 0.4847 - val_loss: 1.9677 - val_binary_accuracy: 0.5227\n",
            "Epoch 3/100\n",
            "9/9 [==============================] - 0s 9ms/step - loss: 2.2959 - binary_accuracy: 0.4847 - val_loss: 1.9677 - val_binary_accuracy: 0.5227\n",
            "Epoch 4/100\n",
            "9/9 [==============================] - 0s 10ms/step - loss: 2.2959 - binary_accuracy: 0.4847 - val_loss: 1.9677 - val_binary_accuracy: 0.5227\n",
            "Epoch 5/100\n",
            "9/9 [==============================] - 0s 9ms/step - loss: 2.2959 - binary_accuracy: 0.4847 - val_loss: 1.9677 - val_binary_accuracy: 0.5227\n",
            "Epoch 6/100\n",
            "9/9 [==============================] - 0s 10ms/step - loss: 2.2959 - binary_accuracy: 0.4847 - val_loss: 1.9677 - val_binary_accuracy: 0.5227\n",
            "Epoch 7/100\n",
            "9/9 [==============================] - 0s 10ms/step - loss: 2.2959 - binary_accuracy: 0.4847 - val_loss: 1.9677 - val_binary_accuracy: 0.5227\n",
            "Epoch 8/100\n",
            "9/9 [==============================] - 0s 8ms/step - loss: 2.2959 - binary_accuracy: 0.4847 - val_loss: 1.9677 - val_binary_accuracy: 0.5227\n",
            "Epoch 9/100\n",
            "9/9 [==============================] - 0s 10ms/step - loss: 2.2959 - binary_accuracy: 0.4847 - val_loss: 1.9677 - val_binary_accuracy: 0.5227\n",
            "Epoch 10/100\n",
            "9/9 [==============================] - 0s 9ms/step - loss: 2.2959 - binary_accuracy: 0.4847 - val_loss: 1.9677 - val_binary_accuracy: 0.5227\n",
            "Epoch 11/100\n",
            "9/9 [==============================] - 0s 8ms/step - loss: 2.2959 - binary_accuracy: 0.4847 - val_loss: 1.9677 - val_binary_accuracy: 0.5227\n",
            "Epoch 12/100\n",
            "9/9 [==============================] - 0s 9ms/step - loss: 2.2959 - binary_accuracy: 0.4847 - val_loss: 1.9677 - val_binary_accuracy: 0.5227\n",
            "Epoch 13/100\n",
            "9/9 [==============================] - 0s 9ms/step - loss: 2.2959 - binary_accuracy: 0.4847 - val_loss: 1.9677 - val_binary_accuracy: 0.5227\n",
            "Epoch 14/100\n",
            "9/9 [==============================] - 0s 9ms/step - loss: 2.2959 - binary_accuracy: 0.4847 - val_loss: 1.9677 - val_binary_accuracy: 0.5227\n",
            "Epoch 15/100\n",
            "9/9 [==============================] - 0s 7ms/step - loss: 2.2959 - binary_accuracy: 0.4847 - val_loss: 1.9677 - val_binary_accuracy: 0.5227\n",
            "Epoch 16/100\n",
            "9/9 [==============================] - 0s 8ms/step - loss: 2.2959 - binary_accuracy: 0.4847 - val_loss: 1.9677 - val_binary_accuracy: 0.5227\n",
            "Epoch 17/100\n",
            "9/9 [==============================] - 0s 7ms/step - loss: 2.2959 - binary_accuracy: 0.4847 - val_loss: 1.9677 - val_binary_accuracy: 0.5227\n",
            "Epoch 18/100\n",
            "9/9 [==============================] - 0s 7ms/step - loss: 2.2959 - binary_accuracy: 0.4847 - val_loss: 1.9677 - val_binary_accuracy: 0.5227\n",
            "Epoch 19/100\n",
            "9/9 [==============================] - 0s 9ms/step - loss: 2.2959 - binary_accuracy: 0.4847 - val_loss: 1.9677 - val_binary_accuracy: 0.5227\n",
            "Epoch 20/100\n",
            "9/9 [==============================] - 0s 7ms/step - loss: 2.2959 - binary_accuracy: 0.4847 - val_loss: 1.9677 - val_binary_accuracy: 0.5227\n",
            "Epoch 21/100\n",
            "9/9 [==============================] - 0s 9ms/step - loss: 2.2959 - binary_accuracy: 0.4847 - val_loss: 1.9677 - val_binary_accuracy: 0.5227\n",
            "Epoch 22/100\n",
            "9/9 [==============================] - 0s 10ms/step - loss: 2.2959 - binary_accuracy: 0.4847 - val_loss: 1.9677 - val_binary_accuracy: 0.5227\n",
            "Epoch 23/100\n",
            "9/9 [==============================] - 0s 8ms/step - loss: 2.2959 - binary_accuracy: 0.4847 - val_loss: 1.9677 - val_binary_accuracy: 0.5227\n",
            "Epoch 24/100\n",
            "9/9 [==============================] - 0s 7ms/step - loss: 2.2959 - binary_accuracy: 0.4847 - val_loss: 1.9677 - val_binary_accuracy: 0.5227\n",
            "Epoch 25/100\n",
            "9/9 [==============================] - 0s 7ms/step - loss: 2.2959 - binary_accuracy: 0.4847 - val_loss: 1.9677 - val_binary_accuracy: 0.5227\n",
            "Epoch 26/100\n",
            "9/9 [==============================] - 0s 10ms/step - loss: 2.2959 - binary_accuracy: 0.4847 - val_loss: 1.9677 - val_binary_accuracy: 0.5227\n",
            "Epoch 27/100\n",
            "9/9 [==============================] - 0s 8ms/step - loss: 2.2959 - binary_accuracy: 0.4847 - val_loss: 1.9677 - val_binary_accuracy: 0.5227\n",
            "Epoch 28/100\n",
            "9/9 [==============================] - 0s 10ms/step - loss: 2.2959 - binary_accuracy: 0.4847 - val_loss: 1.9677 - val_binary_accuracy: 0.5227\n",
            "Epoch 29/100\n",
            "9/9 [==============================] - 0s 8ms/step - loss: 2.2959 - binary_accuracy: 0.4847 - val_loss: 1.9677 - val_binary_accuracy: 0.5227\n",
            "Epoch 30/100\n",
            "9/9 [==============================] - 0s 8ms/step - loss: 2.2959 - binary_accuracy: 0.4847 - val_loss: 1.9677 - val_binary_accuracy: 0.5227\n",
            "Epoch 31/100\n",
            "9/9 [==============================] - 0s 9ms/step - loss: 2.2959 - binary_accuracy: 0.4847 - val_loss: 1.9677 - val_binary_accuracy: 0.5227\n",
            "Epoch 32/100\n",
            "9/9 [==============================] - 0s 8ms/step - loss: 2.2959 - binary_accuracy: 0.4847 - val_loss: 1.9677 - val_binary_accuracy: 0.5227\n",
            "Epoch 33/100\n",
            "9/9 [==============================] - 0s 7ms/step - loss: 2.2959 - binary_accuracy: 0.4847 - val_loss: 1.9677 - val_binary_accuracy: 0.5227\n",
            "Epoch 34/100\n",
            "9/9 [==============================] - 0s 7ms/step - loss: 2.2959 - binary_accuracy: 0.4847 - val_loss: 1.9677 - val_binary_accuracy: 0.5227\n",
            "Epoch 35/100\n",
            "9/9 [==============================] - 0s 8ms/step - loss: 2.2959 - binary_accuracy: 0.4847 - val_loss: 1.9677 - val_binary_accuracy: 0.5227\n",
            "Epoch 36/100\n",
            "9/9 [==============================] - 0s 8ms/step - loss: 2.2959 - binary_accuracy: 0.4847 - val_loss: 1.9677 - val_binary_accuracy: 0.5227\n",
            "Epoch 37/100\n",
            "9/9 [==============================] - 0s 9ms/step - loss: 2.2959 - binary_accuracy: 0.4847 - val_loss: 1.9677 - val_binary_accuracy: 0.5227\n",
            "Epoch 38/100\n",
            "9/9 [==============================] - 0s 8ms/step - loss: 2.2959 - binary_accuracy: 0.4847 - val_loss: 1.9677 - val_binary_accuracy: 0.5227\n",
            "Epoch 39/100\n",
            "9/9 [==============================] - 0s 9ms/step - loss: 2.2959 - binary_accuracy: 0.4847 - val_loss: 1.9677 - val_binary_accuracy: 0.5227\n",
            "Epoch 40/100\n",
            "9/9 [==============================] - 0s 7ms/step - loss: 2.2959 - binary_accuracy: 0.4847 - val_loss: 1.9677 - val_binary_accuracy: 0.5227\n",
            "Epoch 41/100\n",
            "9/9 [==============================] - 0s 8ms/step - loss: 2.2959 - binary_accuracy: 0.4847 - val_loss: 1.9677 - val_binary_accuracy: 0.5227\n",
            "Epoch 42/100\n",
            "9/9 [==============================] - 0s 9ms/step - loss: 2.2959 - binary_accuracy: 0.4847 - val_loss: 1.9677 - val_binary_accuracy: 0.5227\n",
            "Epoch 43/100\n",
            "9/9 [==============================] - 0s 10ms/step - loss: 2.2959 - binary_accuracy: 0.4847 - val_loss: 1.9677 - val_binary_accuracy: 0.5227\n",
            "Epoch 44/100\n",
            "9/9 [==============================] - 0s 11ms/step - loss: 2.2959 - binary_accuracy: 0.4847 - val_loss: 1.9677 - val_binary_accuracy: 0.5227\n",
            "Epoch 45/100\n",
            "9/9 [==============================] - 0s 10ms/step - loss: 2.2959 - binary_accuracy: 0.4847 - val_loss: 1.9677 - val_binary_accuracy: 0.5227\n",
            "Epoch 46/100\n",
            "9/9 [==============================] - 0s 10ms/step - loss: 2.2959 - binary_accuracy: 0.4847 - val_loss: 1.9677 - val_binary_accuracy: 0.5227\n",
            "Epoch 47/100\n",
            "9/9 [==============================] - 0s 12ms/step - loss: 2.2959 - binary_accuracy: 0.4847 - val_loss: 1.9677 - val_binary_accuracy: 0.5227\n",
            "Epoch 48/100\n",
            "9/9 [==============================] - 0s 12ms/step - loss: 2.2959 - binary_accuracy: 0.4847 - val_loss: 1.9677 - val_binary_accuracy: 0.5227\n",
            "Epoch 49/100\n",
            "9/9 [==============================] - 0s 10ms/step - loss: 2.2959 - binary_accuracy: 0.4847 - val_loss: 1.9677 - val_binary_accuracy: 0.5227\n",
            "Epoch 50/100\n",
            "9/9 [==============================] - 0s 10ms/step - loss: 2.2959 - binary_accuracy: 0.4847 - val_loss: 1.9677 - val_binary_accuracy: 0.5227\n",
            "Epoch 51/100\n",
            "9/9 [==============================] - 0s 11ms/step - loss: 2.2959 - binary_accuracy: 0.4847 - val_loss: 1.9677 - val_binary_accuracy: 0.5227\n",
            "Epoch 52/100\n",
            "9/9 [==============================] - 0s 11ms/step - loss: 2.2959 - binary_accuracy: 0.4847 - val_loss: 1.9677 - val_binary_accuracy: 0.5227\n",
            "Epoch 53/100\n",
            "9/9 [==============================] - 0s 12ms/step - loss: 2.2959 - binary_accuracy: 0.4847 - val_loss: 1.9677 - val_binary_accuracy: 0.5227\n",
            "Epoch 54/100\n",
            "9/9 [==============================] - 0s 10ms/step - loss: 2.2959 - binary_accuracy: 0.4847 - val_loss: 1.9677 - val_binary_accuracy: 0.5227\n",
            "Epoch 55/100\n",
            "9/9 [==============================] - 0s 11ms/step - loss: 2.2959 - binary_accuracy: 0.4847 - val_loss: 1.9677 - val_binary_accuracy: 0.5227\n",
            "Epoch 56/100\n",
            "9/9 [==============================] - 0s 9ms/step - loss: 2.2959 - binary_accuracy: 0.4847 - val_loss: 1.9677 - val_binary_accuracy: 0.5227\n",
            "Epoch 57/100\n",
            "9/9 [==============================] - 0s 9ms/step - loss: 2.2959 - binary_accuracy: 0.4847 - val_loss: 1.9677 - val_binary_accuracy: 0.5227\n",
            "Epoch 58/100\n",
            "9/9 [==============================] - 0s 15ms/step - loss: 2.2959 - binary_accuracy: 0.4847 - val_loss: 1.9677 - val_binary_accuracy: 0.5227\n",
            "Epoch 59/100\n",
            "9/9 [==============================] - 0s 12ms/step - loss: 2.2959 - binary_accuracy: 0.4847 - val_loss: 1.9677 - val_binary_accuracy: 0.5227\n",
            "Epoch 60/100\n",
            "9/9 [==============================] - 0s 13ms/step - loss: 2.2959 - binary_accuracy: 0.4847 - val_loss: 1.9677 - val_binary_accuracy: 0.5227\n",
            "Epoch 61/100\n",
            "9/9 [==============================] - 0s 10ms/step - loss: 2.2959 - binary_accuracy: 0.4847 - val_loss: 1.9677 - val_binary_accuracy: 0.5227\n",
            "Epoch 62/100\n",
            "9/9 [==============================] - 0s 9ms/step - loss: 2.2959 - binary_accuracy: 0.4847 - val_loss: 1.9677 - val_binary_accuracy: 0.5227\n",
            "Epoch 63/100\n",
            "9/9 [==============================] - 0s 9ms/step - loss: 2.2959 - binary_accuracy: 0.4847 - val_loss: 1.9677 - val_binary_accuracy: 0.5227\n",
            "Epoch 64/100\n",
            "9/9 [==============================] - 0s 9ms/step - loss: 2.2959 - binary_accuracy: 0.4847 - val_loss: 1.9677 - val_binary_accuracy: 0.5227\n",
            "Epoch 65/100\n",
            "9/9 [==============================] - 0s 10ms/step - loss: 2.2959 - binary_accuracy: 0.4847 - val_loss: 1.9677 - val_binary_accuracy: 0.5227\n",
            "Epoch 66/100\n",
            "9/9 [==============================] - 0s 9ms/step - loss: 2.2959 - binary_accuracy: 0.4847 - val_loss: 1.9677 - val_binary_accuracy: 0.5227\n",
            "Epoch 67/100\n",
            "9/9 [==============================] - 0s 11ms/step - loss: 2.2959 - binary_accuracy: 0.4847 - val_loss: 1.9677 - val_binary_accuracy: 0.5227\n",
            "Epoch 68/100\n",
            "9/9 [==============================] - 0s 10ms/step - loss: 2.2959 - binary_accuracy: 0.4847 - val_loss: 1.9677 - val_binary_accuracy: 0.5227\n",
            "Epoch 69/100\n",
            "9/9 [==============================] - 0s 10ms/step - loss: 2.2959 - binary_accuracy: 0.4847 - val_loss: 1.9677 - val_binary_accuracy: 0.5227\n",
            "Epoch 70/100\n",
            "9/9 [==============================] - 0s 11ms/step - loss: 2.2959 - binary_accuracy: 0.4847 - val_loss: 1.9677 - val_binary_accuracy: 0.5227\n",
            "Epoch 71/100\n",
            "9/9 [==============================] - 0s 12ms/step - loss: 2.2959 - binary_accuracy: 0.4847 - val_loss: 1.9677 - val_binary_accuracy: 0.5227\n",
            "Epoch 72/100\n",
            "9/9 [==============================] - 0s 13ms/step - loss: 2.2959 - binary_accuracy: 0.4847 - val_loss: 1.9677 - val_binary_accuracy: 0.5227\n",
            "Epoch 73/100\n",
            "9/9 [==============================] - 0s 10ms/step - loss: 2.2959 - binary_accuracy: 0.4847 - val_loss: 1.9677 - val_binary_accuracy: 0.5227\n",
            "Epoch 74/100\n",
            "9/9 [==============================] - 0s 9ms/step - loss: 2.2959 - binary_accuracy: 0.4847 - val_loss: 1.9677 - val_binary_accuracy: 0.5227\n",
            "Epoch 75/100\n",
            "9/9 [==============================] - 0s 11ms/step - loss: 2.2959 - binary_accuracy: 0.4847 - val_loss: 1.9677 - val_binary_accuracy: 0.5227\n",
            "Epoch 76/100\n",
            "9/9 [==============================] - 0s 10ms/step - loss: 2.2959 - binary_accuracy: 0.4847 - val_loss: 1.9677 - val_binary_accuracy: 0.5227\n",
            "Epoch 77/100\n",
            "9/9 [==============================] - 0s 10ms/step - loss: 2.2959 - binary_accuracy: 0.4847 - val_loss: 1.9677 - val_binary_accuracy: 0.5227\n",
            "Epoch 78/100\n",
            "9/9 [==============================] - 0s 10ms/step - loss: 2.2959 - binary_accuracy: 0.4847 - val_loss: 1.9677 - val_binary_accuracy: 0.5227\n",
            "Epoch 79/100\n",
            "9/9 [==============================] - 0s 10ms/step - loss: 2.2959 - binary_accuracy: 0.4847 - val_loss: 1.9677 - val_binary_accuracy: 0.5227\n",
            "Epoch 80/100\n",
            "9/9 [==============================] - 0s 11ms/step - loss: 2.2959 - binary_accuracy: 0.4847 - val_loss: 1.9677 - val_binary_accuracy: 0.5227\n",
            "Epoch 81/100\n",
            "9/9 [==============================] - 0s 10ms/step - loss: 2.2959 - binary_accuracy: 0.4847 - val_loss: 1.9677 - val_binary_accuracy: 0.5227\n",
            "Epoch 82/100\n",
            "9/9 [==============================] - 0s 11ms/step - loss: 2.2959 - binary_accuracy: 0.4847 - val_loss: 1.9677 - val_binary_accuracy: 0.5227\n",
            "Epoch 83/100\n",
            "9/9 [==============================] - 0s 10ms/step - loss: 2.2959 - binary_accuracy: 0.4847 - val_loss: 1.9677 - val_binary_accuracy: 0.5227\n",
            "Epoch 84/100\n",
            "9/9 [==============================] - 0s 10ms/step - loss: 2.2959 - binary_accuracy: 0.4847 - val_loss: 1.9677 - val_binary_accuracy: 0.5227\n",
            "Epoch 85/100\n",
            "9/9 [==============================] - 0s 12ms/step - loss: 2.2959 - binary_accuracy: 0.4847 - val_loss: 1.9677 - val_binary_accuracy: 0.5227\n",
            "Epoch 86/100\n",
            "9/9 [==============================] - 0s 11ms/step - loss: 2.2959 - binary_accuracy: 0.4847 - val_loss: 1.9677 - val_binary_accuracy: 0.5227\n",
            "Epoch 87/100\n",
            "9/9 [==============================] - 0s 12ms/step - loss: 2.2959 - binary_accuracy: 0.4847 - val_loss: 1.9677 - val_binary_accuracy: 0.5227\n",
            "Epoch 88/100\n",
            "9/9 [==============================] - 0s 10ms/step - loss: 2.2959 - binary_accuracy: 0.4847 - val_loss: 1.9677 - val_binary_accuracy: 0.5227\n",
            "Epoch 89/100\n",
            "9/9 [==============================] - 0s 10ms/step - loss: 2.2959 - binary_accuracy: 0.4847 - val_loss: 1.9677 - val_binary_accuracy: 0.5227\n",
            "Epoch 90/100\n",
            "9/9 [==============================] - 0s 11ms/step - loss: 2.2959 - binary_accuracy: 0.4847 - val_loss: 1.9677 - val_binary_accuracy: 0.5227\n",
            "Epoch 91/100\n",
            "9/9 [==============================] - 0s 13ms/step - loss: 2.2959 - binary_accuracy: 0.4847 - val_loss: 1.9677 - val_binary_accuracy: 0.5227\n",
            "Epoch 92/100\n",
            "9/9 [==============================] - 0s 10ms/step - loss: 2.2959 - binary_accuracy: 0.4847 - val_loss: 1.9677 - val_binary_accuracy: 0.5227\n",
            "Epoch 93/100\n",
            "9/9 [==============================] - 0s 7ms/step - loss: 2.2959 - binary_accuracy: 0.4847 - val_loss: 1.9677 - val_binary_accuracy: 0.5227\n",
            "Epoch 94/100\n",
            "9/9 [==============================] - 0s 7ms/step - loss: 2.2959 - binary_accuracy: 0.4847 - val_loss: 1.9677 - val_binary_accuracy: 0.5227\n",
            "Epoch 95/100\n",
            "9/9 [==============================] - 0s 8ms/step - loss: 2.2959 - binary_accuracy: 0.4847 - val_loss: 1.9677 - val_binary_accuracy: 0.5227\n",
            "Epoch 96/100\n",
            "9/9 [==============================] - 0s 9ms/step - loss: 2.2959 - binary_accuracy: 0.4847 - val_loss: 1.9677 - val_binary_accuracy: 0.5227\n",
            "Epoch 97/100\n",
            "9/9 [==============================] - 0s 10ms/step - loss: 2.2959 - binary_accuracy: 0.4847 - val_loss: 1.9677 - val_binary_accuracy: 0.5227\n",
            "Epoch 98/100\n",
            "9/9 [==============================] - 0s 7ms/step - loss: 2.2959 - binary_accuracy: 0.4847 - val_loss: 1.9677 - val_binary_accuracy: 0.5227\n",
            "Epoch 99/100\n",
            "9/9 [==============================] - 0s 8ms/step - loss: 2.2959 - binary_accuracy: 0.4847 - val_loss: 1.9677 - val_binary_accuracy: 0.5227\n",
            "Epoch 100/100\n",
            "9/9 [==============================] - 0s 7ms/step - loss: 2.2959 - binary_accuracy: 0.4847 - val_loss: 1.9677 - val_binary_accuracy: 0.5227\n"
          ]
        },
        {
          "output_type": "execute_result",
          "data": {
            "text/plain": [
              "KerasClassifier(\n",
              "\tmodel=<keras.engine.functional.Functional object at 0x7905a1139cf0>\n",
              "\tbuild_fn=None\n",
              "\twarm_start=False\n",
              "\trandom_state=0\n",
              "\toptimizer=rmsprop\n",
              "\tloss=None\n",
              "\tmetrics=None\n",
              "\tbatch_size=None\n",
              "\tvalidation_batch_size=None\n",
              "\tverbose=1\n",
              "\tcallbacks=None\n",
              "\tvalidation_split=0.0\n",
              "\tshuffle=True\n",
              "\trun_eagerly=False\n",
              "\tepochs=1\n",
              "\tclass_weight=None\n",
              ")"
            ],
            "text/html": [
              "<style>#sk-container-id-14 {color: black;background-color: white;}#sk-container-id-14 pre{padding: 0;}#sk-container-id-14 div.sk-toggleable {background-color: white;}#sk-container-id-14 label.sk-toggleable__label {cursor: pointer;display: block;width: 100%;margin-bottom: 0;padding: 0.3em;box-sizing: border-box;text-align: center;}#sk-container-id-14 label.sk-toggleable__label-arrow:before {content: \"▸\";float: left;margin-right: 0.25em;color: #696969;}#sk-container-id-14 label.sk-toggleable__label-arrow:hover:before {color: black;}#sk-container-id-14 div.sk-estimator:hover label.sk-toggleable__label-arrow:before {color: black;}#sk-container-id-14 div.sk-toggleable__content {max-height: 0;max-width: 0;overflow: hidden;text-align: left;background-color: #f0f8ff;}#sk-container-id-14 div.sk-toggleable__content pre {margin: 0.2em;color: black;border-radius: 0.25em;background-color: #f0f8ff;}#sk-container-id-14 input.sk-toggleable__control:checked~div.sk-toggleable__content {max-height: 200px;max-width: 100%;overflow: auto;}#sk-container-id-14 input.sk-toggleable__control:checked~label.sk-toggleable__label-arrow:before {content: \"▾\";}#sk-container-id-14 div.sk-estimator input.sk-toggleable__control:checked~label.sk-toggleable__label {background-color: #d4ebff;}#sk-container-id-14 div.sk-label input.sk-toggleable__control:checked~label.sk-toggleable__label {background-color: #d4ebff;}#sk-container-id-14 input.sk-hidden--visually {border: 0;clip: rect(1px 1px 1px 1px);clip: rect(1px, 1px, 1px, 1px);height: 1px;margin: -1px;overflow: hidden;padding: 0;position: absolute;width: 1px;}#sk-container-id-14 div.sk-estimator {font-family: monospace;background-color: #f0f8ff;border: 1px dotted black;border-radius: 0.25em;box-sizing: border-box;margin-bottom: 0.5em;}#sk-container-id-14 div.sk-estimator:hover {background-color: #d4ebff;}#sk-container-id-14 div.sk-parallel-item::after {content: \"\";width: 100%;border-bottom: 1px solid gray;flex-grow: 1;}#sk-container-id-14 div.sk-label:hover label.sk-toggleable__label {background-color: #d4ebff;}#sk-container-id-14 div.sk-serial::before {content: \"\";position: absolute;border-left: 1px solid gray;box-sizing: border-box;top: 0;bottom: 0;left: 50%;z-index: 0;}#sk-container-id-14 div.sk-serial {display: flex;flex-direction: column;align-items: center;background-color: white;padding-right: 0.2em;padding-left: 0.2em;position: relative;}#sk-container-id-14 div.sk-item {position: relative;z-index: 1;}#sk-container-id-14 div.sk-parallel {display: flex;align-items: stretch;justify-content: center;background-color: white;position: relative;}#sk-container-id-14 div.sk-item::before, #sk-container-id-14 div.sk-parallel-item::before {content: \"\";position: absolute;border-left: 1px solid gray;box-sizing: border-box;top: 0;bottom: 0;left: 50%;z-index: -1;}#sk-container-id-14 div.sk-parallel-item {display: flex;flex-direction: column;z-index: 1;position: relative;background-color: white;}#sk-container-id-14 div.sk-parallel-item:first-child::after {align-self: flex-end;width: 50%;}#sk-container-id-14 div.sk-parallel-item:last-child::after {align-self: flex-start;width: 50%;}#sk-container-id-14 div.sk-parallel-item:only-child::after {width: 0;}#sk-container-id-14 div.sk-dashed-wrapped {border: 1px dashed gray;margin: 0 0.4em 0.5em 0.4em;box-sizing: border-box;padding-bottom: 0.4em;background-color: white;}#sk-container-id-14 div.sk-label label {font-family: monospace;font-weight: bold;display: inline-block;line-height: 1.2em;}#sk-container-id-14 div.sk-label-container {text-align: center;}#sk-container-id-14 div.sk-container {/* jupyter's `normalize.less` sets `[hidden] { display: none; }` but bootstrap.min.css set `[hidden] { display: none !important; }` so we also need the `!important` here to be able to override the default hidden behavior on the sphinx rendered scikit-learn.org. See: https://github.com/scikit-learn/scikit-learn/issues/21755 */display: inline-block !important;position: relative;}#sk-container-id-14 div.sk-text-repr-fallback {display: none;}</style><div id=\"sk-container-id-14\" class=\"sk-top-container\"><div class=\"sk-text-repr-fallback\"><pre>KerasClassifier(\n",
              "\tmodel=&lt;keras.engine.functional.Functional object at 0x7905a1139cf0&gt;\n",
              "\tbuild_fn=None\n",
              "\twarm_start=False\n",
              "\trandom_state=0\n",
              "\toptimizer=rmsprop\n",
              "\tloss=None\n",
              "\tmetrics=None\n",
              "\tbatch_size=None\n",
              "\tvalidation_batch_size=None\n",
              "\tverbose=1\n",
              "\tcallbacks=None\n",
              "\tvalidation_split=0.0\n",
              "\tshuffle=True\n",
              "\trun_eagerly=False\n",
              "\tepochs=1\n",
              "\tclass_weight=None\n",
              ")</pre><b>In a Jupyter environment, please rerun this cell to show the HTML representation or trust the notebook. <br />On GitHub, the HTML representation is unable to render, please try loading this page with nbviewer.org.</b></div><div class=\"sk-container\" hidden><div class=\"sk-item\"><div class=\"sk-estimator sk-toggleable\"><input class=\"sk-toggleable__control sk-hidden--visually\" id=\"sk-estimator-id-18\" type=\"checkbox\" checked><label for=\"sk-estimator-id-18\" class=\"sk-toggleable__label sk-toggleable__label-arrow\">KerasClassifier</label><div class=\"sk-toggleable__content\"><pre>KerasClassifier(\n",
              "\tmodel=&lt;keras.engine.functional.Functional object at 0x7905a1139cf0&gt;\n",
              "\tbuild_fn=None\n",
              "\twarm_start=False\n",
              "\trandom_state=0\n",
              "\toptimizer=rmsprop\n",
              "\tloss=None\n",
              "\tmetrics=None\n",
              "\tbatch_size=None\n",
              "\tvalidation_batch_size=None\n",
              "\tverbose=1\n",
              "\tcallbacks=None\n",
              "\tvalidation_split=0.0\n",
              "\tshuffle=True\n",
              "\trun_eagerly=False\n",
              "\tepochs=1\n",
              "\tclass_weight=None\n",
              ")</pre></div></div></div></div></div>"
            ]
          },
          "metadata": {},
          "execution_count": 227
        }
      ]
    },
    {
      "cell_type": "code",
      "source": [
        "pred_new = classifier_new.predict(X_test)\n",
        "print(classification_report(y_test, pred_new))"
      ],
      "metadata": {
        "id": "E3rTkU_H4vXb",
        "colab": {
          "base_uri": "https://localhost:8080/"
        },
        "outputId": "9a3077c5-1b10-4090-9ffc-b26ce8ccc21e"
      },
      "execution_count": 228,
      "outputs": [
        {
          "output_type": "stream",
          "name": "stdout",
          "text": [
            "3/3 [==============================] - 0s 4ms/step\n",
            "              precision    recall  f1-score   support\n",
            "\n",
            "         0.0       0.37      0.48      0.42        29\n",
            "         1.0       0.70      0.59      0.64        59\n",
            "\n",
            "    accuracy                           0.56        88\n",
            "   macro avg       0.53      0.54      0.53        88\n",
            "weighted avg       0.59      0.56      0.57        88\n",
            "\n"
          ]
        }
      ]
    },
    {
      "cell_type": "code",
      "source": [
        "new_classifier_model.trainable=True"
      ],
      "metadata": {
        "id": "IKpyT3vY4_mT"
      },
      "execution_count": 229,
      "outputs": []
    },
    {
      "cell_type": "code",
      "source": [
        "new_classifier_model.compile(optimizer=keras.optimizers.Adam(),\n",
        "              loss=keras.losses.BinaryCrossentropy(from_logits=True),\n",
        "              metrics=[keras.metrics.BinaryAccuracy()])"
      ],
      "metadata": {
        "id": "67Sj6fvg5Qra"
      },
      "execution_count": 230,
      "outputs": []
    },
    {
      "cell_type": "code",
      "source": [
        "model.trainable=True"
      ],
      "metadata": {
        "id": "S3V-495myndV"
      },
      "execution_count": 231,
      "outputs": []
    },
    {
      "cell_type": "code",
      "source": [
        "model.compile(optimizer=keras.optimizers.Adam(),\n",
        "              loss=keras.losses.BinaryCrossentropy(from_logits=True),\n",
        "              metrics=[keras.metrics.BinaryAccuracy()])"
      ],
      "metadata": {
        "id": "BhRPkLrsytmI"
      },
      "execution_count": 232,
      "outputs": []
    },
    {
      "cell_type": "code",
      "source": [
        "classifier_new = KerasClassifier(model,random_state=0,callbacks=tensorflow.keras.callbacks.EarlyStopping(monitor='val_loss',verbose=1,patience=15))\n",
        "classifier_new.initialize(X_test, y_test)\n",
        "pred_new = classifier_new.predict(X_test)"
      ],
      "metadata": {
        "id": "ttZyCZP75hst",
        "colab": {
          "base_uri": "https://localhost:8080/"
        },
        "outputId": "26118147-b129-472e-91fa-f355ec95a00d"
      },
      "execution_count": 233,
      "outputs": [
        {
          "output_type": "stream",
          "name": "stdout",
          "text": [
            "3/3 [==============================] - 0s 5ms/step\n"
          ]
        }
      ]
    },
    {
      "cell_type": "code",
      "source": [
        "print(classification_report(y_test, pred_new))"
      ],
      "metadata": {
        "id": "kOrM5lj55lSi",
        "colab": {
          "base_uri": "https://localhost:8080/"
        },
        "outputId": "64a5331d-23c7-4e6e-8674-c5c66093eae1"
      },
      "execution_count": 234,
      "outputs": [
        {
          "output_type": "stream",
          "name": "stdout",
          "text": [
            "              precision    recall  f1-score   support\n",
            "\n",
            "         0.0       0.37      0.48      0.42        29\n",
            "         1.0       0.70      0.59      0.64        59\n",
            "\n",
            "    accuracy                           0.56        88\n",
            "   macro avg       0.53      0.54      0.53        88\n",
            "weighted avg       0.59      0.56      0.57        88\n",
            "\n"
          ]
        }
      ]
    },
    {
      "cell_type": "code",
      "source": [
        "#callback = tensorflow.keras.callbacks.EarlyStopping(monitor='val_binary_accuracy', patience=5,verbose=1,mode='max')"
      ],
      "metadata": {
        "id": "8bvNogjmf6Hr"
      },
      "execution_count": null,
      "outputs": []
    },
    {
      "cell_type": "code",
      "source": [
        "classifier_new.fit(X_train, y_train,epochs=100,validation_data=(X_val,y_val))"
      ],
      "metadata": {
        "id": "l05kBC6B57Sq",
        "colab": {
          "base_uri": "https://localhost:8080/",
          "height": 1000
        },
        "outputId": "f9e5955b-6ae9-4596-a434-10c1655603af"
      },
      "execution_count": 235,
      "outputs": [
        {
          "output_type": "stream",
          "name": "stdout",
          "text": [
            "Epoch 1/100\n"
          ]
        },
        {
          "output_type": "stream",
          "name": "stderr",
          "text": [
            "/usr/local/lib/python3.10/dist-packages/keras/backend.py:5703: UserWarning: \"`binary_crossentropy` received `from_logits=True`, but the `output` argument was produced by a Sigmoid activation and thus does not represent logits. Was this intended?\n",
            "  output, from_logits = _get_logits(\n"
          ]
        },
        {
          "output_type": "stream",
          "name": "stdout",
          "text": [
            "9/9 [==============================] - 1s 38ms/step - loss: 2.1487 - binary_accuracy: 0.4924 - val_loss: 1.7219 - val_binary_accuracy: 0.5568\n",
            "Epoch 2/100\n",
            "9/9 [==============================] - 0s 8ms/step - loss: 1.7160 - binary_accuracy: 0.5992 - val_loss: 1.5836 - val_binary_accuracy: 0.5909\n",
            "Epoch 3/100\n",
            "9/9 [==============================] - 0s 7ms/step - loss: 1.4825 - binary_accuracy: 0.6374 - val_loss: 1.4853 - val_binary_accuracy: 0.6136\n",
            "Epoch 4/100\n",
            "9/9 [==============================] - 0s 11ms/step - loss: 1.2846 - binary_accuracy: 0.6641 - val_loss: 1.4014 - val_binary_accuracy: 0.6136\n",
            "Epoch 5/100\n",
            "9/9 [==============================] - 0s 10ms/step - loss: 1.1143 - binary_accuracy: 0.6756 - val_loss: 1.3291 - val_binary_accuracy: 0.6250\n",
            "Epoch 6/100\n",
            "9/9 [==============================] - 0s 10ms/step - loss: 0.9669 - binary_accuracy: 0.6718 - val_loss: 1.2584 - val_binary_accuracy: 0.6023\n",
            "Epoch 7/100\n",
            "9/9 [==============================] - 0s 9ms/step - loss: 0.8598 - binary_accuracy: 0.6832 - val_loss: 1.1983 - val_binary_accuracy: 0.5795\n",
            "Epoch 8/100\n",
            "9/9 [==============================] - 0s 10ms/step - loss: 0.7748 - binary_accuracy: 0.7061 - val_loss: 1.1627 - val_binary_accuracy: 0.5909\n",
            "Epoch 9/100\n",
            "9/9 [==============================] - 0s 9ms/step - loss: 0.6993 - binary_accuracy: 0.7176 - val_loss: 1.1371 - val_binary_accuracy: 0.5795\n",
            "Epoch 10/100\n",
            "9/9 [==============================] - 0s 10ms/step - loss: 0.6292 - binary_accuracy: 0.7252 - val_loss: 1.1125 - val_binary_accuracy: 0.6136\n",
            "Epoch 11/100\n",
            "9/9 [==============================] - 0s 9ms/step - loss: 0.5790 - binary_accuracy: 0.7481 - val_loss: 1.0858 - val_binary_accuracy: 0.6023\n",
            "Epoch 12/100\n",
            "9/9 [==============================] - 0s 8ms/step - loss: 0.5411 - binary_accuracy: 0.7557 - val_loss: 1.0500 - val_binary_accuracy: 0.6136\n",
            "Epoch 13/100\n",
            "9/9 [==============================] - 0s 10ms/step - loss: 0.5008 - binary_accuracy: 0.7672 - val_loss: 1.0442 - val_binary_accuracy: 0.6023\n",
            "Epoch 14/100\n",
            "9/9 [==============================] - 0s 8ms/step - loss: 0.4699 - binary_accuracy: 0.7824 - val_loss: 1.0356 - val_binary_accuracy: 0.6023\n",
            "Epoch 15/100\n",
            "9/9 [==============================] - 0s 9ms/step - loss: 0.4442 - binary_accuracy: 0.7901 - val_loss: 1.0117 - val_binary_accuracy: 0.6023\n",
            "Epoch 16/100\n",
            "9/9 [==============================] - 0s 9ms/step - loss: 0.4218 - binary_accuracy: 0.8015 - val_loss: 0.9801 - val_binary_accuracy: 0.6136\n",
            "Epoch 17/100\n",
            "9/9 [==============================] - 0s 10ms/step - loss: 0.4013 - binary_accuracy: 0.8244 - val_loss: 0.9710 - val_binary_accuracy: 0.6250\n",
            "Epoch 18/100\n",
            "9/9 [==============================] - 0s 9ms/step - loss: 0.3822 - binary_accuracy: 0.8206 - val_loss: 0.9624 - val_binary_accuracy: 0.6250\n",
            "Epoch 19/100\n",
            "9/9 [==============================] - 0s 9ms/step - loss: 0.3686 - binary_accuracy: 0.8435 - val_loss: 0.9546 - val_binary_accuracy: 0.6136\n",
            "Epoch 20/100\n",
            "9/9 [==============================] - 0s 9ms/step - loss: 0.3514 - binary_accuracy: 0.8473 - val_loss: 0.9639 - val_binary_accuracy: 0.6136\n",
            "Epoch 21/100\n",
            "9/9 [==============================] - 0s 10ms/step - loss: 0.3399 - binary_accuracy: 0.8626 - val_loss: 0.9576 - val_binary_accuracy: 0.6136\n",
            "Epoch 22/100\n",
            "9/9 [==============================] - 0s 8ms/step - loss: 0.3284 - binary_accuracy: 0.8664 - val_loss: 0.9695 - val_binary_accuracy: 0.6136\n",
            "Epoch 23/100\n",
            "9/9 [==============================] - 0s 8ms/step - loss: 0.3168 - binary_accuracy: 0.8740 - val_loss: 0.9584 - val_binary_accuracy: 0.6136\n",
            "Epoch 24/100\n",
            "9/9 [==============================] - 0s 8ms/step - loss: 0.3048 - binary_accuracy: 0.8740 - val_loss: 0.9550 - val_binary_accuracy: 0.6136\n",
            "Epoch 25/100\n",
            "9/9 [==============================] - 0s 11ms/step - loss: 0.2950 - binary_accuracy: 0.8817 - val_loss: 0.9525 - val_binary_accuracy: 0.6136\n",
            "Epoch 26/100\n",
            "9/9 [==============================] - 0s 8ms/step - loss: 0.2867 - binary_accuracy: 0.8855 - val_loss: 0.9440 - val_binary_accuracy: 0.6136\n",
            "Epoch 27/100\n",
            "9/9 [==============================] - 0s 8ms/step - loss: 0.2788 - binary_accuracy: 0.8969 - val_loss: 0.9484 - val_binary_accuracy: 0.6023\n",
            "Epoch 28/100\n",
            "9/9 [==============================] - 0s 10ms/step - loss: 0.2695 - binary_accuracy: 0.8855 - val_loss: 0.9439 - val_binary_accuracy: 0.6136\n",
            "Epoch 29/100\n",
            "9/9 [==============================] - 0s 8ms/step - loss: 0.2594 - binary_accuracy: 0.9046 - val_loss: 0.9415 - val_binary_accuracy: 0.6136\n",
            "Epoch 30/100\n",
            "9/9 [==============================] - 0s 8ms/step - loss: 0.2515 - binary_accuracy: 0.8969 - val_loss: 0.9267 - val_binary_accuracy: 0.6136\n",
            "Epoch 31/100\n",
            "9/9 [==============================] - 0s 8ms/step - loss: 0.2449 - binary_accuracy: 0.8931 - val_loss: 0.9256 - val_binary_accuracy: 0.6023\n",
            "Epoch 32/100\n",
            "9/9 [==============================] - 0s 10ms/step - loss: 0.2392 - binary_accuracy: 0.9198 - val_loss: 0.9351 - val_binary_accuracy: 0.6136\n",
            "Epoch 33/100\n",
            "9/9 [==============================] - 0s 10ms/step - loss: 0.2330 - binary_accuracy: 0.9237 - val_loss: 0.9360 - val_binary_accuracy: 0.6136\n",
            "Epoch 34/100\n",
            "9/9 [==============================] - 0s 10ms/step - loss: 0.2266 - binary_accuracy: 0.9198 - val_loss: 0.9306 - val_binary_accuracy: 0.6250\n",
            "Epoch 35/100\n",
            "9/9 [==============================] - 0s 7ms/step - loss: 0.2199 - binary_accuracy: 0.9237 - val_loss: 0.9231 - val_binary_accuracy: 0.6136\n",
            "Epoch 36/100\n",
            "9/9 [==============================] - 0s 8ms/step - loss: 0.2146 - binary_accuracy: 0.9313 - val_loss: 0.9167 - val_binary_accuracy: 0.6136\n",
            "Epoch 37/100\n",
            "9/9 [==============================] - 0s 8ms/step - loss: 0.2094 - binary_accuracy: 0.9427 - val_loss: 0.9155 - val_binary_accuracy: 0.6136\n",
            "Epoch 38/100\n",
            "9/9 [==============================] - 0s 9ms/step - loss: 0.2048 - binary_accuracy: 0.9466 - val_loss: 0.9114 - val_binary_accuracy: 0.6250\n",
            "Epoch 39/100\n",
            "9/9 [==============================] - 0s 8ms/step - loss: 0.2001 - binary_accuracy: 0.9504 - val_loss: 0.9133 - val_binary_accuracy: 0.6364\n",
            "Epoch 40/100\n",
            "9/9 [==============================] - 0s 8ms/step - loss: 0.1960 - binary_accuracy: 0.9542 - val_loss: 0.9140 - val_binary_accuracy: 0.6364\n",
            "Epoch 41/100\n",
            "9/9 [==============================] - 0s 8ms/step - loss: 0.1933 - binary_accuracy: 0.9542 - val_loss: 0.9135 - val_binary_accuracy: 0.6477\n",
            "Epoch 42/100\n",
            "9/9 [==============================] - 0s 8ms/step - loss: 0.1895 - binary_accuracy: 0.9542 - val_loss: 0.9130 - val_binary_accuracy: 0.6477\n",
            "Epoch 43/100\n",
            "9/9 [==============================] - 0s 10ms/step - loss: 0.1890 - binary_accuracy: 0.9466 - val_loss: 0.9250 - val_binary_accuracy: 0.6591\n",
            "Epoch 44/100\n",
            "9/9 [==============================] - 0s 8ms/step - loss: 0.1869 - binary_accuracy: 0.9504 - val_loss: 0.9256 - val_binary_accuracy: 0.6477\n",
            "Epoch 45/100\n",
            "9/9 [==============================] - 0s 9ms/step - loss: 0.1800 - binary_accuracy: 0.9504 - val_loss: 0.9171 - val_binary_accuracy: 0.6250\n",
            "Epoch 46/100\n",
            "9/9 [==============================] - 0s 12ms/step - loss: 0.1740 - binary_accuracy: 0.9542 - val_loss: 0.9077 - val_binary_accuracy: 0.6364\n",
            "Epoch 47/100\n",
            "9/9 [==============================] - 0s 8ms/step - loss: 0.1733 - binary_accuracy: 0.9542 - val_loss: 0.9045 - val_binary_accuracy: 0.6364\n",
            "Epoch 48/100\n",
            "9/9 [==============================] - 0s 8ms/step - loss: 0.1699 - binary_accuracy: 0.9542 - val_loss: 0.9120 - val_binary_accuracy: 0.6364\n",
            "Epoch 49/100\n",
            "9/9 [==============================] - 0s 8ms/step - loss: 0.1673 - binary_accuracy: 0.9580 - val_loss: 0.9162 - val_binary_accuracy: 0.6364\n",
            "Epoch 50/100\n",
            "9/9 [==============================] - 0s 9ms/step - loss: 0.1632 - binary_accuracy: 0.9656 - val_loss: 0.9114 - val_binary_accuracy: 0.6364\n",
            "Epoch 51/100\n",
            "9/9 [==============================] - 0s 8ms/step - loss: 0.1600 - binary_accuracy: 0.9656 - val_loss: 0.9141 - val_binary_accuracy: 0.6364\n",
            "Epoch 52/100\n",
            "9/9 [==============================] - 0s 10ms/step - loss: 0.1567 - binary_accuracy: 0.9656 - val_loss: 0.9111 - val_binary_accuracy: 0.6364\n",
            "Epoch 53/100\n",
            "9/9 [==============================] - 0s 9ms/step - loss: 0.1551 - binary_accuracy: 0.9656 - val_loss: 0.9087 - val_binary_accuracy: 0.6364\n",
            "Epoch 54/100\n",
            "9/9 [==============================] - 0s 8ms/step - loss: 0.1516 - binary_accuracy: 0.9656 - val_loss: 0.9155 - val_binary_accuracy: 0.6364\n",
            "Epoch 55/100\n",
            "9/9 [==============================] - 0s 8ms/step - loss: 0.1499 - binary_accuracy: 0.9618 - val_loss: 0.9175 - val_binary_accuracy: 0.6364\n",
            "Epoch 56/100\n",
            "9/9 [==============================] - 0s 11ms/step - loss: 0.1482 - binary_accuracy: 0.9656 - val_loss: 0.9197 - val_binary_accuracy: 0.6364\n",
            "Epoch 57/100\n",
            "9/9 [==============================] - 0s 8ms/step - loss: 0.1449 - binary_accuracy: 0.9695 - val_loss: 0.9230 - val_binary_accuracy: 0.6250\n",
            "Epoch 58/100\n",
            "9/9 [==============================] - 0s 8ms/step - loss: 0.1428 - binary_accuracy: 0.9733 - val_loss: 0.9273 - val_binary_accuracy: 0.6250\n",
            "Epoch 59/100\n",
            "9/9 [==============================] - 0s 9ms/step - loss: 0.1397 - binary_accuracy: 0.9771 - val_loss: 0.9294 - val_binary_accuracy: 0.6250\n",
            "Epoch 60/100\n",
            "9/9 [==============================] - 0s 8ms/step - loss: 0.1375 - binary_accuracy: 0.9733 - val_loss: 0.9288 - val_binary_accuracy: 0.6364\n",
            "Epoch 61/100\n",
            "9/9 [==============================] - 0s 9ms/step - loss: 0.1347 - binary_accuracy: 0.9733 - val_loss: 0.9297 - val_binary_accuracy: 0.6364\n",
            "Epoch 62/100\n",
            "9/9 [==============================] - 0s 9ms/step - loss: 0.1324 - binary_accuracy: 0.9656 - val_loss: 0.9265 - val_binary_accuracy: 0.6364\n",
            "Epoch 62: early stopping\n"
          ]
        },
        {
          "output_type": "execute_result",
          "data": {
            "text/plain": [
              "KerasClassifier(\n",
              "\tmodel=<keras.engine.functional.Functional object at 0x7905a1139cf0>\n",
              "\tbuild_fn=None\n",
              "\twarm_start=False\n",
              "\trandom_state=0\n",
              "\toptimizer=rmsprop\n",
              "\tloss=None\n",
              "\tmetrics=None\n",
              "\tbatch_size=None\n",
              "\tvalidation_batch_size=None\n",
              "\tverbose=1\n",
              "\tcallbacks=<keras.callbacks.EarlyStopping object at 0x7905a09f38b0>\n",
              "\tvalidation_split=0.0\n",
              "\tshuffle=True\n",
              "\trun_eagerly=False\n",
              "\tepochs=1\n",
              "\tclass_weight=None\n",
              ")"
            ],
            "text/html": [
              "<style>#sk-container-id-15 {color: black;background-color: white;}#sk-container-id-15 pre{padding: 0;}#sk-container-id-15 div.sk-toggleable {background-color: white;}#sk-container-id-15 label.sk-toggleable__label {cursor: pointer;display: block;width: 100%;margin-bottom: 0;padding: 0.3em;box-sizing: border-box;text-align: center;}#sk-container-id-15 label.sk-toggleable__label-arrow:before {content: \"▸\";float: left;margin-right: 0.25em;color: #696969;}#sk-container-id-15 label.sk-toggleable__label-arrow:hover:before {color: black;}#sk-container-id-15 div.sk-estimator:hover label.sk-toggleable__label-arrow:before {color: black;}#sk-container-id-15 div.sk-toggleable__content {max-height: 0;max-width: 0;overflow: hidden;text-align: left;background-color: #f0f8ff;}#sk-container-id-15 div.sk-toggleable__content pre {margin: 0.2em;color: black;border-radius: 0.25em;background-color: #f0f8ff;}#sk-container-id-15 input.sk-toggleable__control:checked~div.sk-toggleable__content {max-height: 200px;max-width: 100%;overflow: auto;}#sk-container-id-15 input.sk-toggleable__control:checked~label.sk-toggleable__label-arrow:before {content: \"▾\";}#sk-container-id-15 div.sk-estimator input.sk-toggleable__control:checked~label.sk-toggleable__label {background-color: #d4ebff;}#sk-container-id-15 div.sk-label input.sk-toggleable__control:checked~label.sk-toggleable__label {background-color: #d4ebff;}#sk-container-id-15 input.sk-hidden--visually {border: 0;clip: rect(1px 1px 1px 1px);clip: rect(1px, 1px, 1px, 1px);height: 1px;margin: -1px;overflow: hidden;padding: 0;position: absolute;width: 1px;}#sk-container-id-15 div.sk-estimator {font-family: monospace;background-color: #f0f8ff;border: 1px dotted black;border-radius: 0.25em;box-sizing: border-box;margin-bottom: 0.5em;}#sk-container-id-15 div.sk-estimator:hover {background-color: #d4ebff;}#sk-container-id-15 div.sk-parallel-item::after {content: \"\";width: 100%;border-bottom: 1px solid gray;flex-grow: 1;}#sk-container-id-15 div.sk-label:hover label.sk-toggleable__label {background-color: #d4ebff;}#sk-container-id-15 div.sk-serial::before {content: \"\";position: absolute;border-left: 1px solid gray;box-sizing: border-box;top: 0;bottom: 0;left: 50%;z-index: 0;}#sk-container-id-15 div.sk-serial {display: flex;flex-direction: column;align-items: center;background-color: white;padding-right: 0.2em;padding-left: 0.2em;position: relative;}#sk-container-id-15 div.sk-item {position: relative;z-index: 1;}#sk-container-id-15 div.sk-parallel {display: flex;align-items: stretch;justify-content: center;background-color: white;position: relative;}#sk-container-id-15 div.sk-item::before, #sk-container-id-15 div.sk-parallel-item::before {content: \"\";position: absolute;border-left: 1px solid gray;box-sizing: border-box;top: 0;bottom: 0;left: 50%;z-index: -1;}#sk-container-id-15 div.sk-parallel-item {display: flex;flex-direction: column;z-index: 1;position: relative;background-color: white;}#sk-container-id-15 div.sk-parallel-item:first-child::after {align-self: flex-end;width: 50%;}#sk-container-id-15 div.sk-parallel-item:last-child::after {align-self: flex-start;width: 50%;}#sk-container-id-15 div.sk-parallel-item:only-child::after {width: 0;}#sk-container-id-15 div.sk-dashed-wrapped {border: 1px dashed gray;margin: 0 0.4em 0.5em 0.4em;box-sizing: border-box;padding-bottom: 0.4em;background-color: white;}#sk-container-id-15 div.sk-label label {font-family: monospace;font-weight: bold;display: inline-block;line-height: 1.2em;}#sk-container-id-15 div.sk-label-container {text-align: center;}#sk-container-id-15 div.sk-container {/* jupyter's `normalize.less` sets `[hidden] { display: none; }` but bootstrap.min.css set `[hidden] { display: none !important; }` so we also need the `!important` here to be able to override the default hidden behavior on the sphinx rendered scikit-learn.org. See: https://github.com/scikit-learn/scikit-learn/issues/21755 */display: inline-block !important;position: relative;}#sk-container-id-15 div.sk-text-repr-fallback {display: none;}</style><div id=\"sk-container-id-15\" class=\"sk-top-container\"><div class=\"sk-text-repr-fallback\"><pre>KerasClassifier(\n",
              "\tmodel=&lt;keras.engine.functional.Functional object at 0x7905a1139cf0&gt;\n",
              "\tbuild_fn=None\n",
              "\twarm_start=False\n",
              "\trandom_state=0\n",
              "\toptimizer=rmsprop\n",
              "\tloss=None\n",
              "\tmetrics=None\n",
              "\tbatch_size=None\n",
              "\tvalidation_batch_size=None\n",
              "\tverbose=1\n",
              "\tcallbacks=&lt;keras.callbacks.EarlyStopping object at 0x7905a09f38b0&gt;\n",
              "\tvalidation_split=0.0\n",
              "\tshuffle=True\n",
              "\trun_eagerly=False\n",
              "\tepochs=1\n",
              "\tclass_weight=None\n",
              ")</pre><b>In a Jupyter environment, please rerun this cell to show the HTML representation or trust the notebook. <br />On GitHub, the HTML representation is unable to render, please try loading this page with nbviewer.org.</b></div><div class=\"sk-container\" hidden><div class=\"sk-item\"><div class=\"sk-estimator sk-toggleable\"><input class=\"sk-toggleable__control sk-hidden--visually\" id=\"sk-estimator-id-19\" type=\"checkbox\" checked><label for=\"sk-estimator-id-19\" class=\"sk-toggleable__label sk-toggleable__label-arrow\">KerasClassifier</label><div class=\"sk-toggleable__content\"><pre>KerasClassifier(\n",
              "\tmodel=&lt;keras.engine.functional.Functional object at 0x7905a1139cf0&gt;\n",
              "\tbuild_fn=None\n",
              "\twarm_start=False\n",
              "\trandom_state=0\n",
              "\toptimizer=rmsprop\n",
              "\tloss=None\n",
              "\tmetrics=None\n",
              "\tbatch_size=None\n",
              "\tvalidation_batch_size=None\n",
              "\tverbose=1\n",
              "\tcallbacks=&lt;keras.callbacks.EarlyStopping object at 0x7905a09f38b0&gt;\n",
              "\tvalidation_split=0.0\n",
              "\tshuffle=True\n",
              "\trun_eagerly=False\n",
              "\tepochs=1\n",
              "\tclass_weight=None\n",
              ")</pre></div></div></div></div></div>"
            ]
          },
          "metadata": {},
          "execution_count": 235
        }
      ]
    },
    {
      "cell_type": "code",
      "source": [
        "pred_new2 = classifier_new.predict(X_test)"
      ],
      "metadata": {
        "id": "RkJpbhLD6XGc",
        "colab": {
          "base_uri": "https://localhost:8080/"
        },
        "outputId": "2b497c7f-a229-4ebf-977f-781b55f30eeb"
      },
      "execution_count": 236,
      "outputs": [
        {
          "output_type": "stream",
          "name": "stdout",
          "text": [
            "3/3 [==============================] - 0s 4ms/step\n"
          ]
        }
      ]
    },
    {
      "cell_type": "code",
      "source": [
        "print(classification_report(y_test, pred_new2))"
      ],
      "metadata": {
        "id": "4SqUrZAF6djj",
        "colab": {
          "base_uri": "https://localhost:8080/"
        },
        "outputId": "4058532e-319e-4066-92a7-c81a54d57d02"
      },
      "execution_count": 237,
      "outputs": [
        {
          "output_type": "stream",
          "name": "stdout",
          "text": [
            "              precision    recall  f1-score   support\n",
            "\n",
            "         0.0       0.42      0.38      0.40        29\n",
            "         1.0       0.71      0.75      0.73        59\n",
            "\n",
            "    accuracy                           0.62        88\n",
            "   macro avg       0.57      0.56      0.56        88\n",
            "weighted avg       0.62      0.62      0.62        88\n",
            "\n"
          ]
        }
      ]
    },
    {
      "cell_type": "code",
      "source": [
        "history=classifier_new.history_"
      ],
      "metadata": {
        "id": "mvyJzipXJgxs"
      },
      "execution_count": 238,
      "outputs": []
    },
    {
      "cell_type": "code",
      "source": [
        "if 'binary_accuracy' in history:\n",
        "    ac_train = history['binary_accuracy']\n",
        "    ac_val = history['val_binary_accuracy']\n",
        "elif 'acc' in history:\n",
        "    ac_train = history['acc']\n",
        "    ac_val = history['val_acc']\n",
        "else:\n",
        "    raise ValueError(\"History object doesn't contain accuracy record\")\n",
        "\n",
        "epoch = np.arange(len(ac_train)) + 1"
      ],
      "metadata": {
        "id": "izyACN93J_RP"
      },
      "execution_count": 239,
      "outputs": []
    },
    {
      "cell_type": "code",
      "source": [
        "plt.plot(epoch, ac_train, label=\"train\")\n",
        "plt.plot(epoch, ac_val, label=\"validation\")\n",
        "plt.xlabel(\"Epoch\")\n",
        "plt.ylabel(\"Accuracy\")\n",
        "plt.legend()\n",
        "plt.show()"
      ],
      "metadata": {
        "id": "O9Lyd2sLKBHN",
        "colab": {
          "base_uri": "https://localhost:8080/",
          "height": 454
        },
        "outputId": "ba0b60a6-1e55-4a5e-d65a-d0795b841ca4"
      },
      "execution_count": 240,
      "outputs": [
        {
          "output_type": "display_data",
          "data": {
            "text/plain": [
              "<Figure size 640x480 with 1 Axes>"
            ],
            "image/png": "[encoded data removed]"
          },
          "metadata": {}
        }
      ]
    },
    {
      "cell_type": "code",
      "source": [
        "if 'loss' in history:\n",
        "    train_loos = history['loss']\n",
        "    val_loss = history['val_loss']\n",
        "\n",
        "else:\n",
        "    raise ValueError(\"History object doesn't contain accuracy record\")\n",
        "\n",
        "epoch = np.arange(len(ac_train)) + 1"
      ],
      "metadata": {
        "id": "ppOKSVddNiHM"
      },
      "execution_count": 241,
      "outputs": []
    },
    {
      "cell_type": "code",
      "source": [
        "plt.plot(epoch, train_loos, label='Training Loss')\n",
        "plt.plot(epoch, val_loss, label='Validation Loss')\n",
        "# Add in a title and axes labels\n",
        "plt.title('Training and Validation Loss')\n",
        "plt.xlabel('Epochs')\n",
        "plt.ylabel('Loss')\n",
        "#plt.xticks(arange(0, 21, 2))\n",
        "\n",
        "# Display the plot\n",
        "plt.legend(loc='best')\n",
        "plt.show()"
      ],
      "metadata": {
        "id": "3Cy8nA0KL8ct",
        "colab": {
          "base_uri": "https://localhost:8080/",
          "height": 472
        },
        "outputId": "af2b0af8-6704-45a6-f0b0-3734b2ba73c3"
      },
      "execution_count": 242,
      "outputs": [
        {
          "output_type": "display_data",
          "data": {
            "text/plain": [
              "<Figure size 640x480 with 1 Axes>"
            ],
            "image/png": "[encoded data removed]"
          },
          "metadata": {}
        }
      ]
    },
    {
      "cell_type": "code",
      "execution_count": 243,
      "metadata": {
        "id": "ofvNNQw_0_uR",
        "colab": {
          "base_uri": "https://localhost:8080/"
        },
        "outputId": "0464caf4-529d-4d8c-f117-b490cc93fec5"
      },
      "outputs": [
        {
          "output_type": "stream",
          "name": "stdout",
          "text": [
            "3/3 [==============================] - 0s 4ms/step\n",
            "El error (fbeta) de test es: 0.7342747111681643\n"
          ]
        }
      ],
      "source": [
        "# Error de test del modelo final\n",
        "# ==============================================================================\n",
        "modelo_final = classifier_new\n",
        "predicciones = modelo_final.predict(X = X_test)\n",
        "fbeta_dt = fbeta_score(\n",
        "        y_true = y_test,\n",
        "        y_pred = predicciones,\n",
        "        beta=1.5\n",
        "       )\n",
        "\n",
        "print(f\"El error (fbeta) de test es: {fbeta_dt}\")"
      ]
    },
    {
      "cell_type": "code",
      "execution_count": 244,
      "metadata": {
        "id": "KcI38w46mXkw",
        "colab": {
          "base_uri": "https://localhost:8080/"
        },
        "outputId": "74f39d12-c574-4c55-df94-e94f9b99d700"
      },
      "outputs": [
        {
          "output_type": "stream",
          "name": "stdout",
          "text": [
            "3/3 [==============================] - 0s 4ms/step\n",
            "El error (fbeta) de test es: 0.7272727272727273\n"
          ]
        }
      ],
      "source": [
        "# Error de test del modelo final\n",
        "# ==============================================================================\n",
        "modelo_final = classifier_new\n",
        "predicciones = modelo_final.predict(X = X_test)\n",
        "fbeta_adb = fbeta_score(\n",
        "        y_true = y_test,\n",
        "        y_pred = predicciones,\n",
        "        beta=1\n",
        "       )\n",
        "\n",
        "print(f\"El error (fbeta) de test es: {fbeta_adb}\")"
      ]
    },
    {
      "cell_type": "code",
      "execution_count": 245,
      "metadata": {
        "id": "v2LmWnO13ztA",
        "colab": {
          "base_uri": "https://localhost:8080/"
        },
        "outputId": "e74809b8-3f72-4fd4-b3c9-daf202d2e071"
      },
      "outputs": [
        {
          "output_type": "stream",
          "name": "stdout",
          "text": [
            "3/3 [==============================] - 0s 4ms/step\n",
            "El error (fbeta) de test es: 0.738255033557047\n"
          ]
        }
      ],
      "source": [
        "# Error de test del modelo final\n",
        "# ==============================================================================\n",
        "modelo_final = classifier_new\n",
        "predicciones = modelo_final.predict(X = X_test)\n",
        "fbeta_adb = fbeta_score(\n",
        "        y_true = y_test,\n",
        "        y_pred = predicciones,\n",
        "        beta=2\n",
        "       )\n",
        "\n",
        "print(f\"El error (fbeta) de test es: {fbeta_adb}\")"
      ]
    },
    {
      "cell_type": "code",
      "execution_count": 246,
      "metadata": {
        "id": "TLFPkSGzvZPG",
        "colab": {
          "base_uri": "https://localhost:8080/"
        },
        "outputId": "3780d4a5-bb3a-48a9-cafa-2b2b72d900aa"
      },
      "outputs": [
        {
          "output_type": "stream",
          "name": "stdout",
          "text": [
            "3/3 [==============================] - 0s 4ms/step\n",
            "El error (fbeta) de test es: 0.7166123778501629\n"
          ]
        }
      ],
      "source": [
        "modelo_final = classifier_new\n",
        "predicciones = modelo_final.predict(X = X_test)\n",
        "fbeta_dt = fbeta_score(\n",
        "        y_true = y_test,\n",
        "        y_pred = predicciones,\n",
        "        beta=0.5\n",
        "       )\n",
        "\n",
        "print(f\"El error (fbeta) de test es: {fbeta_dt}\")"
      ]
    },
    {
      "cell_type": "code",
      "execution_count": 247,
      "metadata": {
        "id": "LC9wKW0Fveu9",
        "colab": {
          "base_uri": "https://localhost:8080/"
        },
        "outputId": "e74e6bef-1bdf-4c4b-e1a2-f2682f969d17"
      },
      "outputs": [
        {
          "output_type": "stream",
          "name": "stdout",
          "text": [
            "3/3 [==============================] - 0s 4ms/step\n",
            "El error (fbeta) de test es: 0.7096774193548387\n"
          ]
        }
      ],
      "source": [
        "modelo_final = classifier_new\n",
        "predicciones = modelo_final.predict(X = X_test)\n",
        "fbeta_dt = fbeta_score(\n",
        "        y_true = y_test,\n",
        "        y_pred = predicciones,\n",
        "        beta=0\n",
        "       )\n",
        "\n",
        "print(f\"El error (fbeta) de test es: {fbeta_dt}\")"
      ]
    },
    {
      "cell_type": "code",
      "execution_count": 248,
      "metadata": {
        "id": "k7IBJp0ZZQcV",
        "colab": {
          "base_uri": "https://localhost:8080/"
        },
        "outputId": "58c63cc6-49ea-4a61-cb58-b107d124522f"
      },
      "outputs": [
        {
          "output_type": "stream",
          "name": "stdout",
          "text": [
            "3/3 [==============================] - 0s 4ms/step\n",
            "              precision    recall  f1-score   support\n",
            "\n",
            "         0.0       0.42      0.38      0.40        29\n",
            "         1.0       0.71      0.75      0.73        59\n",
            "\n",
            "    accuracy                           0.62        88\n",
            "   macro avg       0.57      0.56      0.56        88\n",
            "weighted avg       0.62      0.62      0.62        88\n",
            "\n"
          ]
        }
      ],
      "source": [
        "y_pred = modelo_final.predict(X_test)\n",
        "print(classification_report(y_test, y_pred))"
      ]
    },
    {
      "cell_type": "code",
      "execution_count": 249,
      "metadata": {
        "id": "lOiZ81fuvE8X",
        "colab": {
          "base_uri": "https://localhost:8080/"
        },
        "outputId": "5a68fe45-0794-497f-c326-c578567a70f7"
      },
      "outputs": [
        {
          "output_type": "stream",
          "name": "stdout",
          "text": [
            "3/3 [==============================] - 0s 4ms/step\n",
            "0.7423442029093071\n"
          ]
        }
      ],
      "source": [
        "y_scores = classifier_new.predict_proba(X_test)[:, 1]\n",
        "print(average_precision_score(y_test, y_scores, average='macro'))"
      ]
    },
    {
      "cell_type": "code",
      "execution_count": 250,
      "metadata": {
        "id": "_7v1GC1k_xhw",
        "colab": {
          "base_uri": "https://localhost:8080/"
        },
        "outputId": "f339c006-9e4c-425d-e538-9b5a18e0ec74"
      },
      "outputs": [
        {
          "output_type": "stream",
          "name": "stdout",
          "text": [
            "[0.7727822  0.98871684 0.10186919 0.9996055  0.00982419 0.96022403\n",
            " 0.58154273 0.9999894  0.9568512  0.99228144 0.998934   0.00520891\n",
            " 0.8209922  0.30295524 0.9997281  0.9987232  0.99513793 0.4152595\n",
            " 0.93354326 0.8801753  0.5542613  0.901313   0.47021306 0.06145228\n",
            " 0.9202013  0.5057586  0.9605946  0.9818001  0.9609195  0.6724849\n",
            " 0.9892629  0.5595563  0.24105734 0.9998841  0.01070592 0.01819131\n",
            " 0.9095184  0.9846235  0.7748772  0.9624595  0.99990743 0.20300856\n",
            " 0.998328   0.38054836 0.97469556 0.99593717 0.97860116 0.3068695\n",
            " 0.77057236 0.9913977  0.6842102  0.3317451  0.45868155 0.8991115\n",
            " 0.7243807  0.93345183 0.5277758  0.04616031 0.9921167  0.6097074\n",
            " 0.9999161  0.41277814 0.90245855 0.8124012  0.7416789  0.9603007\n",
            " 0.27849254 0.99988234 0.55933    0.9644216  0.97164327 0.9799259\n",
            " 0.954524   0.62717915 0.9434763  0.8204224  0.46300465 0.91719455\n",
            " 0.00319158 0.98469007 0.46158978 0.00445224 0.04747652 0.3200007\n",
            " 0.98416966 0.87617093 0.20774396 0.11379807]\n"
          ]
        }
      ],
      "source": [
        "print(y_scores)"
      ]
    },
    {
      "cell_type": "code",
      "execution_count": 251,
      "metadata": {
        "id": "RNyKV8Ea4BzX",
        "colab": {
          "base_uri": "https://localhost:8080/"
        },
        "outputId": "4dc6918c-82eb-4642-ecf8-6f192f715860"
      },
      "outputs": [
        {
          "output_type": "stream",
          "name": "stdout",
          "text": [
            "NDCG Score: 0.8949\n"
          ]
        }
      ],
      "source": [
        "ndcg = ndcg_score(y_test.values.reshape(1, -1), [y_scores])\n",
        "print(f\"NDCG Score: {ndcg:.4f}\")"
      ]
    },
    {
      "cell_type": "code",
      "execution_count": 252,
      "metadata": {
        "id": "IWjA9Ko3C6zN",
        "colab": {
          "base_uri": "https://localhost:8080/",
          "height": 569
        },
        "outputId": "48d15caa-7186-4ade-a014-360862737acf"
      },
      "outputs": [
        {
          "output_type": "execute_result",
          "data": {
            "text/plain": [
              "Text(0.5, 427.9555555555555, 'Predicted label')"
            ]
          },
          "metadata": {},
          "execution_count": 252
        },
        {
          "output_type": "display_data",
          "data": {
            "text/plain": [
              "<Figure size 640x480 with 2 Axes>"
            ],
            "image/png": "[encoded data removed]"
          },
          "metadata": {}
        }
      ],
      "source": [
        "class_names=[0,1] # name  of classes\n",
        "fig, ax = plt.subplots()\n",
        "tick_marks = np.arange(len(class_names))\n",
        "plt.xticks(tick_marks, class_names)\n",
        "plt.yticks(tick_marks, class_names)\n",
        "# create heatmap\n",
        "sns.heatmap(pd.DataFrame(confusion_matrix( y_test, pred_new2)), annot=True, cmap=\"YlGnBu\" ,fmt='g')\n",
        "ax.xaxis.set_label_position(\"top\")\n",
        "plt.tight_layout()\n",
        "plt.title('Confusion matrix', y=1.1)\n",
        "plt.ylabel('Actual label')\n",
        "plt.xlabel('Predicted label')"
      ]
    },
    {
      "cell_type": "markdown",
      "metadata": {
        "id": "E-AJHBvvYrpq"
      },
      "source": []
    },
    {
      "cell_type": "markdown",
      "metadata": {
        "id": "MnARYjB9NjTn"
      },
      "source": [
        "###Roc Curve"
      ]
    },
    {
      "cell_type": "code",
      "execution_count": 253,
      "metadata": {
        "id": "IwRJuU2sNjTo",
        "colab": {
          "base_uri": "https://localhost:8080/"
        },
        "outputId": "e5341a52-5fb4-478f-9180-05585a85510a"
      },
      "outputs": [
        {
          "output_type": "stream",
          "name": "stdout",
          "text": [
            "3/3 [==============================] - 0s 4ms/step\n"
          ]
        }
      ],
      "source": [
        "# Predict probabilities for the test set\n",
        "y_pred_probs = classifier_new.predict_proba(X_test)[:, 1]"
      ]
    },
    {
      "cell_type": "code",
      "execution_count": 254,
      "metadata": {
        "id": "vdOL3ZSlNjTp"
      },
      "outputs": [],
      "source": [
        "# Compute ROC curve and AUC score\n",
        "fpr, tpr, thresholds = roc_curve(y_test, y_pred_probs)\n",
        "roc_auc = roc_auc_score(y_test, y_pred_probs)\n"
      ]
    },
    {
      "cell_type": "code",
      "execution_count": 255,
      "metadata": {
        "id": "eTdPgdg1NjTr",
        "colab": {
          "base_uri": "https://localhost:8080/",
          "height": 582
        },
        "outputId": "779e3e6b-68c3-40f3-ad2f-caf0449c59b1"
      },
      "outputs": [
        {
          "output_type": "display_data",
          "data": {
            "text/plain": [
              "<Figure size 800x600 with 1 Axes>"
            ],
            "image/png": "[encoded data removed]"
          },
          "metadata": {}
        },
        {
          "output_type": "stream",
          "name": "stdout",
          "text": [
            "ROC AUC score: 0.5949736995908825\n"
          ]
        }
      ],
      "source": [
        "# Plot ROC curve\n",
        "plt.figure(figsize=(8, 6))\n",
        "plt.plot(fpr, tpr, label='ROC curve (AUC = %0.2f)' % roc_auc)\n",
        "plt.plot([0, 1], [0, 1], 'k--')\n",
        "plt.xlim([0.0, 1.0])\n",
        "plt.ylim([0.0, 1.05])\n",
        "plt.xlabel('False Positive Rate')\n",
        "plt.ylabel('True Positive Rate')\n",
        "plt.title('Receiver Operating Characteristic')\n",
        "plt.legend(loc=\"lower right\")\n",
        "plt.show()\n",
        "\n",
        "# Print ROC AUC score\n",
        "print(\"ROC AUC score:\", roc_auc)"
      ]
    }
  ],
  "metadata": {
    "colab": {
      "provenance": [],
      "authorship_tag": "ABX9TyP2UD8S/S2PZTnFH/DHJgYM",
      "include_colab_link": true
    },
    "kernelspec": {
      "display_name": "Python 3",
      "name": "python3"
    },
    "language_info": {
      "name": "python"
    }
  },
  "nbformat": 4,
  "nbformat_minor": 0
}